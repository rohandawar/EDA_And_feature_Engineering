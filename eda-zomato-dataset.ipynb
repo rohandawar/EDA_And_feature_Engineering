{
 "cells": [
  {
   "cell_type": "code",
   "execution_count": 1,
   "id": "27c9017f",
   "metadata": {
    "_cell_guid": "b1076dfc-b9ad-4769-8c92-a6c4dae69d19",
    "_uuid": "8f2839f25d086af736a60e9eeb907d3b93b6e0e5",
    "execution": {
     "iopub.execute_input": "2022-03-02T12:19:07.764319Z",
     "iopub.status.busy": "2022-03-02T12:19:07.763133Z",
     "iopub.status.idle": "2022-03-02T12:19:07.780690Z",
     "shell.execute_reply": "2022-03-02T12:19:07.781243Z",
     "shell.execute_reply.started": "2022-03-02T12:09:46.799868Z"
    },
    "papermill": {
     "duration": 0.043688,
     "end_time": "2022-03-02T12:19:07.781572",
     "exception": false,
     "start_time": "2022-03-02T12:19:07.737884",
     "status": "completed"
    },
    "tags": []
   },
   "outputs": [
    {
     "name": "stdout",
     "output_type": "stream",
     "text": [
      "/kaggle/input/zomato-dataset/zomato.csv\n",
      "/kaggle/input/zomato-dataset/Country-Code.xlsx\n"
     ]
    }
   ],
   "source": [
    "# This Python 3 environment comes with many helpful analytics libraries installed\n",
    "# It is defined by the kaggle/python Docker image: https://github.com/kaggle/docker-python\n",
    "# For example, here's several helpful packages to load\n",
    "\n",
    "import numpy as np # linear algebra\n",
    "import pandas as pd # data processing, CSV file I/O (e.g. pd.read_csv)\n",
    "\n",
    "# Input data files are available in the read-only \"../input/\" directory\n",
    "# For example, running this (by clicking run or pressing Shift+Enter) will list all files under the input directory\n",
    "\n",
    "import os\n",
    "for dirname, _, filenames in os.walk('/kaggle/input'):\n",
    "    for filename in filenames:\n",
    "        print(os.path.join(dirname, filename))\n",
    "\n",
    "# You can write up to 20GB to the current directory (/kaggle/working/) that gets preserved as output when you create a version using \"Save & Run All\" \n",
    "# You can also write temporary files to /kaggle/temp/, but they won't be saved outside of the current session"
   ]
  },
  {
   "cell_type": "code",
   "execution_count": 2,
   "id": "0e88f221",
   "metadata": {
    "execution": {
     "iopub.execute_input": "2022-03-02T12:19:07.826830Z",
     "iopub.status.busy": "2022-03-02T12:19:07.826165Z",
     "iopub.status.idle": "2022-03-02T12:19:08.937077Z",
     "shell.execute_reply": "2022-03-02T12:19:08.936406Z",
     "shell.execute_reply.started": "2022-03-02T12:09:46.841187Z"
    },
    "papermill": {
     "duration": 1.133926,
     "end_time": "2022-03-02T12:19:08.937224",
     "exception": false,
     "start_time": "2022-03-02T12:19:07.803298",
     "status": "completed"
    },
    "tags": []
   },
   "outputs": [],
   "source": [
    "import pandas as pd\n",
    "import numpy as np\n",
    "import matplotlib.pyplot as plt\n",
    "import seaborn as sns\n",
    "%matplotlib inline"
   ]
  },
  {
   "cell_type": "code",
   "execution_count": 3,
   "id": "d8801c29",
   "metadata": {
    "execution": {
     "iopub.execute_input": "2022-03-02T12:19:08.984268Z",
     "iopub.status.busy": "2022-03-02T12:19:08.981729Z",
     "iopub.status.idle": "2022-03-02T12:19:09.108074Z",
     "shell.execute_reply": "2022-03-02T12:19:09.108617Z",
     "shell.execute_reply.started": "2022-03-02T12:09:47.945337Z"
    },
    "papermill": {
     "duration": 0.150867,
     "end_time": "2022-03-02T12:19:09.108798",
     "exception": false,
     "start_time": "2022-03-02T12:19:08.957931",
     "status": "completed"
    },
    "tags": []
   },
   "outputs": [
    {
     "data": {
      "text/html": [
       "<div>\n",
       "<style scoped>\n",
       "    .dataframe tbody tr th:only-of-type {\n",
       "        vertical-align: middle;\n",
       "    }\n",
       "\n",
       "    .dataframe tbody tr th {\n",
       "        vertical-align: top;\n",
       "    }\n",
       "\n",
       "    .dataframe thead th {\n",
       "        text-align: right;\n",
       "    }\n",
       "</style>\n",
       "<table border=\"1\" class=\"dataframe\">\n",
       "  <thead>\n",
       "    <tr style=\"text-align: right;\">\n",
       "      <th></th>\n",
       "      <th>Restaurant ID</th>\n",
       "      <th>Restaurant Name</th>\n",
       "      <th>Country Code</th>\n",
       "      <th>City</th>\n",
       "      <th>Address</th>\n",
       "      <th>Locality</th>\n",
       "      <th>Locality Verbose</th>\n",
       "      <th>Longitude</th>\n",
       "      <th>Latitude</th>\n",
       "      <th>Cuisines</th>\n",
       "      <th>...</th>\n",
       "      <th>Currency</th>\n",
       "      <th>Has Table booking</th>\n",
       "      <th>Has Online delivery</th>\n",
       "      <th>Is delivering now</th>\n",
       "      <th>Switch to order menu</th>\n",
       "      <th>Price range</th>\n",
       "      <th>Aggregate rating</th>\n",
       "      <th>Rating color</th>\n",
       "      <th>Rating text</th>\n",
       "      <th>Votes</th>\n",
       "    </tr>\n",
       "  </thead>\n",
       "  <tbody>\n",
       "    <tr>\n",
       "      <th>0</th>\n",
       "      <td>6317637</td>\n",
       "      <td>Le Petit Souffle</td>\n",
       "      <td>162</td>\n",
       "      <td>Makati City</td>\n",
       "      <td>Third Floor, Century City Mall, Kalayaan Avenu...</td>\n",
       "      <td>Century City Mall, Poblacion, Makati City</td>\n",
       "      <td>Century City Mall, Poblacion, Makati City, Mak...</td>\n",
       "      <td>121.027535</td>\n",
       "      <td>14.565443</td>\n",
       "      <td>French, Japanese, Desserts</td>\n",
       "      <td>...</td>\n",
       "      <td>Botswana Pula(P)</td>\n",
       "      <td>Yes</td>\n",
       "      <td>No</td>\n",
       "      <td>No</td>\n",
       "      <td>No</td>\n",
       "      <td>3</td>\n",
       "      <td>4.8</td>\n",
       "      <td>Dark Green</td>\n",
       "      <td>Excellent</td>\n",
       "      <td>314</td>\n",
       "    </tr>\n",
       "    <tr>\n",
       "      <th>1</th>\n",
       "      <td>6304287</td>\n",
       "      <td>Izakaya Kikufuji</td>\n",
       "      <td>162</td>\n",
       "      <td>Makati City</td>\n",
       "      <td>Little Tokyo, 2277 Chino Roces Avenue, Legaspi...</td>\n",
       "      <td>Little Tokyo, Legaspi Village, Makati City</td>\n",
       "      <td>Little Tokyo, Legaspi Village, Makati City, Ma...</td>\n",
       "      <td>121.014101</td>\n",
       "      <td>14.553708</td>\n",
       "      <td>Japanese</td>\n",
       "      <td>...</td>\n",
       "      <td>Botswana Pula(P)</td>\n",
       "      <td>Yes</td>\n",
       "      <td>No</td>\n",
       "      <td>No</td>\n",
       "      <td>No</td>\n",
       "      <td>3</td>\n",
       "      <td>4.5</td>\n",
       "      <td>Dark Green</td>\n",
       "      <td>Excellent</td>\n",
       "      <td>591</td>\n",
       "    </tr>\n",
       "    <tr>\n",
       "      <th>2</th>\n",
       "      <td>6300002</td>\n",
       "      <td>Heat - Edsa Shangri-La</td>\n",
       "      <td>162</td>\n",
       "      <td>Mandaluyong City</td>\n",
       "      <td>Edsa Shangri-La, 1 Garden Way, Ortigas, Mandal...</td>\n",
       "      <td>Edsa Shangri-La, Ortigas, Mandaluyong City</td>\n",
       "      <td>Edsa Shangri-La, Ortigas, Mandaluyong City, Ma...</td>\n",
       "      <td>121.056831</td>\n",
       "      <td>14.581404</td>\n",
       "      <td>Seafood, Asian, Filipino, Indian</td>\n",
       "      <td>...</td>\n",
       "      <td>Botswana Pula(P)</td>\n",
       "      <td>Yes</td>\n",
       "      <td>No</td>\n",
       "      <td>No</td>\n",
       "      <td>No</td>\n",
       "      <td>4</td>\n",
       "      <td>4.4</td>\n",
       "      <td>Green</td>\n",
       "      <td>Very Good</td>\n",
       "      <td>270</td>\n",
       "    </tr>\n",
       "    <tr>\n",
       "      <th>3</th>\n",
       "      <td>6318506</td>\n",
       "      <td>Ooma</td>\n",
       "      <td>162</td>\n",
       "      <td>Mandaluyong City</td>\n",
       "      <td>Third Floor, Mega Fashion Hall, SM Megamall, O...</td>\n",
       "      <td>SM Megamall, Ortigas, Mandaluyong City</td>\n",
       "      <td>SM Megamall, Ortigas, Mandaluyong City, Mandal...</td>\n",
       "      <td>121.056475</td>\n",
       "      <td>14.585318</td>\n",
       "      <td>Japanese, Sushi</td>\n",
       "      <td>...</td>\n",
       "      <td>Botswana Pula(P)</td>\n",
       "      <td>No</td>\n",
       "      <td>No</td>\n",
       "      <td>No</td>\n",
       "      <td>No</td>\n",
       "      <td>4</td>\n",
       "      <td>4.9</td>\n",
       "      <td>Dark Green</td>\n",
       "      <td>Excellent</td>\n",
       "      <td>365</td>\n",
       "    </tr>\n",
       "    <tr>\n",
       "      <th>4</th>\n",
       "      <td>6314302</td>\n",
       "      <td>Sambo Kojin</td>\n",
       "      <td>162</td>\n",
       "      <td>Mandaluyong City</td>\n",
       "      <td>Third Floor, Mega Atrium, SM Megamall, Ortigas...</td>\n",
       "      <td>SM Megamall, Ortigas, Mandaluyong City</td>\n",
       "      <td>SM Megamall, Ortigas, Mandaluyong City, Mandal...</td>\n",
       "      <td>121.057508</td>\n",
       "      <td>14.584450</td>\n",
       "      <td>Japanese, Korean</td>\n",
       "      <td>...</td>\n",
       "      <td>Botswana Pula(P)</td>\n",
       "      <td>Yes</td>\n",
       "      <td>No</td>\n",
       "      <td>No</td>\n",
       "      <td>No</td>\n",
       "      <td>4</td>\n",
       "      <td>4.8</td>\n",
       "      <td>Dark Green</td>\n",
       "      <td>Excellent</td>\n",
       "      <td>229</td>\n",
       "    </tr>\n",
       "  </tbody>\n",
       "</table>\n",
       "<p>5 rows × 21 columns</p>\n",
       "</div>"
      ],
      "text/plain": [
       "   Restaurant ID         Restaurant Name  Country Code              City  \\\n",
       "0        6317637        Le Petit Souffle           162       Makati City   \n",
       "1        6304287        Izakaya Kikufuji           162       Makati City   \n",
       "2        6300002  Heat - Edsa Shangri-La           162  Mandaluyong City   \n",
       "3        6318506                    Ooma           162  Mandaluyong City   \n",
       "4        6314302             Sambo Kojin           162  Mandaluyong City   \n",
       "\n",
       "                                             Address  \\\n",
       "0  Third Floor, Century City Mall, Kalayaan Avenu...   \n",
       "1  Little Tokyo, 2277 Chino Roces Avenue, Legaspi...   \n",
       "2  Edsa Shangri-La, 1 Garden Way, Ortigas, Mandal...   \n",
       "3  Third Floor, Mega Fashion Hall, SM Megamall, O...   \n",
       "4  Third Floor, Mega Atrium, SM Megamall, Ortigas...   \n",
       "\n",
       "                                     Locality  \\\n",
       "0   Century City Mall, Poblacion, Makati City   \n",
       "1  Little Tokyo, Legaspi Village, Makati City   \n",
       "2  Edsa Shangri-La, Ortigas, Mandaluyong City   \n",
       "3      SM Megamall, Ortigas, Mandaluyong City   \n",
       "4      SM Megamall, Ortigas, Mandaluyong City   \n",
       "\n",
       "                                    Locality Verbose   Longitude   Latitude  \\\n",
       "0  Century City Mall, Poblacion, Makati City, Mak...  121.027535  14.565443   \n",
       "1  Little Tokyo, Legaspi Village, Makati City, Ma...  121.014101  14.553708   \n",
       "2  Edsa Shangri-La, Ortigas, Mandaluyong City, Ma...  121.056831  14.581404   \n",
       "3  SM Megamall, Ortigas, Mandaluyong City, Mandal...  121.056475  14.585318   \n",
       "4  SM Megamall, Ortigas, Mandaluyong City, Mandal...  121.057508  14.584450   \n",
       "\n",
       "                           Cuisines  ...          Currency Has Table booking  \\\n",
       "0        French, Japanese, Desserts  ...  Botswana Pula(P)               Yes   \n",
       "1                          Japanese  ...  Botswana Pula(P)               Yes   \n",
       "2  Seafood, Asian, Filipino, Indian  ...  Botswana Pula(P)               Yes   \n",
       "3                   Japanese, Sushi  ...  Botswana Pula(P)                No   \n",
       "4                  Japanese, Korean  ...  Botswana Pula(P)               Yes   \n",
       "\n",
       "  Has Online delivery Is delivering now Switch to order menu Price range  \\\n",
       "0                  No                No                   No           3   \n",
       "1                  No                No                   No           3   \n",
       "2                  No                No                   No           4   \n",
       "3                  No                No                   No           4   \n",
       "4                  No                No                   No           4   \n",
       "\n",
       "   Aggregate rating  Rating color Rating text Votes  \n",
       "0               4.8    Dark Green   Excellent   314  \n",
       "1               4.5    Dark Green   Excellent   591  \n",
       "2               4.4         Green   Very Good   270  \n",
       "3               4.9    Dark Green   Excellent   365  \n",
       "4               4.8    Dark Green   Excellent   229  \n",
       "\n",
       "[5 rows x 21 columns]"
      ]
     },
     "execution_count": 3,
     "metadata": {},
     "output_type": "execute_result"
    }
   ],
   "source": [
    "df = pd.read_csv('/kaggle/input/zomato-dataset/zomato.csv', encoding='latin-1')\n",
    "df.head()"
   ]
  },
  {
   "cell_type": "code",
   "execution_count": 4,
   "id": "f6d78f99",
   "metadata": {
    "execution": {
     "iopub.execute_input": "2022-03-02T12:19:09.158174Z",
     "iopub.status.busy": "2022-03-02T12:19:09.157299Z",
     "iopub.status.idle": "2022-03-02T12:19:09.160584Z",
     "shell.execute_reply": "2022-03-02T12:19:09.161074Z",
     "shell.execute_reply.started": "2022-03-02T12:09:48.108206Z"
    },
    "papermill": {
     "duration": 0.031113,
     "end_time": "2022-03-02T12:19:09.161244",
     "exception": false,
     "start_time": "2022-03-02T12:19:09.130131",
     "status": "completed"
    },
    "tags": []
   },
   "outputs": [
    {
     "data": {
      "text/plain": [
       "Index(['Restaurant ID', 'Restaurant Name', 'Country Code', 'City', 'Address',\n",
       "       'Locality', 'Locality Verbose', 'Longitude', 'Latitude', 'Cuisines',\n",
       "       'Average Cost for two', 'Currency', 'Has Table booking',\n",
       "       'Has Online delivery', 'Is delivering now', 'Switch to order menu',\n",
       "       'Price range', 'Aggregate rating', 'Rating color', 'Rating text',\n",
       "       'Votes'],\n",
       "      dtype='object')"
      ]
     },
     "execution_count": 4,
     "metadata": {},
     "output_type": "execute_result"
    }
   ],
   "source": [
    "df.columns"
   ]
  },
  {
   "cell_type": "code",
   "execution_count": 5,
   "id": "0e2eeb61",
   "metadata": {
    "execution": {
     "iopub.execute_input": "2022-03-02T12:19:09.231694Z",
     "iopub.status.busy": "2022-03-02T12:19:09.212254Z",
     "iopub.status.idle": "2022-03-02T12:19:09.253046Z",
     "shell.execute_reply": "2022-03-02T12:19:09.253624Z",
     "shell.execute_reply.started": "2022-03-02T12:09:48.116757Z"
    },
    "papermill": {
     "duration": 0.069149,
     "end_time": "2022-03-02T12:19:09.253807",
     "exception": false,
     "start_time": "2022-03-02T12:19:09.184658",
     "status": "completed"
    },
    "tags": []
   },
   "outputs": [
    {
     "name": "stdout",
     "output_type": "stream",
     "text": [
      "<class 'pandas.core.frame.DataFrame'>\n",
      "RangeIndex: 9551 entries, 0 to 9550\n",
      "Data columns (total 21 columns):\n",
      " #   Column                Non-Null Count  Dtype  \n",
      "---  ------                --------------  -----  \n",
      " 0   Restaurant ID         9551 non-null   int64  \n",
      " 1   Restaurant Name       9551 non-null   object \n",
      " 2   Country Code          9551 non-null   int64  \n",
      " 3   City                  9551 non-null   object \n",
      " 4   Address               9551 non-null   object \n",
      " 5   Locality              9551 non-null   object \n",
      " 6   Locality Verbose      9551 non-null   object \n",
      " 7   Longitude             9551 non-null   float64\n",
      " 8   Latitude              9551 non-null   float64\n",
      " 9   Cuisines              9542 non-null   object \n",
      " 10  Average Cost for two  9551 non-null   int64  \n",
      " 11  Currency              9551 non-null   object \n",
      " 12  Has Table booking     9551 non-null   object \n",
      " 13  Has Online delivery   9551 non-null   object \n",
      " 14  Is delivering now     9551 non-null   object \n",
      " 15  Switch to order menu  9551 non-null   object \n",
      " 16  Price range           9551 non-null   int64  \n",
      " 17  Aggregate rating      9551 non-null   float64\n",
      " 18  Rating color          9551 non-null   object \n",
      " 19  Rating text           9551 non-null   object \n",
      " 20  Votes                 9551 non-null   int64  \n",
      "dtypes: float64(3), int64(5), object(13)\n",
      "memory usage: 1.5+ MB\n"
     ]
    }
   ],
   "source": [
    "df.info()"
   ]
  },
  {
   "cell_type": "code",
   "execution_count": 6,
   "id": "9b16a397",
   "metadata": {
    "execution": {
     "iopub.execute_input": "2022-03-02T12:19:09.307811Z",
     "iopub.status.busy": "2022-03-02T12:19:09.307044Z",
     "iopub.status.idle": "2022-03-02T12:19:09.341241Z",
     "shell.execute_reply": "2022-03-02T12:19:09.340518Z",
     "shell.execute_reply.started": "2022-03-02T12:09:48.161852Z"
    },
    "papermill": {
     "duration": 0.064937,
     "end_time": "2022-03-02T12:19:09.341390",
     "exception": false,
     "start_time": "2022-03-02T12:19:09.276453",
     "status": "completed"
    },
    "tags": []
   },
   "outputs": [
    {
     "data": {
      "text/html": [
       "<div>\n",
       "<style scoped>\n",
       "    .dataframe tbody tr th:only-of-type {\n",
       "        vertical-align: middle;\n",
       "    }\n",
       "\n",
       "    .dataframe tbody tr th {\n",
       "        vertical-align: top;\n",
       "    }\n",
       "\n",
       "    .dataframe thead th {\n",
       "        text-align: right;\n",
       "    }\n",
       "</style>\n",
       "<table border=\"1\" class=\"dataframe\">\n",
       "  <thead>\n",
       "    <tr style=\"text-align: right;\">\n",
       "      <th></th>\n",
       "      <th>Restaurant ID</th>\n",
       "      <th>Country Code</th>\n",
       "      <th>Longitude</th>\n",
       "      <th>Latitude</th>\n",
       "      <th>Average Cost for two</th>\n",
       "      <th>Price range</th>\n",
       "      <th>Aggregate rating</th>\n",
       "      <th>Votes</th>\n",
       "    </tr>\n",
       "  </thead>\n",
       "  <tbody>\n",
       "    <tr>\n",
       "      <th>count</th>\n",
       "      <td>9.551000e+03</td>\n",
       "      <td>9551.000000</td>\n",
       "      <td>9551.000000</td>\n",
       "      <td>9551.000000</td>\n",
       "      <td>9551.000000</td>\n",
       "      <td>9551.000000</td>\n",
       "      <td>9551.000000</td>\n",
       "      <td>9551.000000</td>\n",
       "    </tr>\n",
       "    <tr>\n",
       "      <th>mean</th>\n",
       "      <td>9.051128e+06</td>\n",
       "      <td>18.365616</td>\n",
       "      <td>64.126574</td>\n",
       "      <td>25.854381</td>\n",
       "      <td>1199.210763</td>\n",
       "      <td>1.804837</td>\n",
       "      <td>2.666370</td>\n",
       "      <td>156.909748</td>\n",
       "    </tr>\n",
       "    <tr>\n",
       "      <th>std</th>\n",
       "      <td>8.791521e+06</td>\n",
       "      <td>56.750546</td>\n",
       "      <td>41.467058</td>\n",
       "      <td>11.007935</td>\n",
       "      <td>16121.183073</td>\n",
       "      <td>0.905609</td>\n",
       "      <td>1.516378</td>\n",
       "      <td>430.169145</td>\n",
       "    </tr>\n",
       "    <tr>\n",
       "      <th>min</th>\n",
       "      <td>5.300000e+01</td>\n",
       "      <td>1.000000</td>\n",
       "      <td>-157.948486</td>\n",
       "      <td>-41.330428</td>\n",
       "      <td>0.000000</td>\n",
       "      <td>1.000000</td>\n",
       "      <td>0.000000</td>\n",
       "      <td>0.000000</td>\n",
       "    </tr>\n",
       "    <tr>\n",
       "      <th>25%</th>\n",
       "      <td>3.019625e+05</td>\n",
       "      <td>1.000000</td>\n",
       "      <td>77.081343</td>\n",
       "      <td>28.478713</td>\n",
       "      <td>250.000000</td>\n",
       "      <td>1.000000</td>\n",
       "      <td>2.500000</td>\n",
       "      <td>5.000000</td>\n",
       "    </tr>\n",
       "    <tr>\n",
       "      <th>50%</th>\n",
       "      <td>6.004089e+06</td>\n",
       "      <td>1.000000</td>\n",
       "      <td>77.191964</td>\n",
       "      <td>28.570469</td>\n",
       "      <td>400.000000</td>\n",
       "      <td>2.000000</td>\n",
       "      <td>3.200000</td>\n",
       "      <td>31.000000</td>\n",
       "    </tr>\n",
       "    <tr>\n",
       "      <th>75%</th>\n",
       "      <td>1.835229e+07</td>\n",
       "      <td>1.000000</td>\n",
       "      <td>77.282006</td>\n",
       "      <td>28.642758</td>\n",
       "      <td>700.000000</td>\n",
       "      <td>2.000000</td>\n",
       "      <td>3.700000</td>\n",
       "      <td>131.000000</td>\n",
       "    </tr>\n",
       "    <tr>\n",
       "      <th>max</th>\n",
       "      <td>1.850065e+07</td>\n",
       "      <td>216.000000</td>\n",
       "      <td>174.832089</td>\n",
       "      <td>55.976980</td>\n",
       "      <td>800000.000000</td>\n",
       "      <td>4.000000</td>\n",
       "      <td>4.900000</td>\n",
       "      <td>10934.000000</td>\n",
       "    </tr>\n",
       "  </tbody>\n",
       "</table>\n",
       "</div>"
      ],
      "text/plain": [
       "       Restaurant ID  Country Code    Longitude     Latitude  \\\n",
       "count   9.551000e+03   9551.000000  9551.000000  9551.000000   \n",
       "mean    9.051128e+06     18.365616    64.126574    25.854381   \n",
       "std     8.791521e+06     56.750546    41.467058    11.007935   \n",
       "min     5.300000e+01      1.000000  -157.948486   -41.330428   \n",
       "25%     3.019625e+05      1.000000    77.081343    28.478713   \n",
       "50%     6.004089e+06      1.000000    77.191964    28.570469   \n",
       "75%     1.835229e+07      1.000000    77.282006    28.642758   \n",
       "max     1.850065e+07    216.000000   174.832089    55.976980   \n",
       "\n",
       "       Average Cost for two  Price range  Aggregate rating         Votes  \n",
       "count           9551.000000  9551.000000       9551.000000   9551.000000  \n",
       "mean            1199.210763     1.804837          2.666370    156.909748  \n",
       "std            16121.183073     0.905609          1.516378    430.169145  \n",
       "min                0.000000     1.000000          0.000000      0.000000  \n",
       "25%              250.000000     1.000000          2.500000      5.000000  \n",
       "50%              400.000000     2.000000          3.200000     31.000000  \n",
       "75%              700.000000     2.000000          3.700000    131.000000  \n",
       "max           800000.000000     4.000000          4.900000  10934.000000  "
      ]
     },
     "execution_count": 6,
     "metadata": {},
     "output_type": "execute_result"
    }
   ],
   "source": [
    "df.describe()"
   ]
  },
  {
   "cell_type": "code",
   "execution_count": 7,
   "id": "e8283a51",
   "metadata": {
    "execution": {
     "iopub.execute_input": "2022-03-02T12:19:09.396287Z",
     "iopub.status.busy": "2022-03-02T12:19:09.395596Z",
     "iopub.status.idle": "2022-03-02T12:19:09.400845Z",
     "shell.execute_reply": "2022-03-02T12:19:09.401341Z",
     "shell.execute_reply.started": "2022-03-02T12:09:48.202259Z"
    },
    "papermill": {
     "duration": 0.035457,
     "end_time": "2022-03-02T12:19:09.401525",
     "exception": false,
     "start_time": "2022-03-02T12:19:09.366068",
     "status": "completed"
    },
    "tags": []
   },
   "outputs": [
    {
     "data": {
      "text/plain": [
       "9551"
      ]
     },
     "execution_count": 7,
     "metadata": {},
     "output_type": "execute_result"
    }
   ],
   "source": [
    "df['Restaurant ID'].nunique()"
   ]
  },
  {
   "cell_type": "markdown",
   "id": "8e372416",
   "metadata": {
    "papermill": {
     "duration": 0.023087,
     "end_time": "2022-03-02T12:19:09.449190",
     "exception": false,
     "start_time": "2022-03-02T12:19:09.426103",
     "status": "completed"
    },
    "tags": []
   },
   "source": [
    "_All the restuarant ID are unique so we have **9551** IDs_"
   ]
  },
  {
   "cell_type": "code",
   "execution_count": 8,
   "id": "75539ea0",
   "metadata": {
    "execution": {
     "iopub.execute_input": "2022-03-02T12:19:09.504960Z",
     "iopub.status.busy": "2022-03-02T12:19:09.503941Z",
     "iopub.status.idle": "2022-03-02T12:19:09.511032Z",
     "shell.execute_reply": "2022-03-02T12:19:09.511586Z",
     "shell.execute_reply.started": "2022-03-02T12:09:48.211523Z"
    },
    "papermill": {
     "duration": 0.038254,
     "end_time": "2022-03-02T12:19:09.511760",
     "exception": false,
     "start_time": "2022-03-02T12:19:09.473506",
     "status": "completed"
    },
    "tags": []
   },
   "outputs": [
    {
     "data": {
      "text/plain": [
       "15"
      ]
     },
     "execution_count": 8,
     "metadata": {},
     "output_type": "execute_result"
    }
   ],
   "source": [
    "df['Country Code'].nunique()"
   ]
  },
  {
   "cell_type": "code",
   "execution_count": 9,
   "id": "78356519",
   "metadata": {
    "execution": {
     "iopub.execute_input": "2022-03-02T12:19:09.567972Z",
     "iopub.status.busy": "2022-03-02T12:19:09.567161Z",
     "iopub.status.idle": "2022-03-02T12:19:09.570419Z",
     "shell.execute_reply": "2022-03-02T12:19:09.570947Z",
     "shell.execute_reply.started": "2022-03-02T12:09:48.225682Z"
    },
    "papermill": {
     "duration": 0.034271,
     "end_time": "2022-03-02T12:19:09.571120",
     "exception": false,
     "start_time": "2022-03-02T12:19:09.536849",
     "status": "completed"
    },
    "tags": []
   },
   "outputs": [
    {
     "data": {
      "text/plain": [
       "1      8652\n",
       "216     434\n",
       "215      80\n",
       "30       60\n",
       "214      60\n",
       "189      60\n",
       "148      40\n",
       "208      34\n",
       "14       24\n",
       "162      22\n",
       "94       21\n",
       "184      20\n",
       "166      20\n",
       "191      20\n",
       "37        4\n",
       "Name: Country Code, dtype: int64"
      ]
     },
     "execution_count": 9,
     "metadata": {},
     "output_type": "execute_result"
    }
   ],
   "source": [
    "df['Country Code'].value_counts()"
   ]
  },
  {
   "cell_type": "code",
   "execution_count": 10,
   "id": "500fa9a9",
   "metadata": {
    "execution": {
     "iopub.execute_input": "2022-03-02T12:19:09.630264Z",
     "iopub.status.busy": "2022-03-02T12:19:09.629386Z",
     "iopub.status.idle": "2022-03-02T12:19:09.930478Z",
     "shell.execute_reply": "2022-03-02T12:19:09.929856Z",
     "shell.execute_reply.started": "2022-03-02T12:09:48.241472Z"
    },
    "papermill": {
     "duration": 0.333968,
     "end_time": "2022-03-02T12:19:09.930642",
     "exception": false,
     "start_time": "2022-03-02T12:19:09.596674",
     "status": "completed"
    },
    "tags": []
   },
   "outputs": [
    {
     "data": {
      "image/png": "[encoded data removed]",
      "text/plain": [
       "<Figure size 720x432 with 1 Axes>"
      ]
     },
     "metadata": {
      "needs_background": "light"
     },
     "output_type": "display_data"
    }
   ],
   "source": [
    "plt.figure(figsize=(10,6))\n",
    "ax = sns.countplot(x='Country Code', data=df, order=df['Country Code'].value_counts().index)\n",
    "for p in ax.patches:\n",
    "    height = p.get_height()\n",
    "    ax.text(x=p.get_x()+(p.get_width()/2),\n",
    "            y=height+300,\n",
    "            s=height,\n",
    "            va='center'\n",
    "            \n",
    "           )\n",
    "plt.show()"
   ]
  },
  {
   "cell_type": "code",
   "execution_count": 11,
   "id": "23804e0e",
   "metadata": {
    "execution": {
     "iopub.execute_input": "2022-03-02T12:19:09.987800Z",
     "iopub.status.busy": "2022-03-02T12:19:09.986799Z",
     "iopub.status.idle": "2022-03-02T12:19:09.991140Z",
     "shell.execute_reply": "2022-03-02T12:19:09.991646Z",
     "shell.execute_reply.started": "2022-03-02T12:15:22.696740Z"
    },
    "papermill": {
     "duration": 0.035818,
     "end_time": "2022-03-02T12:19:09.991816",
     "exception": false,
     "start_time": "2022-03-02T12:19:09.955998",
     "status": "completed"
    },
    "tags": []
   },
   "outputs": [
    {
     "data": {
      "text/plain": [
       "141"
      ]
     },
     "execution_count": 11,
     "metadata": {},
     "output_type": "execute_result"
    }
   ],
   "source": [
    "df['City'].nunique()"
   ]
  },
  {
   "cell_type": "code",
   "execution_count": 12,
   "id": "d3f30125",
   "metadata": {
    "execution": {
     "iopub.execute_input": "2022-03-02T12:19:10.051607Z",
     "iopub.status.busy": "2022-03-02T12:19:10.050596Z",
     "iopub.status.idle": "2022-03-02T12:19:10.057353Z",
     "shell.execute_reply": "2022-03-02T12:19:10.057892Z",
     "shell.execute_reply.started": "2022-03-02T12:15:34.450983Z"
    },
    "papermill": {
     "duration": 0.040175,
     "end_time": "2022-03-02T12:19:10.058065",
     "exception": false,
     "start_time": "2022-03-02T12:19:10.017890",
     "status": "completed"
    },
    "tags": []
   },
   "outputs": [
    {
     "data": {
      "text/plain": [
       "New Delhi           5473\n",
       "Gurgaon             1118\n",
       "Noida               1080\n",
       "Faridabad            251\n",
       "Ghaziabad             25\n",
       "                    ... \n",
       "Panchkula              1\n",
       "Mc Millan              1\n",
       "Mayfield               1\n",
       "Macedon                1\n",
       "Vineland Station       1\n",
       "Name: City, Length: 141, dtype: int64"
      ]
     },
     "execution_count": 12,
     "metadata": {},
     "output_type": "execute_result"
    }
   ],
   "source": [
    "df['City'].value_counts()"
   ]
  },
  {
   "cell_type": "markdown",
   "id": "a454d7ba",
   "metadata": {
    "papermill": {
     "duration": 0.025393,
     "end_time": "2022-03-02T12:19:10.109275",
     "exception": false,
     "start_time": "2022-03-02T12:19:10.083882",
     "status": "completed"
    },
    "tags": []
   },
   "source": [
    "_We have data from 141 unique cities_"
   ]
  },
  {
   "cell_type": "code",
   "execution_count": 13,
   "id": "1d76be7d",
   "metadata": {
    "execution": {
     "iopub.execute_input": "2022-03-02T12:19:10.167681Z",
     "iopub.status.busy": "2022-03-02T12:19:10.167046Z",
     "iopub.status.idle": "2022-03-02T12:19:10.179066Z",
     "shell.execute_reply": "2022-03-02T12:19:10.178424Z",
     "shell.execute_reply.started": "2022-03-02T12:16:09.267552Z"
    },
    "papermill": {
     "duration": 0.042026,
     "end_time": "2022-03-02T12:19:10.179232",
     "exception": false,
     "start_time": "2022-03-02T12:19:10.137206",
     "status": "completed"
    },
    "tags": []
   },
   "outputs": [
    {
     "data": {
      "text/plain": [
       "8918"
      ]
     },
     "execution_count": 13,
     "metadata": {},
     "output_type": "execute_result"
    }
   ],
   "source": [
    "df['Address'].nunique()"
   ]
  },
  {
   "cell_type": "code",
   "execution_count": 14,
   "id": "11414bf0",
   "metadata": {
    "execution": {
     "iopub.execute_input": "2022-03-02T12:19:10.242198Z",
     "iopub.status.busy": "2022-03-02T12:19:10.241516Z",
     "iopub.status.idle": "2022-03-02T12:19:10.249052Z",
     "shell.execute_reply": "2022-03-02T12:19:10.249569Z",
     "shell.execute_reply.started": "2022-03-02T12:16:47.835220Z"
    },
    "papermill": {
     "duration": 0.042897,
     "end_time": "2022-03-02T12:19:10.249741",
     "exception": false,
     "start_time": "2022-03-02T12:19:10.206844",
     "status": "completed"
    },
    "tags": []
   },
   "outputs": [
    {
     "data": {
      "text/plain": [
       "Dilli Haat, INA, New Delhi                                                               11\n",
       "Sector 41, Noida                                                                         11\n",
       "Greater Kailash (GK) 1, New Delhi                                                        10\n",
       "The Imperial, Janpath, New Delhi                                                          9\n",
       "Cyber Hub, DLF Cyber City, Gurgaon                                                        8\n",
       "                                                                                         ..\n",
       "23-24, Defence Colony Market, Defence Colony, New Delhi                                   1\n",
       "28, Main Market, Defence Colony, New Delhi                                                1\n",
       "Daryaganj, New Delhi                                                                      1\n",
       "Ground Floor, E-23, Netaji Subhash Marg, Opposite Golcha Cinema, Daryaganj, New Delhi     1\n",
       "CafeaÛôa Mahallesi, BademaltÛ± Sokak, No 21/B, KadÛ±kí_y, ÛÁstanbul                       1\n",
       "Name: Address, Length: 8918, dtype: int64"
      ]
     },
     "execution_count": 14,
     "metadata": {},
     "output_type": "execute_result"
    }
   ],
   "source": [
    "df['Address'].value_counts()"
   ]
  },
  {
   "cell_type": "markdown",
   "id": "921f7888",
   "metadata": {
    "papermill": {
     "duration": 0.026894,
     "end_time": "2022-03-02T12:19:10.303461",
     "exception": false,
     "start_time": "2022-03-02T12:19:10.276567",
     "status": "completed"
    },
    "tags": []
   },
   "source": [
    "It seems that some resturants have similar address"
   ]
  },
  {
   "cell_type": "code",
   "execution_count": 15,
   "id": "47149720",
   "metadata": {
    "execution": {
     "iopub.execute_input": "2022-03-02T12:19:10.362306Z",
     "iopub.status.busy": "2022-03-02T12:19:10.360085Z",
     "iopub.status.idle": "2022-03-02T12:19:10.367474Z",
     "shell.execute_reply": "2022-03-02T12:19:10.366982Z",
     "shell.execute_reply.started": "2022-03-02T12:17:47.404943Z"
    },
    "papermill": {
     "duration": 0.037602,
     "end_time": "2022-03-02T12:19:10.367645",
     "exception": false,
     "start_time": "2022-03-02T12:19:10.330043",
     "status": "completed"
    },
    "tags": []
   },
   "outputs": [
    {
     "data": {
      "text/plain": [
       "1208"
      ]
     },
     "execution_count": 15,
     "metadata": {},
     "output_type": "execute_result"
    }
   ],
   "source": [
    "df['Locality'].nunique()"
   ]
  },
  {
   "cell_type": "code",
   "execution_count": 16,
   "id": "3059c56b",
   "metadata": {
    "execution": {
     "iopub.execute_input": "2022-03-02T12:19:10.429077Z",
     "iopub.status.busy": "2022-03-02T12:19:10.428140Z",
     "iopub.status.idle": "2022-03-02T12:19:10.438755Z",
     "shell.execute_reply": "2022-03-02T12:19:10.438097Z",
     "shell.execute_reply.started": "2022-03-02T12:17:59.116611Z"
    },
    "papermill": {
     "duration": 0.043252,
     "end_time": "2022-03-02T12:19:10.438964",
     "exception": false,
     "start_time": "2022-03-02T12:19:10.395712",
     "status": "completed"
    },
    "tags": []
   },
   "outputs": [
    {
     "data": {
      "text/plain": [
       "Connaught Place                                122\n",
       "Rajouri Garden                                  99\n",
       "Shahdara                                        87\n",
       "Defence Colony                                  86\n",
       "Malviya Nagar                                   85\n",
       "                                              ... \n",
       "Lemon Tree Premier, Sector 29                    1\n",
       "Omaxe Celebration Mall, Sohna Road, Gurgaon      1\n",
       "Park Inn, Sector 15, Gurgaon                     1\n",
       "Plaza Mall, MG Road                              1\n",
       "Moda                                             1\n",
       "Name: Locality, Length: 1208, dtype: int64"
      ]
     },
     "execution_count": 16,
     "metadata": {},
     "output_type": "execute_result"
    }
   ],
   "source": [
    "df['Locality'].value_counts()"
   ]
  },
  {
   "cell_type": "markdown",
   "id": "e7de9dc9",
   "metadata": {
    "papermill": {
     "duration": 0.027553,
     "end_time": "2022-03-02T12:19:10.493950",
     "exception": false,
     "start_time": "2022-03-02T12:19:10.466397",
     "status": "completed"
    },
    "tags": []
   },
   "source": [
    "maximum resturants are situated in **Connaught Place**"
   ]
  },
  {
   "cell_type": "code",
   "execution_count": null,
   "id": "2da5b0b7",
   "metadata": {
    "papermill": {
     "duration": 0.027239,
     "end_time": "2022-03-02T12:19:10.551235",
     "exception": false,
     "start_time": "2022-03-02T12:19:10.523996",
     "status": "completed"
    },
    "tags": []
   },
   "outputs": [],
   "source": []
  }
 ],
 "metadata": {
  "kernelspec": {
   "display_name": "Python 3",
   "language": "python",
   "name": "python3"
  },
  "language_info": {
   "codemirror_mode": {
    "name": "ipython",
    "version": 3
   },
   "file_extension": ".py",
   "mimetype": "text/x-python",
   "name": "python",
   "nbconvert_exporter": "python",
   "pygments_lexer": "ipython3",
   "version": "3.7.12"
  },
  "papermill": {
   "default_parameters": {},
   "duration": 13.901335,
   "end_time": "2022-03-02T12:19:11.290656",
   "environment_variables": {},
   "exception": null,
   "input_path": "__notebook__.ipynb",
   "output_path": "__notebook__.ipynb",
   "parameters": {},
   "start_time": "2022-03-02T12:18:57.389321",
   "version": "2.3.3"
  }
 },
 "nbformat": 4,
 "nbformat_minor": 5
}
