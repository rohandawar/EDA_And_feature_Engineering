{
 "cells": [
  {
   "cell_type": "code",
   "execution_count": 1,
   "id": "045c8dbe",
   "metadata": {
    "_cell_guid": "b1076dfc-b9ad-4769-8c92-a6c4dae69d19",
    "_uuid": "8f2839f25d086af736a60e9eeb907d3b93b6e0e5",
    "execution": {
     "iopub.execute_input": "2022-02-25T12:13:21.556044Z",
     "iopub.status.busy": "2022-02-25T12:13:21.554218Z",
     "iopub.status.idle": "2022-02-25T12:13:21.575556Z",
     "shell.execute_reply": "2022-02-25T12:13:21.576132Z",
     "shell.execute_reply.started": "2022-02-25T12:07:41.838436Z"
    },
    "papermill": {
     "duration": 0.091058,
     "end_time": "2022-02-25T12:13:21.576434",
     "exception": false,
     "start_time": "2022-02-25T12:13:21.485376",
     "status": "completed"
    },
    "tags": []
   },
   "outputs": [
    {
     "name": "stdout",
     "output_type": "stream",
     "text": [
      "/kaggle/input/black-friday/train.csv\n",
      "/kaggle/input/black-friday/test.csv\n"
     ]
    }
   ],
   "source": [
    "# This Python 3 environment comes with many helpful analytics libraries installed\n",
    "# It is defined by the kaggle/python Docker image: https://github.com/kaggle/docker-python\n",
    "# For example, here's several helpful packages to load\n",
    "\n",
    "import numpy as np # linear algebra\n",
    "import pandas as pd # data processing, CSV file I/O (e.g. pd.read_csv)\n",
    "\n",
    "# Input data files are available in the read-only \"../input/\" directory\n",
    "# For example, running this (by clicking run or pressing Shift+Enter) will list all files under the input directory\n",
    "\n",
    "import os\n",
    "for dirname, _, filenames in os.walk('/kaggle/input'):\n",
    "    for filename in filenames:\n",
    "        print(os.path.join(dirname, filename))\n",
    "\n",
    "# You can write up to 20GB to the current directory (/kaggle/working/) that gets preserved as output when you create a version using \"Save & Run All\" \n",
    "# You can also write temporary files to /kaggle/temp/, but they won't be saved outside of the current session"
   ]
  },
  {
   "cell_type": "code",
   "execution_count": 2,
   "id": "d15af450",
   "metadata": {
    "execution": {
     "iopub.execute_input": "2022-02-25T12:13:21.702550Z",
     "iopub.status.busy": "2022-02-25T12:13:21.701543Z",
     "iopub.status.idle": "2022-02-25T12:13:22.797656Z",
     "shell.execute_reply": "2022-02-25T12:13:22.798328Z",
     "shell.execute_reply.started": "2022-02-25T12:07:41.857888Z"
    },
    "papermill": {
     "duration": 1.16208,
     "end_time": "2022-02-25T12:13:22.798523",
     "exception": false,
     "start_time": "2022-02-25T12:13:21.636443",
     "status": "completed"
    },
    "tags": []
   },
   "outputs": [],
   "source": [
    "import pandas as pd\n",
    "import numpy as np\n",
    "import matplotlib.pyplot as plt\n",
    "import seaborn as sns\n",
    "\n",
    "pd.set_option('display.max_rows', 300)\n",
    "pd.set_option('display.max_columns', 300)\n",
    "\n",
    "%matplotlib inline\n"
   ]
  },
  {
   "cell_type": "code",
   "execution_count": 3,
   "id": "00aa486b",
   "metadata": {
    "execution": {
     "iopub.execute_input": "2022-02-25T12:13:22.918623Z",
     "iopub.status.busy": "2022-02-25T12:13:22.917820Z",
     "iopub.status.idle": "2022-02-25T12:13:23.854655Z",
     "shell.execute_reply": "2022-02-25T12:13:23.853911Z",
     "shell.execute_reply.started": "2022-02-25T12:07:43.117072Z"
    },
    "papermill": {
     "duration": 0.998606,
     "end_time": "2022-02-25T12:13:23.854798",
     "exception": false,
     "start_time": "2022-02-25T12:13:22.856192",
     "status": "completed"
    },
    "tags": []
   },
   "outputs": [
    {
     "data": {
      "text/html": [
       "<div>\n",
       "<style scoped>\n",
       "    .dataframe tbody tr th:only-of-type {\n",
       "        vertical-align: middle;\n",
       "    }\n",
       "\n",
       "    .dataframe tbody tr th {\n",
       "        vertical-align: top;\n",
       "    }\n",
       "\n",
       "    .dataframe thead th {\n",
       "        text-align: right;\n",
       "    }\n",
       "</style>\n",
       "<table border=\"1\" class=\"dataframe\">\n",
       "  <thead>\n",
       "    <tr style=\"text-align: right;\">\n",
       "      <th></th>\n",
       "      <th>User_ID</th>\n",
       "      <th>Product_ID</th>\n",
       "      <th>Gender</th>\n",
       "      <th>Age</th>\n",
       "      <th>Occupation</th>\n",
       "      <th>City_Category</th>\n",
       "      <th>Stay_In_Current_City_Years</th>\n",
       "      <th>Marital_Status</th>\n",
       "      <th>Product_Category_1</th>\n",
       "      <th>Product_Category_2</th>\n",
       "      <th>Product_Category_3</th>\n",
       "      <th>Purchase</th>\n",
       "    </tr>\n",
       "  </thead>\n",
       "  <tbody>\n",
       "    <tr>\n",
       "      <th>0</th>\n",
       "      <td>1000001</td>\n",
       "      <td>P00069042</td>\n",
       "      <td>F</td>\n",
       "      <td>0-17</td>\n",
       "      <td>10</td>\n",
       "      <td>A</td>\n",
       "      <td>2</td>\n",
       "      <td>0</td>\n",
       "      <td>3</td>\n",
       "      <td>NaN</td>\n",
       "      <td>NaN</td>\n",
       "      <td>8370</td>\n",
       "    </tr>\n",
       "    <tr>\n",
       "      <th>1</th>\n",
       "      <td>1000001</td>\n",
       "      <td>P00248942</td>\n",
       "      <td>F</td>\n",
       "      <td>0-17</td>\n",
       "      <td>10</td>\n",
       "      <td>A</td>\n",
       "      <td>2</td>\n",
       "      <td>0</td>\n",
       "      <td>1</td>\n",
       "      <td>6.0</td>\n",
       "      <td>14.0</td>\n",
       "      <td>15200</td>\n",
       "    </tr>\n",
       "    <tr>\n",
       "      <th>2</th>\n",
       "      <td>1000001</td>\n",
       "      <td>P00087842</td>\n",
       "      <td>F</td>\n",
       "      <td>0-17</td>\n",
       "      <td>10</td>\n",
       "      <td>A</td>\n",
       "      <td>2</td>\n",
       "      <td>0</td>\n",
       "      <td>12</td>\n",
       "      <td>NaN</td>\n",
       "      <td>NaN</td>\n",
       "      <td>1422</td>\n",
       "    </tr>\n",
       "    <tr>\n",
       "      <th>3</th>\n",
       "      <td>1000001</td>\n",
       "      <td>P00085442</td>\n",
       "      <td>F</td>\n",
       "      <td>0-17</td>\n",
       "      <td>10</td>\n",
       "      <td>A</td>\n",
       "      <td>2</td>\n",
       "      <td>0</td>\n",
       "      <td>12</td>\n",
       "      <td>14.0</td>\n",
       "      <td>NaN</td>\n",
       "      <td>1057</td>\n",
       "    </tr>\n",
       "    <tr>\n",
       "      <th>4</th>\n",
       "      <td>1000002</td>\n",
       "      <td>P00285442</td>\n",
       "      <td>M</td>\n",
       "      <td>55+</td>\n",
       "      <td>16</td>\n",
       "      <td>C</td>\n",
       "      <td>4+</td>\n",
       "      <td>0</td>\n",
       "      <td>8</td>\n",
       "      <td>NaN</td>\n",
       "      <td>NaN</td>\n",
       "      <td>7969</td>\n",
       "    </tr>\n",
       "  </tbody>\n",
       "</table>\n",
       "</div>"
      ],
      "text/plain": [
       "   User_ID Product_ID Gender   Age  Occupation City_Category  \\\n",
       "0  1000001  P00069042      F  0-17          10             A   \n",
       "1  1000001  P00248942      F  0-17          10             A   \n",
       "2  1000001  P00087842      F  0-17          10             A   \n",
       "3  1000001  P00085442      F  0-17          10             A   \n",
       "4  1000002  P00285442      M   55+          16             C   \n",
       "\n",
       "  Stay_In_Current_City_Years  Marital_Status  Product_Category_1  \\\n",
       "0                          2               0                   3   \n",
       "1                          2               0                   1   \n",
       "2                          2               0                  12   \n",
       "3                          2               0                  12   \n",
       "4                         4+               0                   8   \n",
       "\n",
       "   Product_Category_2  Product_Category_3  Purchase  \n",
       "0                 NaN                 NaN      8370  \n",
       "1                 6.0                14.0     15200  \n",
       "2                 NaN                 NaN      1422  \n",
       "3                14.0                 NaN      1057  \n",
       "4                 NaN                 NaN      7969  "
      ]
     },
     "execution_count": 3,
     "metadata": {},
     "output_type": "execute_result"
    }
   ],
   "source": [
    "df_train=pd.read_csv('/kaggle/input/black-friday/train.csv')\n",
    "df_train.head()"
   ]
  },
  {
   "cell_type": "code",
   "execution_count": 4,
   "id": "72a08f60",
   "metadata": {
    "execution": {
     "iopub.execute_input": "2022-02-25T12:13:23.979771Z",
     "iopub.status.busy": "2022-02-25T12:13:23.978769Z",
     "iopub.status.idle": "2022-02-25T12:13:24.292762Z",
     "shell.execute_reply": "2022-02-25T12:13:24.293235Z",
     "shell.execute_reply.started": "2022-02-25T12:07:44.217219Z"
    },
    "papermill": {
     "duration": 0.377281,
     "end_time": "2022-02-25T12:13:24.293408",
     "exception": false,
     "start_time": "2022-02-25T12:13:23.916127",
     "status": "completed"
    },
    "tags": []
   },
   "outputs": [
    {
     "data": {
      "text/html": [
       "<div>\n",
       "<style scoped>\n",
       "    .dataframe tbody tr th:only-of-type {\n",
       "        vertical-align: middle;\n",
       "    }\n",
       "\n",
       "    .dataframe tbody tr th {\n",
       "        vertical-align: top;\n",
       "    }\n",
       "\n",
       "    .dataframe thead th {\n",
       "        text-align: right;\n",
       "    }\n",
       "</style>\n",
       "<table border=\"1\" class=\"dataframe\">\n",
       "  <thead>\n",
       "    <tr style=\"text-align: right;\">\n",
       "      <th></th>\n",
       "      <th>User_ID</th>\n",
       "      <th>Product_ID</th>\n",
       "      <th>Gender</th>\n",
       "      <th>Age</th>\n",
       "      <th>Occupation</th>\n",
       "      <th>City_Category</th>\n",
       "      <th>Stay_In_Current_City_Years</th>\n",
       "      <th>Marital_Status</th>\n",
       "      <th>Product_Category_1</th>\n",
       "      <th>Product_Category_2</th>\n",
       "      <th>Product_Category_3</th>\n",
       "    </tr>\n",
       "  </thead>\n",
       "  <tbody>\n",
       "    <tr>\n",
       "      <th>0</th>\n",
       "      <td>1000004</td>\n",
       "      <td>P00128942</td>\n",
       "      <td>M</td>\n",
       "      <td>46-50</td>\n",
       "      <td>7</td>\n",
       "      <td>B</td>\n",
       "      <td>2</td>\n",
       "      <td>1</td>\n",
       "      <td>1</td>\n",
       "      <td>11.0</td>\n",
       "      <td>NaN</td>\n",
       "    </tr>\n",
       "    <tr>\n",
       "      <th>1</th>\n",
       "      <td>1000009</td>\n",
       "      <td>P00113442</td>\n",
       "      <td>M</td>\n",
       "      <td>26-35</td>\n",
       "      <td>17</td>\n",
       "      <td>C</td>\n",
       "      <td>0</td>\n",
       "      <td>0</td>\n",
       "      <td>3</td>\n",
       "      <td>5.0</td>\n",
       "      <td>NaN</td>\n",
       "    </tr>\n",
       "    <tr>\n",
       "      <th>2</th>\n",
       "      <td>1000010</td>\n",
       "      <td>P00288442</td>\n",
       "      <td>F</td>\n",
       "      <td>36-45</td>\n",
       "      <td>1</td>\n",
       "      <td>B</td>\n",
       "      <td>4+</td>\n",
       "      <td>1</td>\n",
       "      <td>5</td>\n",
       "      <td>14.0</td>\n",
       "      <td>NaN</td>\n",
       "    </tr>\n",
       "    <tr>\n",
       "      <th>3</th>\n",
       "      <td>1000010</td>\n",
       "      <td>P00145342</td>\n",
       "      <td>F</td>\n",
       "      <td>36-45</td>\n",
       "      <td>1</td>\n",
       "      <td>B</td>\n",
       "      <td>4+</td>\n",
       "      <td>1</td>\n",
       "      <td>4</td>\n",
       "      <td>9.0</td>\n",
       "      <td>NaN</td>\n",
       "    </tr>\n",
       "    <tr>\n",
       "      <th>4</th>\n",
       "      <td>1000011</td>\n",
       "      <td>P00053842</td>\n",
       "      <td>F</td>\n",
       "      <td>26-35</td>\n",
       "      <td>1</td>\n",
       "      <td>C</td>\n",
       "      <td>1</td>\n",
       "      <td>0</td>\n",
       "      <td>4</td>\n",
       "      <td>5.0</td>\n",
       "      <td>12.0</td>\n",
       "    </tr>\n",
       "  </tbody>\n",
       "</table>\n",
       "</div>"
      ],
      "text/plain": [
       "   User_ID Product_ID Gender    Age  Occupation City_Category  \\\n",
       "0  1000004  P00128942      M  46-50           7             B   \n",
       "1  1000009  P00113442      M  26-35          17             C   \n",
       "2  1000010  P00288442      F  36-45           1             B   \n",
       "3  1000010  P00145342      F  36-45           1             B   \n",
       "4  1000011  P00053842      F  26-35           1             C   \n",
       "\n",
       "  Stay_In_Current_City_Years  Marital_Status  Product_Category_1  \\\n",
       "0                          2               1                   1   \n",
       "1                          0               0                   3   \n",
       "2                         4+               1                   5   \n",
       "3                         4+               1                   4   \n",
       "4                          1               0                   4   \n",
       "\n",
       "   Product_Category_2  Product_Category_3  \n",
       "0                11.0                 NaN  \n",
       "1                 5.0                 NaN  \n",
       "2                14.0                 NaN  \n",
       "3                 9.0                 NaN  \n",
       "4                 5.0                12.0  "
      ]
     },
     "execution_count": 4,
     "metadata": {},
     "output_type": "execute_result"
    }
   ],
   "source": [
    "##  import the test data\n",
    "df_test=pd.read_csv('/kaggle/input/black-friday/test.csv')\n",
    "df_test.head()"
   ]
  },
  {
   "cell_type": "code",
   "execution_count": 5,
   "id": "24046f9c",
   "metadata": {
    "execution": {
     "iopub.execute_input": "2022-02-25T12:13:24.411366Z",
     "iopub.status.busy": "2022-02-25T12:13:24.410359Z",
     "iopub.status.idle": "2022-02-25T12:13:24.415805Z",
     "shell.execute_reply": "2022-02-25T12:13:24.416416Z",
     "shell.execute_reply.started": "2022-02-25T12:07:44.593418Z"
    },
    "papermill": {
     "duration": 0.066295,
     "end_time": "2022-02-25T12:13:24.416580",
     "exception": false,
     "start_time": "2022-02-25T12:13:24.350285",
     "status": "completed"
    },
    "tags": []
   },
   "outputs": [
    {
     "data": {
      "text/plain": [
       "(550068, 12)"
      ]
     },
     "execution_count": 5,
     "metadata": {},
     "output_type": "execute_result"
    }
   ],
   "source": [
    "df_train.shape"
   ]
  },
  {
   "cell_type": "code",
   "execution_count": 6,
   "id": "d7588144",
   "metadata": {
    "execution": {
     "iopub.execute_input": "2022-02-25T12:13:24.533854Z",
     "iopub.status.busy": "2022-02-25T12:13:24.532886Z",
     "iopub.status.idle": "2022-02-25T12:13:24.537229Z",
     "shell.execute_reply": "2022-02-25T12:13:24.536667Z",
     "shell.execute_reply.started": "2022-02-25T12:07:44.603227Z"
    },
    "papermill": {
     "duration": 0.064032,
     "end_time": "2022-02-25T12:13:24.537361",
     "exception": false,
     "start_time": "2022-02-25T12:13:24.473329",
     "status": "completed"
    },
    "tags": []
   },
   "outputs": [],
   "source": [
    "# #concat the dataset\n",
    "# df = df_train.append(df_test)\n",
    "# df.head()"
   ]
  },
  {
   "cell_type": "markdown",
   "id": "3934ecf8",
   "metadata": {
    "papermill": {
     "duration": 0.056877,
     "end_time": "2022-02-25T12:13:24.651403",
     "exception": false,
     "start_time": "2022-02-25T12:13:24.594526",
     "status": "completed"
    },
    "tags": []
   },
   "source": [
    "## Training Data EDA"
   ]
  },
  {
   "cell_type": "code",
   "execution_count": 7,
   "id": "9c2295d1",
   "metadata": {
    "execution": {
     "iopub.execute_input": "2022-02-25T12:13:24.773465Z",
     "iopub.status.busy": "2022-02-25T12:13:24.772780Z",
     "iopub.status.idle": "2022-02-25T12:13:25.087878Z",
     "shell.execute_reply": "2022-02-25T12:13:25.088377Z",
     "shell.execute_reply.started": "2022-02-25T12:07:44.614348Z"
    },
    "papermill": {
     "duration": 0.379464,
     "end_time": "2022-02-25T12:13:25.088546",
     "exception": false,
     "start_time": "2022-02-25T12:13:24.709082",
     "status": "completed"
    },
    "tags": []
   },
   "outputs": [
    {
     "name": "stdout",
     "output_type": "stream",
     "text": [
      "<class 'pandas.core.frame.DataFrame'>\n",
      "RangeIndex: 550068 entries, 0 to 550067\n",
      "Data columns (total 12 columns):\n",
      " #   Column                      Non-Null Count   Dtype  \n",
      "---  ------                      --------------   -----  \n",
      " 0   User_ID                     550068 non-null  int64  \n",
      " 1   Product_ID                  550068 non-null  object \n",
      " 2   Gender                      550068 non-null  object \n",
      " 3   Age                         550068 non-null  object \n",
      " 4   Occupation                  550068 non-null  int64  \n",
      " 5   City_Category               550068 non-null  object \n",
      " 6   Stay_In_Current_City_Years  550068 non-null  object \n",
      " 7   Marital_Status              550068 non-null  int64  \n",
      " 8   Product_Category_1          550068 non-null  int64  \n",
      " 9   Product_Category_2          376430 non-null  float64\n",
      " 10  Product_Category_3          166821 non-null  float64\n",
      " 11  Purchase                    550068 non-null  int64  \n",
      "dtypes: float64(2), int64(5), object(5)\n",
      "memory usage: 50.4+ MB\n"
     ]
    }
   ],
   "source": [
    "#checking the dataset\n",
    "df_train.info()"
   ]
  },
  {
   "cell_type": "code",
   "execution_count": 8,
   "id": "8664c652",
   "metadata": {
    "execution": {
     "iopub.execute_input": "2022-02-25T12:13:25.210614Z",
     "iopub.status.busy": "2022-02-25T12:13:25.209950Z",
     "iopub.status.idle": "2022-02-25T12:13:25.361094Z",
     "shell.execute_reply": "2022-02-25T12:13:25.360485Z",
     "shell.execute_reply.started": "2022-02-25T12:07:44.956378Z"
    },
    "papermill": {
     "duration": 0.212937,
     "end_time": "2022-02-25T12:13:25.361250",
     "exception": false,
     "start_time": "2022-02-25T12:13:25.148313",
     "status": "completed"
    },
    "tags": []
   },
   "outputs": [
    {
     "data": {
      "text/html": [
       "<div>\n",
       "<style scoped>\n",
       "    .dataframe tbody tr th:only-of-type {\n",
       "        vertical-align: middle;\n",
       "    }\n",
       "\n",
       "    .dataframe tbody tr th {\n",
       "        vertical-align: top;\n",
       "    }\n",
       "\n",
       "    .dataframe thead th {\n",
       "        text-align: right;\n",
       "    }\n",
       "</style>\n",
       "<table border=\"1\" class=\"dataframe\">\n",
       "  <thead>\n",
       "    <tr style=\"text-align: right;\">\n",
       "      <th></th>\n",
       "      <th>User_ID</th>\n",
       "      <th>Occupation</th>\n",
       "      <th>Marital_Status</th>\n",
       "      <th>Product_Category_1</th>\n",
       "      <th>Product_Category_2</th>\n",
       "      <th>Product_Category_3</th>\n",
       "      <th>Purchase</th>\n",
       "    </tr>\n",
       "  </thead>\n",
       "  <tbody>\n",
       "    <tr>\n",
       "      <th>count</th>\n",
       "      <td>5.500680e+05</td>\n",
       "      <td>550068.000000</td>\n",
       "      <td>550068.000000</td>\n",
       "      <td>550068.000000</td>\n",
       "      <td>376430.000000</td>\n",
       "      <td>166821.000000</td>\n",
       "      <td>550068.000000</td>\n",
       "    </tr>\n",
       "    <tr>\n",
       "      <th>mean</th>\n",
       "      <td>1.003029e+06</td>\n",
       "      <td>8.076707</td>\n",
       "      <td>0.409653</td>\n",
       "      <td>5.404270</td>\n",
       "      <td>9.842329</td>\n",
       "      <td>12.668243</td>\n",
       "      <td>9263.968713</td>\n",
       "    </tr>\n",
       "    <tr>\n",
       "      <th>std</th>\n",
       "      <td>1.727592e+03</td>\n",
       "      <td>6.522660</td>\n",
       "      <td>0.491770</td>\n",
       "      <td>3.936211</td>\n",
       "      <td>5.086590</td>\n",
       "      <td>4.125338</td>\n",
       "      <td>5023.065394</td>\n",
       "    </tr>\n",
       "    <tr>\n",
       "      <th>min</th>\n",
       "      <td>1.000001e+06</td>\n",
       "      <td>0.000000</td>\n",
       "      <td>0.000000</td>\n",
       "      <td>1.000000</td>\n",
       "      <td>2.000000</td>\n",
       "      <td>3.000000</td>\n",
       "      <td>12.000000</td>\n",
       "    </tr>\n",
       "    <tr>\n",
       "      <th>25%</th>\n",
       "      <td>1.001516e+06</td>\n",
       "      <td>2.000000</td>\n",
       "      <td>0.000000</td>\n",
       "      <td>1.000000</td>\n",
       "      <td>5.000000</td>\n",
       "      <td>9.000000</td>\n",
       "      <td>5823.000000</td>\n",
       "    </tr>\n",
       "    <tr>\n",
       "      <th>50%</th>\n",
       "      <td>1.003077e+06</td>\n",
       "      <td>7.000000</td>\n",
       "      <td>0.000000</td>\n",
       "      <td>5.000000</td>\n",
       "      <td>9.000000</td>\n",
       "      <td>14.000000</td>\n",
       "      <td>8047.000000</td>\n",
       "    </tr>\n",
       "    <tr>\n",
       "      <th>75%</th>\n",
       "      <td>1.004478e+06</td>\n",
       "      <td>14.000000</td>\n",
       "      <td>1.000000</td>\n",
       "      <td>8.000000</td>\n",
       "      <td>15.000000</td>\n",
       "      <td>16.000000</td>\n",
       "      <td>12054.000000</td>\n",
       "    </tr>\n",
       "    <tr>\n",
       "      <th>max</th>\n",
       "      <td>1.006040e+06</td>\n",
       "      <td>20.000000</td>\n",
       "      <td>1.000000</td>\n",
       "      <td>20.000000</td>\n",
       "      <td>18.000000</td>\n",
       "      <td>18.000000</td>\n",
       "      <td>23961.000000</td>\n",
       "    </tr>\n",
       "  </tbody>\n",
       "</table>\n",
       "</div>"
      ],
      "text/plain": [
       "            User_ID     Occupation  Marital_Status  Product_Category_1  \\\n",
       "count  5.500680e+05  550068.000000   550068.000000       550068.000000   \n",
       "mean   1.003029e+06       8.076707        0.409653            5.404270   \n",
       "std    1.727592e+03       6.522660        0.491770            3.936211   \n",
       "min    1.000001e+06       0.000000        0.000000            1.000000   \n",
       "25%    1.001516e+06       2.000000        0.000000            1.000000   \n",
       "50%    1.003077e+06       7.000000        0.000000            5.000000   \n",
       "75%    1.004478e+06      14.000000        1.000000            8.000000   \n",
       "max    1.006040e+06      20.000000        1.000000           20.000000   \n",
       "\n",
       "       Product_Category_2  Product_Category_3       Purchase  \n",
       "count       376430.000000       166821.000000  550068.000000  \n",
       "mean             9.842329           12.668243    9263.968713  \n",
       "std              5.086590            4.125338    5023.065394  \n",
       "min              2.000000            3.000000      12.000000  \n",
       "25%              5.000000            9.000000    5823.000000  \n",
       "50%              9.000000           14.000000    8047.000000  \n",
       "75%             15.000000           16.000000   12054.000000  \n",
       "max             18.000000           18.000000   23961.000000  "
      ]
     },
     "execution_count": 8,
     "metadata": {},
     "output_type": "execute_result"
    }
   ],
   "source": [
    "df_train.describe()"
   ]
  },
  {
   "cell_type": "code",
   "execution_count": 9,
   "id": "b110ed1b",
   "metadata": {
    "execution": {
     "iopub.execute_input": "2022-02-25T12:13:25.483474Z",
     "iopub.status.busy": "2022-02-25T12:13:25.482752Z",
     "iopub.status.idle": "2022-02-25T12:13:25.782410Z",
     "shell.execute_reply": "2022-02-25T12:13:25.781839Z",
     "shell.execute_reply.started": "2022-02-25T12:07:45.141773Z"
    },
    "papermill": {
     "duration": 0.362366,
     "end_time": "2022-02-25T12:13:25.782562",
     "exception": false,
     "start_time": "2022-02-25T12:13:25.420196",
     "status": "completed"
    },
    "tags": []
   },
   "outputs": [
    {
     "data": {
      "text/plain": [
       "User_ID                            0\n",
       "Product_ID                         0\n",
       "Gender                             0\n",
       "Age                                0\n",
       "Occupation                         0\n",
       "City_Category                      0\n",
       "Stay_In_Current_City_Years         0\n",
       "Marital_Status                     0\n",
       "Product_Category_1                 0\n",
       "Product_Category_2            173638\n",
       "Product_Category_3            383247\n",
       "Purchase                           0\n",
       "dtype: int64"
      ]
     },
     "execution_count": 9,
     "metadata": {},
     "output_type": "execute_result"
    }
   ],
   "source": [
    "#checking null values in training dataset\n",
    "df_train.isnull().sum()"
   ]
  },
  {
   "cell_type": "markdown",
   "id": "660e76ee",
   "metadata": {
    "papermill": {
     "duration": 0.058489,
     "end_time": "2022-02-25T12:13:25.900610",
     "exception": false,
     "start_time": "2022-02-25T12:13:25.842121",
     "status": "completed"
    },
    "tags": []
   },
   "source": [
    "_We have missing values in the Product_Category_2 & Product_Category_3, need to a way to treat them_"
   ]
  },
  {
   "cell_type": "code",
   "execution_count": 10,
   "id": "76d1dc13",
   "metadata": {
    "execution": {
     "iopub.execute_input": "2022-02-25T12:13:26.023022Z",
     "iopub.status.busy": "2022-02-25T12:13:26.022349Z",
     "iopub.status.idle": "2022-02-25T12:13:26.324676Z",
     "shell.execute_reply": "2022-02-25T12:13:26.324094Z",
     "shell.execute_reply.started": "2022-02-25T12:07:45.454447Z"
    },
    "papermill": {
     "duration": 0.365623,
     "end_time": "2022-02-25T12:13:26.324828",
     "exception": false,
     "start_time": "2022-02-25T12:13:25.959205",
     "status": "completed"
    },
    "tags": []
   },
   "outputs": [
    {
     "data": {
      "text/plain": [
       "User_ID                        0.00\n",
       "Product_ID                     0.00\n",
       "Gender                         0.00\n",
       "Age                            0.00\n",
       "Occupation                     0.00\n",
       "City_Category                  0.00\n",
       "Stay_In_Current_City_Years     0.00\n",
       "Marital_Status                 0.00\n",
       "Product_Category_1             0.00\n",
       "Product_Category_2            31.57\n",
       "Product_Category_3            69.67\n",
       "Purchase                       0.00\n",
       "dtype: float64"
      ]
     },
     "execution_count": 10,
     "metadata": {},
     "output_type": "execute_result"
    }
   ],
   "source": [
    "#checking percentage of nulls\n",
    "round((df_train.isnull().sum()/len(df_train.index))*100,2)"
   ]
  },
  {
   "cell_type": "code",
   "execution_count": 11,
   "id": "727fe8e3",
   "metadata": {
    "execution": {
     "iopub.execute_input": "2022-02-25T12:13:26.539683Z",
     "iopub.status.busy": "2022-02-25T12:13:26.538971Z",
     "iopub.status.idle": "2022-02-25T12:13:26.898310Z",
     "shell.execute_reply": "2022-02-25T12:13:26.898783Z",
     "shell.execute_reply.started": "2022-02-25T12:07:45.765234Z"
    },
    "papermill": {
     "duration": 0.514213,
     "end_time": "2022-02-25T12:13:26.898962",
     "exception": false,
     "start_time": "2022-02-25T12:13:26.384749",
     "status": "completed"
    },
    "tags": []
   },
   "outputs": [
    {
     "data": {
      "image/png": "[encoded data removed]",
      "text/plain": [
       "<Figure size 720x504 with 1 Axes>"
      ]
     },
     "metadata": {
      "needs_background": "light"
     },
     "output_type": "display_data"
    }
   ],
   "source": [
    "ax = df_train['Product_ID'].value_counts().head(20).plot(kind='bar', figsize=(10,7))\n",
    "\n",
    "for p in ax.patches:\n",
    "    height = p.get_height()\n",
    "    ax.text(x=p.get_x()+(p.get_width()/2),\n",
    "           y = height+50,\n",
    "           s=height,\n",
    "           ha='center',\n",
    "            va='center'\n",
    "          )"
   ]
  },
  {
   "cell_type": "markdown",
   "id": "36d03408",
   "metadata": {
    "papermill": {
     "duration": 0.060142,
     "end_time": "2022-02-25T12:13:27.019368",
     "exception": false,
     "start_time": "2022-02-25T12:13:26.959226",
     "status": "completed"
    },
    "tags": []
   },
   "source": [
    "The column has total of 550068 items, plotting the top 20"
   ]
  },
  {
   "cell_type": "code",
   "execution_count": 12,
   "id": "c6d9f7ed",
   "metadata": {
    "execution": {
     "iopub.execute_input": "2022-02-25T12:13:27.204833Z",
     "iopub.status.busy": "2022-02-25T12:13:27.143653Z",
     "iopub.status.idle": "2022-02-25T12:13:27.862632Z",
     "shell.execute_reply": "2022-02-25T12:13:27.863483Z",
     "shell.execute_reply.started": "2022-02-25T12:07:46.307366Z"
    },
    "papermill": {
     "duration": 0.783594,
     "end_time": "2022-02-25T12:13:27.863766",
     "exception": false,
     "start_time": "2022-02-25T12:13:27.080172",
     "status": "completed"
    },
    "tags": []
   },
   "outputs": [
    {
     "data": {
      "image/png": "[encoded data removed]",
      "text/plain": [
       "<Figure size 432x288 with 1 Axes>"
      ]
     },
     "metadata": {
      "needs_background": "light"
     },
     "output_type": "display_data"
    }
   ],
   "source": [
    "ax = sns.countplot(x='Gender', data=df_train)\n",
    "\n",
    "for p in ax.patches:\n",
    "    height = p.get_height()\n",
    "    ax.text(x=p.get_x()+(p.get_width()/2),\n",
    "            y = height+500,\n",
    "            s=height,\n",
    "            ha='center'\n",
    "           )\n",
    "\n",
    "plt.show()"
   ]
  },
  {
   "cell_type": "markdown",
   "id": "c2894d66",
   "metadata": {
    "papermill": {
     "duration": 0.060709,
     "end_time": "2022-02-25T12:13:27.996923",
     "exception": false,
     "start_time": "2022-02-25T12:13:27.936214",
     "status": "completed"
    },
    "tags": []
   },
   "source": [
    "The data has 2 values for gender column, maximum are males"
   ]
  },
  {
   "cell_type": "code",
   "execution_count": 13,
   "id": "a8c845d1",
   "metadata": {
    "execution": {
     "iopub.execute_input": "2022-02-25T12:13:28.213802Z",
     "iopub.status.busy": "2022-02-25T12:13:28.212193Z",
     "iopub.status.idle": "2022-02-25T12:13:28.216200Z",
     "shell.execute_reply": "2022-02-25T12:13:28.215674Z",
     "shell.execute_reply.started": "2022-02-25T12:07:47.100300Z"
    },
    "papermill": {
     "duration": 0.157917,
     "end_time": "2022-02-25T12:13:28.216342",
     "exception": false,
     "start_time": "2022-02-25T12:13:28.058425",
     "status": "completed"
    },
    "tags": []
   },
   "outputs": [
    {
     "data": {
      "text/plain": [
       "26-35    219587\n",
       "36-45    110013\n",
       "18-25     99660\n",
       "46-50     45701\n",
       "51-55     38501\n",
       "55+       21504\n",
       "0-17      15102\n",
       "Name: Age, dtype: int64"
      ]
     },
     "execution_count": 13,
     "metadata": {},
     "output_type": "execute_result"
    }
   ],
   "source": [
    "df_train['Age'].value_counts()"
   ]
  },
  {
   "cell_type": "code",
   "execution_count": 14,
   "id": "00e13cc3",
   "metadata": {
    "execution": {
     "iopub.execute_input": "2022-02-25T12:13:28.348727Z",
     "iopub.status.busy": "2022-02-25T12:13:28.348121Z",
     "iopub.status.idle": "2022-02-25T12:13:28.964610Z",
     "shell.execute_reply": "2022-02-25T12:13:28.965327Z",
     "shell.execute_reply.started": "2022-02-25T12:07:47.198318Z"
    },
    "papermill": {
     "duration": 0.687083,
     "end_time": "2022-02-25T12:13:28.965672",
     "exception": false,
     "start_time": "2022-02-25T12:13:28.278589",
     "status": "completed"
    },
    "tags": []
   },
   "outputs": [
    {
     "data": {
      "image/png": "[encoded data removed]",
      "text/plain": [
       "<Figure size 432x288 with 1 Axes>"
      ]
     },
     "metadata": {
      "needs_background": "light"
     },
     "output_type": "display_data"
    }
   ],
   "source": [
    "ax = sns.countplot(x='Age', data=df_train, order=['26-35',\n",
    "'36-45',\n",
    "'18-25',\n",
    "'46-50',\n",
    "'51-55',\n",
    "'55+',\n",
    "'0-17'])# use order to define the order in whih we want to see the analysis.\n",
    "\n",
    "for p in ax.patches:\n",
    "    height = p.get_height()\n",
    "    ax.text(x=p.get_x()+(p.get_width()/2),\n",
    "            y = height+500,\n",
    "            s=height,\n",
    "            ha='center'\n",
    "           )\n",
    "\n",
    "plt.show()"
   ]
  },
  {
   "cell_type": "markdown",
   "id": "923dc93d",
   "metadata": {
    "papermill": {
     "duration": 0.062244,
     "end_time": "2022-02-25T12:13:29.092513",
     "exception": false,
     "start_time": "2022-02-25T12:13:29.030269",
     "status": "completed"
    },
    "tags": []
   },
   "source": [
    "The **Age** column is divided into ranges of ages & the maximum age group that makes the purchase are in the age group of **26-35**"
   ]
  },
  {
   "cell_type": "code",
   "execution_count": 15,
   "id": "9cc33518",
   "metadata": {
    "execution": {
     "iopub.execute_input": "2022-02-25T12:13:29.221562Z",
     "iopub.status.busy": "2022-02-25T12:13:29.220912Z",
     "iopub.status.idle": "2022-02-25T12:13:29.230542Z",
     "shell.execute_reply": "2022-02-25T12:13:29.231047Z",
     "shell.execute_reply.started": "2022-02-25T12:07:47.836064Z"
    },
    "papermill": {
     "duration": 0.075329,
     "end_time": "2022-02-25T12:13:29.231232",
     "exception": false,
     "start_time": "2022-02-25T12:13:29.155903",
     "status": "completed"
    },
    "tags": []
   },
   "outputs": [
    {
     "data": {
      "text/plain": [
       "4     72308\n",
       "0     69638\n",
       "7     59133\n",
       "1     47426\n",
       "17    40043\n",
       "20    33562\n",
       "12    31179\n",
       "14    27309\n",
       "2     26588\n",
       "16    25371\n",
       "6     20355\n",
       "3     17650\n",
       "10    12930\n",
       "5     12177\n",
       "15    12165\n",
       "11    11586\n",
       "19     8461\n",
       "13     7728\n",
       "18     6622\n",
       "9      6291\n",
       "8      1546\n",
       "Name: Occupation, dtype: int64"
      ]
     },
     "execution_count": 15,
     "metadata": {},
     "output_type": "execute_result"
    }
   ],
   "source": [
    "df_train['Occupation'].value_counts()"
   ]
  },
  {
   "cell_type": "markdown",
   "id": "8ad419c4",
   "metadata": {
    "papermill": {
     "duration": 0.062571,
     "end_time": "2022-02-25T12:13:29.356913",
     "exception": false,
     "start_time": "2022-02-25T12:13:29.294342",
     "status": "completed"
    },
    "tags": []
   },
   "source": [
    "The **Occupation** is encoded into numbers, plotting the count of occupations"
   ]
  },
  {
   "cell_type": "code",
   "execution_count": 16,
   "id": "95c3f5ac",
   "metadata": {
    "execution": {
     "iopub.execute_input": "2022-02-25T12:13:29.485939Z",
     "iopub.status.busy": "2022-02-25T12:13:29.485304Z",
     "iopub.status.idle": "2022-02-25T12:13:29.893754Z",
     "shell.execute_reply": "2022-02-25T12:13:29.893244Z",
     "shell.execute_reply.started": "2022-02-25T12:07:47.849398Z"
    },
    "papermill": {
     "duration": 0.473954,
     "end_time": "2022-02-25T12:13:29.893913",
     "exception": false,
     "start_time": "2022-02-25T12:13:29.419959",
     "status": "completed"
    },
    "tags": []
   },
   "outputs": [
    {
     "data": {
      "image/png": "[encoded data removed]",
      "text/plain": [
       "<Figure size 720x504 with 1 Axes>"
      ]
     },
     "metadata": {
      "needs_background": "light"
     },
     "output_type": "display_data"
    }
   ],
   "source": [
    "plt.figure(figsize=(10,7))\n",
    "ax = sns.countplot(x='Occupation', data=df_train, order=df_train['Occupation'].value_counts().index)\n",
    "for p in ax.patches:\n",
    "    height = p.get_height()\n",
    "    ax.text(x=p.get_x()+(p.get_width()/2),\n",
    "            y = height+500,\n",
    "            s=height,\n",
    "            ha='center'\n",
    "           )\n",
    "\n",
    "\n",
    "plt.show()"
   ]
  },
  {
   "cell_type": "code",
   "execution_count": 17,
   "id": "96874907",
   "metadata": {
    "execution": {
     "iopub.execute_input": "2022-02-25T12:13:30.091056Z",
     "iopub.status.busy": "2022-02-25T12:13:30.090345Z",
     "iopub.status.idle": "2022-02-25T12:13:30.094687Z",
     "shell.execute_reply": "2022-02-25T12:13:30.095200Z",
     "shell.execute_reply.started": "2022-02-25T12:07:48.302702Z"
    },
    "papermill": {
     "duration": 0.136922,
     "end_time": "2022-02-25T12:13:30.095377",
     "exception": false,
     "start_time": "2022-02-25T12:13:29.958455",
     "status": "completed"
    },
    "tags": []
   },
   "outputs": [
    {
     "data": {
      "text/plain": [
       "B    231173\n",
       "C    171175\n",
       "A    147720\n",
       "Name: City_Category, dtype: int64"
      ]
     },
     "execution_count": 17,
     "metadata": {},
     "output_type": "execute_result"
    }
   ],
   "source": [
    "df_train['City_Category'].value_counts()"
   ]
  },
  {
   "cell_type": "markdown",
   "id": "35827f88",
   "metadata": {
    "papermill": {
     "duration": 0.064483,
     "end_time": "2022-02-25T12:13:30.225148",
     "exception": false,
     "start_time": "2022-02-25T12:13:30.160665",
     "status": "completed"
    },
    "tags": []
   },
   "source": [
    "The **City_Category** column is also encoded, so plotting to see the dta distribution"
   ]
  },
  {
   "cell_type": "code",
   "execution_count": 18,
   "id": "eca2f348",
   "metadata": {
    "execution": {
     "iopub.execute_input": "2022-02-25T12:13:30.358403Z",
     "iopub.status.busy": "2022-02-25T12:13:30.357757Z",
     "iopub.status.idle": "2022-02-25T12:13:31.019336Z",
     "shell.execute_reply": "2022-02-25T12:13:31.020102Z",
     "shell.execute_reply.started": "2022-02-25T12:07:48.378388Z"
    },
    "papermill": {
     "duration": 0.73063,
     "end_time": "2022-02-25T12:13:31.020350",
     "exception": false,
     "start_time": "2022-02-25T12:13:30.289720",
     "status": "completed"
    },
    "tags": []
   },
   "outputs": [
    {
     "data": {
      "image/png": "[encoded data removed]",
      "text/plain": [
       "<Figure size 720x504 with 1 Axes>"
      ]
     },
     "metadata": {
      "needs_background": "light"
     },
     "output_type": "display_data"
    }
   ],
   "source": [
    "plt.figure(figsize=(10,7))\n",
    "ax = sns.countplot(x='City_Category', data=df_train, order=df_train['City_Category'].value_counts().index)\n",
    "for p in ax.patches:\n",
    "    height = p.get_height()\n",
    "    ax.text(x=p.get_x()+(p.get_width()/2),\n",
    "            y = height+500,\n",
    "            s=height,\n",
    "            ha='center'\n",
    "           )\n",
    "\n",
    "\n",
    "plt.show()"
   ]
  },
  {
   "cell_type": "code",
   "execution_count": 19,
   "id": "dcc68df2",
   "metadata": {
    "execution": {
     "iopub.execute_input": "2022-02-25T12:13:31.262627Z",
     "iopub.status.busy": "2022-02-25T12:13:31.261689Z",
     "iopub.status.idle": "2022-02-25T12:13:31.265152Z",
     "shell.execute_reply": "2022-02-25T12:13:31.265649Z",
     "shell.execute_reply.started": "2022-02-25T12:07:49.068162Z"
    },
    "papermill": {
     "duration": 0.149158,
     "end_time": "2022-02-25T12:13:31.265822",
     "exception": false,
     "start_time": "2022-02-25T12:13:31.116664",
     "status": "completed"
    },
    "tags": []
   },
   "outputs": [
    {
     "data": {
      "text/plain": [
       "1     193821\n",
       "2     101838\n",
       "3      95285\n",
       "4+     84726\n",
       "0      74398\n",
       "Name: Stay_In_Current_City_Years, dtype: int64"
      ]
     },
     "execution_count": 19,
     "metadata": {},
     "output_type": "execute_result"
    }
   ],
   "source": [
    "df_train['Stay_In_Current_City_Years'].value_counts()"
   ]
  },
  {
   "cell_type": "markdown",
   "id": "4700cd02",
   "metadata": {
    "papermill": {
     "duration": 0.0857,
     "end_time": "2022-02-25T12:13:31.432920",
     "exception": false,
     "start_time": "2022-02-25T12:13:31.347220",
     "status": "completed"
    },
    "tags": []
   },
   "source": [
    "The data has stay in city upto 4 years, the data distribution is as follows"
   ]
  },
  {
   "cell_type": "code",
   "execution_count": 20,
   "id": "af635bd7",
   "metadata": {
    "execution": {
     "iopub.execute_input": "2022-02-25T12:13:31.568673Z",
     "iopub.status.busy": "2022-02-25T12:13:31.567672Z",
     "iopub.status.idle": "2022-02-25T12:13:32.261985Z",
     "shell.execute_reply": "2022-02-25T12:13:32.261425Z",
     "shell.execute_reply.started": "2022-02-25T12:07:49.144397Z"
    },
    "papermill": {
     "duration": 0.763442,
     "end_time": "2022-02-25T12:13:32.262127",
     "exception": false,
     "start_time": "2022-02-25T12:13:31.498685",
     "status": "completed"
    },
    "tags": []
   },
   "outputs": [
    {
     "data": {
      "image/png": "[encoded data removed]",
      "text/plain": [
       "<Figure size 720x504 with 1 Axes>"
      ]
     },
     "metadata": {
      "needs_background": "light"
     },
     "output_type": "display_data"
    }
   ],
   "source": [
    "plt.figure(figsize=(10,7))\n",
    "ax = sns.countplot(x='Stay_In_Current_City_Years', data=df_train, order=df_train['Stay_In_Current_City_Years'].value_counts().index)\n",
    "for p in ax.patches:\n",
    "    height = p.get_height()\n",
    "    ax.text(x=p.get_x()+(p.get_width()/2),\n",
    "            y=height+100,\n",
    "            s=height,\n",
    "            ha='center'\n",
    "           )\n",
    "plt.show()"
   ]
  },
  {
   "cell_type": "code",
   "execution_count": 21,
   "id": "ea02ebe5",
   "metadata": {
    "execution": {
     "iopub.execute_input": "2022-02-25T12:13:32.402733Z",
     "iopub.status.busy": "2022-02-25T12:13:32.401772Z",
     "iopub.status.idle": "2022-02-25T12:13:32.412419Z",
     "shell.execute_reply": "2022-02-25T12:13:32.412899Z",
     "shell.execute_reply.started": "2022-02-25T12:07:49.861223Z"
    },
    "papermill": {
     "duration": 0.084575,
     "end_time": "2022-02-25T12:13:32.413084",
     "exception": false,
     "start_time": "2022-02-25T12:13:32.328509",
     "status": "completed"
    },
    "tags": []
   },
   "outputs": [
    {
     "data": {
      "text/plain": [
       "0    324731\n",
       "1    225337\n",
       "Name: Marital_Status, dtype: int64"
      ]
     },
     "execution_count": 21,
     "metadata": {},
     "output_type": "execute_result"
    }
   ],
   "source": [
    "df_train['Marital_Status'].value_counts()"
   ]
  },
  {
   "cell_type": "markdown",
   "id": "2d8516b4",
   "metadata": {
    "papermill": {
     "duration": 0.067605,
     "end_time": "2022-02-25T12:13:32.547804",
     "exception": false,
     "start_time": "2022-02-25T12:13:32.480199",
     "status": "completed"
    },
    "tags": []
   },
   "source": [
    "Marital Status is encoded as **0** & **1**, plotting the same"
   ]
  },
  {
   "cell_type": "code",
   "execution_count": 22,
   "id": "330eca51",
   "metadata": {
    "execution": {
     "iopub.execute_input": "2022-02-25T12:13:32.686695Z",
     "iopub.status.busy": "2022-02-25T12:13:32.685999Z",
     "iopub.status.idle": "2022-02-25T12:13:32.883592Z",
     "shell.execute_reply": "2022-02-25T12:13:32.883094Z",
     "shell.execute_reply.started": "2022-02-25T12:07:49.875470Z"
    },
    "papermill": {
     "duration": 0.267577,
     "end_time": "2022-02-25T12:13:32.883731",
     "exception": false,
     "start_time": "2022-02-25T12:13:32.616154",
     "status": "completed"
    },
    "tags": []
   },
   "outputs": [
    {
     "data": {
      "image/png": "[encoded data removed]",
      "text/plain": [
       "<Figure size 432x288 with 1 Axes>"
      ]
     },
     "metadata": {
      "needs_background": "light"
     },
     "output_type": "display_data"
    }
   ],
   "source": [
    "ax = sns.countplot(x='Marital_Status', data=df_train)\n",
    "\n",
    "for p in ax.patches:\n",
    "    height = p.get_height()\n",
    "    ax.text(x=p.get_x()+ (p.get_width()/2),\n",
    "            y=height+1000,\n",
    "            s=height,\n",
    "            ha='center'\n",
    "           )\n",
    "plt.show()"
   ]
  },
  {
   "cell_type": "code",
   "execution_count": 23,
   "id": "12f88218",
   "metadata": {
    "execution": {
     "iopub.execute_input": "2022-02-25T12:13:33.026677Z",
     "iopub.status.busy": "2022-02-25T12:13:33.026030Z",
     "iopub.status.idle": "2022-02-25T12:13:33.036033Z",
     "shell.execute_reply": "2022-02-25T12:13:33.036504Z",
     "shell.execute_reply.started": "2022-02-25T12:07:50.084731Z"
    },
    "papermill": {
     "duration": 0.083386,
     "end_time": "2022-02-25T12:13:33.036680",
     "exception": false,
     "start_time": "2022-02-25T12:13:32.953294",
     "status": "completed"
    },
    "tags": []
   },
   "outputs": [
    {
     "data": {
      "text/plain": [
       "5     150933\n",
       "1     140378\n",
       "8     113925\n",
       "11     24287\n",
       "2      23864\n",
       "6      20466\n",
       "3      20213\n",
       "4      11753\n",
       "16      9828\n",
       "15      6290\n",
       "13      5549\n",
       "10      5125\n",
       "12      3947\n",
       "7       3721\n",
       "18      3125\n",
       "20      2550\n",
       "19      1603\n",
       "14      1523\n",
       "17       578\n",
       "9        410\n",
       "Name: Product_Category_1, dtype: int64"
      ]
     },
     "execution_count": 23,
     "metadata": {},
     "output_type": "execute_result"
    }
   ],
   "source": [
    "df_train['Product_Category_1'].value_counts()"
   ]
  },
  {
   "cell_type": "markdown",
   "id": "8ea28f11",
   "metadata": {
    "papermill": {
     "duration": 0.069091,
     "end_time": "2022-02-25T12:13:33.175253",
     "exception": false,
     "start_time": "2022-02-25T12:13:33.106162",
     "status": "completed"
    },
    "tags": []
   },
   "source": [
    "**Product_Category_1** is encoded, plotting the distribution"
   ]
  },
  {
   "cell_type": "code",
   "execution_count": 24,
   "id": "8ef28377",
   "metadata": {
    "execution": {
     "iopub.execute_input": "2022-02-25T12:13:33.315725Z",
     "iopub.status.busy": "2022-02-25T12:13:33.315122Z",
     "iopub.status.idle": "2022-02-25T12:13:33.710072Z",
     "shell.execute_reply": "2022-02-25T12:13:33.709545Z",
     "shell.execute_reply.started": "2022-02-25T12:07:50.096651Z"
    },
    "papermill": {
     "duration": 0.465853,
     "end_time": "2022-02-25T12:13:33.710214",
     "exception": false,
     "start_time": "2022-02-25T12:13:33.244361",
     "status": "completed"
    },
    "tags": []
   },
   "outputs": [
    {
     "data": {
      "image/png": "[encoded data removed]",
      "text/plain": [
       "<Figure size 720x504 with 1 Axes>"
      ]
     },
     "metadata": {
      "needs_background": "light"
     },
     "output_type": "display_data"
    }
   ],
   "source": [
    "plt.figure(figsize=(10,7))\n",
    "ax = sns.countplot(x='Product_Category_1', data=df_train, order=df_train['Product_Category_1'].value_counts().index)\n",
    "\n",
    "for p in ax.patches:\n",
    "    height = p.get_height()\n",
    "    ax.text(x=p.get_x()+(p.get_width()/2),\n",
    "            y=height+1000,\n",
    "            s=height,\n",
    "            ha='center',\n",
    "            va='baseline'\n",
    "           )\n",
    "plt.show()"
   ]
  },
  {
   "cell_type": "code",
   "execution_count": 25,
   "id": "538a1673",
   "metadata": {
    "execution": {
     "iopub.execute_input": "2022-02-25T12:13:33.863014Z",
     "iopub.status.busy": "2022-02-25T12:13:33.862289Z",
     "iopub.status.idle": "2022-02-25T12:13:33.869242Z",
     "shell.execute_reply": "2022-02-25T12:13:33.868680Z",
     "shell.execute_reply.started": "2022-02-25T12:07:50.512085Z"
    },
    "papermill": {
     "duration": 0.089456,
     "end_time": "2022-02-25T12:13:33.869383",
     "exception": false,
     "start_time": "2022-02-25T12:13:33.779927",
     "status": "completed"
    },
    "tags": []
   },
   "outputs": [
    {
     "data": {
      "text/plain": [
       "8.0     64088\n",
       "14.0    55108\n",
       "2.0     49217\n",
       "16.0    43255\n",
       "15.0    37855\n",
       "5.0     26235\n",
       "4.0     25677\n",
       "6.0     16466\n",
       "11.0    14134\n",
       "17.0    13320\n",
       "13.0    10531\n",
       "9.0      5693\n",
       "12.0     5528\n",
       "10.0     3043\n",
       "3.0      2884\n",
       "18.0     2770\n",
       "7.0       626\n",
       "Name: Product_Category_2, dtype: int64"
      ]
     },
     "execution_count": 25,
     "metadata": {},
     "output_type": "execute_result"
    }
   ],
   "source": [
    "df_train['Product_Category_2'].value_counts()"
   ]
  },
  {
   "cell_type": "code",
   "execution_count": 26,
   "id": "ce90f85e",
   "metadata": {
    "execution": {
     "iopub.execute_input": "2022-02-25T12:13:34.030353Z",
     "iopub.status.busy": "2022-02-25T12:13:34.012337Z",
     "iopub.status.idle": "2022-02-25T12:13:34.486881Z",
     "shell.execute_reply": "2022-02-25T12:13:34.486139Z",
     "shell.execute_reply.started": "2022-02-25T12:07:50.536263Z"
    },
    "papermill": {
     "duration": 0.547569,
     "end_time": "2022-02-25T12:13:34.487054",
     "exception": false,
     "start_time": "2022-02-25T12:13:33.939485",
     "status": "completed"
    },
    "tags": []
   },
   "outputs": [
    {
     "data": {
      "image/png": "[encoded data removed]",
      "text/plain": [
       "<Figure size 720x504 with 1 Axes>"
      ]
     },
     "metadata": {
      "needs_background": "light"
     },
     "output_type": "display_data"
    }
   ],
   "source": [
    "plt.figure(figsize=(10,7))\n",
    "ax = sns.countplot(x='Product_Category_2', data=df_train, order=df_train['Product_Category_2'].value_counts().index)\n",
    "\n",
    "for p in ax.patches:\n",
    "    height = p.get_height()\n",
    "    ax.text(x=p.get_x()+(p.get_width()/2),\n",
    "            y=height+1000,\n",
    "            s=height,\n",
    "            ha='center',\n",
    "            va='baseline'\n",
    "           )\n",
    "plt.show()"
   ]
  },
  {
   "cell_type": "code",
   "execution_count": 27,
   "id": "d61a8864",
   "metadata": {
    "execution": {
     "iopub.execute_input": "2022-02-25T12:13:34.643648Z",
     "iopub.status.busy": "2022-02-25T12:13:34.640237Z",
     "iopub.status.idle": "2022-02-25T12:13:34.647614Z",
     "shell.execute_reply": "2022-02-25T12:13:34.647118Z",
     "shell.execute_reply.started": "2022-02-25T12:07:51.103289Z"
    },
    "papermill": {
     "duration": 0.08908,
     "end_time": "2022-02-25T12:13:34.647767",
     "exception": false,
     "start_time": "2022-02-25T12:13:34.558687",
     "status": "completed"
    },
    "tags": []
   },
   "outputs": [
    {
     "data": {
      "text/plain": [
       "16.0    32636\n",
       "15.0    28013\n",
       "14.0    18428\n",
       "17.0    16702\n",
       "5.0     16658\n",
       "8.0     12562\n",
       "9.0     11579\n",
       "12.0     9246\n",
       "13.0     5459\n",
       "6.0      4890\n",
       "18.0     4629\n",
       "4.0      1875\n",
       "11.0     1805\n",
       "10.0     1726\n",
       "3.0       613\n",
       "Name: Product_Category_3, dtype: int64"
      ]
     },
     "execution_count": 27,
     "metadata": {},
     "output_type": "execute_result"
    }
   ],
   "source": [
    "df_train['Product_Category_3'].value_counts()"
   ]
  },
  {
   "cell_type": "code",
   "execution_count": 28,
   "id": "81de58f9",
   "metadata": {
    "execution": {
     "iopub.execute_input": "2022-02-25T12:13:34.805431Z",
     "iopub.status.busy": "2022-02-25T12:13:34.804730Z",
     "iopub.status.idle": "2022-02-25T12:13:35.113739Z",
     "shell.execute_reply": "2022-02-25T12:13:35.114300Z",
     "shell.execute_reply.started": "2022-02-25T12:07:51.120215Z"
    },
    "papermill": {
     "duration": 0.394275,
     "end_time": "2022-02-25T12:13:35.114474",
     "exception": false,
     "start_time": "2022-02-25T12:13:34.720199",
     "status": "completed"
    },
    "tags": []
   },
   "outputs": [
    {
     "data": {
      "image/png": "[encoded data removed]",
      "text/plain": [
       "<Figure size 720x504 with 1 Axes>"
      ]
     },
     "metadata": {
      "needs_background": "light"
     },
     "output_type": "display_data"
    }
   ],
   "source": [
    "plt.figure(figsize=(10,7))\n",
    "ax = sns.countplot(x='Product_Category_3', data=df_train, order=df_train['Product_Category_3'].value_counts().index)\n",
    "\n",
    "for p in ax.patches:\n",
    "    height = p.get_height()\n",
    "    ax.text(x=p.get_x()+(p.get_width()/2),\n",
    "            y=height+1000,\n",
    "            s=height,\n",
    "            ha='center',\n",
    "            va='baseline'\n",
    "           )\n",
    "plt.show()"
   ]
  },
  {
   "cell_type": "code",
   "execution_count": 29,
   "id": "460a72ed",
   "metadata": {
    "execution": {
     "iopub.execute_input": "2022-02-25T12:13:35.265074Z",
     "iopub.status.busy": "2022-02-25T12:13:35.264351Z",
     "iopub.status.idle": "2022-02-25T12:13:38.278862Z",
     "shell.execute_reply": "2022-02-25T12:13:38.277705Z",
     "shell.execute_reply.started": "2022-02-25T12:07:51.453956Z"
    },
    "papermill": {
     "duration": 3.090712,
     "end_time": "2022-02-25T12:13:38.279029",
     "exception": false,
     "start_time": "2022-02-25T12:13:35.188317",
     "status": "completed"
    },
    "tags": []
   },
   "outputs": [
    {
     "data": {
      "image/png": "[encoded data removed]",
      "text/plain": [
       "<Figure size 360x360 with 1 Axes>"
      ]
     },
     "metadata": {
      "needs_background": "light"
     },
     "output_type": "display_data"
    }
   ],
   "source": [
    "sns.displot(df_train['Purchase'], kde=True, kind='hist')\n",
    "plt.show()"
   ]
  },
  {
   "cell_type": "markdown",
   "id": "31ec8744",
   "metadata": {
    "papermill": {
     "duration": 0.073544,
     "end_time": "2022-02-25T12:13:38.428579",
     "exception": false,
     "start_time": "2022-02-25T12:13:38.355035",
     "status": "completed"
    },
    "tags": []
   },
   "source": [
    "Lets drop the Null values in product category"
   ]
  },
  {
   "cell_type": "code",
   "execution_count": 30,
   "id": "4ec81d6d",
   "metadata": {
    "execution": {
     "iopub.execute_input": "2022-02-25T12:13:38.581423Z",
     "iopub.status.busy": "2022-02-25T12:13:38.580734Z",
     "iopub.status.idle": "2022-02-25T12:13:38.584271Z",
     "shell.execute_reply": "2022-02-25T12:13:38.584708Z",
     "shell.execute_reply.started": "2022-02-25T12:07:54.599225Z"
    },
    "papermill": {
     "duration": 0.082525,
     "end_time": "2022-02-25T12:13:38.584898",
     "exception": false,
     "start_time": "2022-02-25T12:13:38.502373",
     "status": "completed"
    },
    "tags": []
   },
   "outputs": [
    {
     "name": "stdout",
     "output_type": "stream",
     "text": [
      "Shape of df_train before dropping nulls: (550068, 12)\n"
     ]
    }
   ],
   "source": [
    "print('Shape of df_train before dropping nulls:', df_train.shape)"
   ]
  },
  {
   "cell_type": "code",
   "execution_count": 31,
   "id": "d39f4d5b",
   "metadata": {
    "execution": {
     "iopub.execute_input": "2022-02-25T12:13:38.736848Z",
     "iopub.status.busy": "2022-02-25T12:13:38.736252Z",
     "iopub.status.idle": "2022-02-25T12:13:38.775904Z",
     "shell.execute_reply": "2022-02-25T12:13:38.775346Z",
     "shell.execute_reply.started": "2022-02-25T12:07:54.608142Z"
    },
    "papermill": {
     "duration": 0.116876,
     "end_time": "2022-02-25T12:13:38.776062",
     "exception": false,
     "start_time": "2022-02-25T12:13:38.659186",
     "status": "completed"
    },
    "tags": []
   },
   "outputs": [],
   "source": [
    "#df_train.dropna(inplace=True, axis=0)\n",
    "#dropping the Product_Category_3 columns has it has 67% nulls\n",
    "df_train.drop(['Product_Category_3'], axis=1, inplace=True)"
   ]
  },
  {
   "cell_type": "code",
   "execution_count": 32,
   "id": "2fa63af7",
   "metadata": {
    "execution": {
     "iopub.execute_input": "2022-02-25T12:13:38.930597Z",
     "iopub.status.busy": "2022-02-25T12:13:38.929856Z",
     "iopub.status.idle": "2022-02-25T12:13:39.277345Z",
     "shell.execute_reply": "2022-02-25T12:13:39.276775Z",
     "shell.execute_reply.started": "2022-02-25T12:07:54.666381Z"
    },
    "papermill": {
     "duration": 0.426857,
     "end_time": "2022-02-25T12:13:39.277506",
     "exception": false,
     "start_time": "2022-02-25T12:13:38.850649",
     "status": "completed"
    },
    "tags": []
   },
   "outputs": [],
   "source": [
    "#dropping null rows from Product_Category_2\n",
    "df_train.dropna(axis=0, inplace=True)"
   ]
  },
  {
   "cell_type": "code",
   "execution_count": 33,
   "id": "2eaf50d9",
   "metadata": {
    "execution": {
     "iopub.execute_input": "2022-02-25T12:13:39.432067Z",
     "iopub.status.busy": "2022-02-25T12:13:39.431353Z",
     "iopub.status.idle": "2022-02-25T12:13:39.435032Z",
     "shell.execute_reply": "2022-02-25T12:13:39.434357Z",
     "shell.execute_reply.started": "2022-02-25T12:07:55.042888Z"
    },
    "papermill": {
     "duration": 0.082543,
     "end_time": "2022-02-25T12:13:39.435174",
     "exception": false,
     "start_time": "2022-02-25T12:13:39.352631",
     "status": "completed"
    },
    "tags": []
   },
   "outputs": [
    {
     "name": "stdout",
     "output_type": "stream",
     "text": [
      "Shape of df_train after dropping nulls: (376430, 11)\n"
     ]
    }
   ],
   "source": [
    "print('Shape of df_train after dropping nulls:', df_train.shape)"
   ]
  },
  {
   "cell_type": "markdown",
   "id": "63e468c7",
   "metadata": {
    "papermill": {
     "duration": 0.076127,
     "end_time": "2022-02-25T12:13:39.586632",
     "exception": false,
     "start_time": "2022-02-25T12:13:39.510505",
     "status": "completed"
    },
    "tags": []
   },
   "source": [
    "So, after dropping we have around 68% data for model training"
   ]
  },
  {
   "cell_type": "code",
   "execution_count": 34,
   "id": "1f942d2d",
   "metadata": {
    "execution": {
     "iopub.execute_input": "2022-02-25T12:13:39.938017Z",
     "iopub.status.busy": "2022-02-25T12:13:39.742298Z",
     "iopub.status.idle": "2022-02-25T12:13:39.954948Z",
     "shell.execute_reply": "2022-02-25T12:13:39.954271Z",
     "shell.execute_reply.started": "2022-02-25T12:07:55.051182Z"
    },
    "papermill": {
     "duration": 0.293022,
     "end_time": "2022-02-25T12:13:39.955092",
     "exception": false,
     "start_time": "2022-02-25T12:13:39.662070",
     "status": "completed"
    },
    "tags": []
   },
   "outputs": [
    {
     "name": "stdout",
     "output_type": "stream",
     "text": [
      "<class 'pandas.core.frame.DataFrame'>\n",
      "Int64Index: 376430 entries, 1 to 545914\n",
      "Data columns (total 11 columns):\n",
      " #   Column                      Non-Null Count   Dtype  \n",
      "---  ------                      --------------   -----  \n",
      " 0   User_ID                     376430 non-null  int64  \n",
      " 1   Product_ID                  376430 non-null  object \n",
      " 2   Gender                      376430 non-null  object \n",
      " 3   Age                         376430 non-null  object \n",
      " 4   Occupation                  376430 non-null  int64  \n",
      " 5   City_Category               376430 non-null  object \n",
      " 6   Stay_In_Current_City_Years  376430 non-null  object \n",
      " 7   Marital_Status              376430 non-null  int64  \n",
      " 8   Product_Category_1          376430 non-null  int64  \n",
      " 9   Product_Category_2          376430 non-null  float64\n",
      " 10  Purchase                    376430 non-null  int64  \n",
      "dtypes: float64(1), int64(5), object(5)\n",
      "memory usage: 34.5+ MB\n"
     ]
    }
   ],
   "source": [
    "#checking the dataset\n",
    "df_train.info()"
   ]
  },
  {
   "cell_type": "code",
   "execution_count": 35,
   "id": "f5d89c9e",
   "metadata": {
    "execution": {
     "iopub.execute_input": "2022-02-25T12:13:40.308912Z",
     "iopub.status.busy": "2022-02-25T12:13:40.111743Z",
     "iopub.status.idle": "2022-02-25T12:13:40.321271Z",
     "shell.execute_reply": "2022-02-25T12:13:40.321735Z",
     "shell.execute_reply.started": "2022-02-25T12:07:55.280479Z"
    },
    "papermill": {
     "duration": 0.290178,
     "end_time": "2022-02-25T12:13:40.321938",
     "exception": false,
     "start_time": "2022-02-25T12:13:40.031760",
     "status": "completed"
    },
    "tags": []
   },
   "outputs": [
    {
     "data": {
      "text/plain": [
       "User_ID                       0\n",
       "Product_ID                    0\n",
       "Gender                        0\n",
       "Age                           0\n",
       "Occupation                    0\n",
       "City_Category                 0\n",
       "Stay_In_Current_City_Years    0\n",
       "Marital_Status                0\n",
       "Product_Category_1            0\n",
       "Product_Category_2            0\n",
       "Purchase                      0\n",
       "dtype: int64"
      ]
     },
     "execution_count": 35,
     "metadata": {},
     "output_type": "execute_result"
    }
   ],
   "source": [
    "df_train.isnull().sum()"
   ]
  },
  {
   "cell_type": "markdown",
   "id": "7b7f853d",
   "metadata": {
    "papermill": {
     "duration": 0.075454,
     "end_time": "2022-02-25T12:13:40.472814",
     "exception": false,
     "start_time": "2022-02-25T12:13:40.397360",
     "status": "completed"
    },
    "tags": []
   },
   "source": [
    "## Test Data EDA"
   ]
  },
  {
   "cell_type": "code",
   "execution_count": 36,
   "id": "b6ad80df",
   "metadata": {
    "execution": {
     "iopub.execute_input": "2022-02-25T12:13:40.630416Z",
     "iopub.status.busy": "2022-02-25T12:13:40.629667Z",
     "iopub.status.idle": "2022-02-25T12:13:40.633588Z",
     "shell.execute_reply": "2022-02-25T12:13:40.632961Z",
     "shell.execute_reply.started": "2022-02-25T12:07:55.498544Z"
    },
    "papermill": {
     "duration": 0.085273,
     "end_time": "2022-02-25T12:13:40.633729",
     "exception": false,
     "start_time": "2022-02-25T12:13:40.548456",
     "status": "completed"
    },
    "tags": []
   },
   "outputs": [
    {
     "data": {
      "text/plain": [
       "(233599, 11)"
      ]
     },
     "execution_count": 36,
     "metadata": {},
     "output_type": "execute_result"
    }
   ],
   "source": [
    "#checking the shape of test data\n",
    "df_test.shape"
   ]
  },
  {
   "cell_type": "code",
   "execution_count": 37,
   "id": "728d6bdf",
   "metadata": {
    "execution": {
     "iopub.execute_input": "2022-02-25T12:13:40.791045Z",
     "iopub.status.busy": "2022-02-25T12:13:40.790390Z",
     "iopub.status.idle": "2022-02-25T12:13:40.922944Z",
     "shell.execute_reply": "2022-02-25T12:13:40.922262Z",
     "shell.execute_reply.started": "2022-02-25T12:07:55.506641Z"
    },
    "papermill": {
     "duration": 0.213106,
     "end_time": "2022-02-25T12:13:40.923093",
     "exception": false,
     "start_time": "2022-02-25T12:13:40.709987",
     "status": "completed"
    },
    "tags": []
   },
   "outputs": [
    {
     "data": {
      "text/plain": [
       "User_ID                            0\n",
       "Product_ID                         0\n",
       "Gender                             0\n",
       "Age                                0\n",
       "Occupation                         0\n",
       "City_Category                      0\n",
       "Stay_In_Current_City_Years         0\n",
       "Marital_Status                     0\n",
       "Product_Category_1                 0\n",
       "Product_Category_2             72344\n",
       "Product_Category_3            162562\n",
       "dtype: int64"
      ]
     },
     "execution_count": 37,
     "metadata": {},
     "output_type": "execute_result"
    }
   ],
   "source": [
    "#checking Nulls\n",
    "df_test.isnull().sum()"
   ]
  },
  {
   "cell_type": "markdown",
   "id": "c841a267",
   "metadata": {
    "papermill": {
     "duration": 0.076807,
     "end_time": "2022-02-25T12:13:41.077630",
     "exception": false,
     "start_time": "2022-02-25T12:13:41.000823",
     "status": "completed"
    },
    "tags": []
   },
   "source": [
    "**Product_Category_2** & **Product_Category_3** has missing values, applying the same logic as done above:\n",
    "\n",
    "- Drop Product_Category_3\n",
    "- Drop the null values from Product_Category_3"
   ]
  },
  {
   "cell_type": "code",
   "execution_count": 38,
   "id": "2e4159aa",
   "metadata": {
    "execution": {
     "iopub.execute_input": "2022-02-25T12:13:41.236000Z",
     "iopub.status.busy": "2022-02-25T12:13:41.235294Z",
     "iopub.status.idle": "2022-02-25T12:13:41.250098Z",
     "shell.execute_reply": "2022-02-25T12:13:41.250595Z",
     "shell.execute_reply.started": "2022-02-25T12:07:55.651123Z"
    },
    "papermill": {
     "duration": 0.096296,
     "end_time": "2022-02-25T12:13:41.250766",
     "exception": false,
     "start_time": "2022-02-25T12:13:41.154470",
     "status": "completed"
    },
    "tags": []
   },
   "outputs": [
    {
     "data": {
      "text/html": [
       "<div>\n",
       "<style scoped>\n",
       "    .dataframe tbody tr th:only-of-type {\n",
       "        vertical-align: middle;\n",
       "    }\n",
       "\n",
       "    .dataframe tbody tr th {\n",
       "        vertical-align: top;\n",
       "    }\n",
       "\n",
       "    .dataframe thead th {\n",
       "        text-align: right;\n",
       "    }\n",
       "</style>\n",
       "<table border=\"1\" class=\"dataframe\">\n",
       "  <thead>\n",
       "    <tr style=\"text-align: right;\">\n",
       "      <th></th>\n",
       "      <th>User_ID</th>\n",
       "      <th>Product_ID</th>\n",
       "      <th>Gender</th>\n",
       "      <th>Age</th>\n",
       "      <th>Occupation</th>\n",
       "      <th>City_Category</th>\n",
       "      <th>Stay_In_Current_City_Years</th>\n",
       "      <th>Marital_Status</th>\n",
       "      <th>Product_Category_1</th>\n",
       "      <th>Product_Category_2</th>\n",
       "      <th>Product_Category_3</th>\n",
       "    </tr>\n",
       "  </thead>\n",
       "  <tbody>\n",
       "    <tr>\n",
       "      <th>0</th>\n",
       "      <td>1000004</td>\n",
       "      <td>P00128942</td>\n",
       "      <td>M</td>\n",
       "      <td>46-50</td>\n",
       "      <td>7</td>\n",
       "      <td>B</td>\n",
       "      <td>2</td>\n",
       "      <td>1</td>\n",
       "      <td>1</td>\n",
       "      <td>11.0</td>\n",
       "      <td>NaN</td>\n",
       "    </tr>\n",
       "    <tr>\n",
       "      <th>1</th>\n",
       "      <td>1000009</td>\n",
       "      <td>P00113442</td>\n",
       "      <td>M</td>\n",
       "      <td>26-35</td>\n",
       "      <td>17</td>\n",
       "      <td>C</td>\n",
       "      <td>0</td>\n",
       "      <td>0</td>\n",
       "      <td>3</td>\n",
       "      <td>5.0</td>\n",
       "      <td>NaN</td>\n",
       "    </tr>\n",
       "    <tr>\n",
       "      <th>2</th>\n",
       "      <td>1000010</td>\n",
       "      <td>P00288442</td>\n",
       "      <td>F</td>\n",
       "      <td>36-45</td>\n",
       "      <td>1</td>\n",
       "      <td>B</td>\n",
       "      <td>4+</td>\n",
       "      <td>1</td>\n",
       "      <td>5</td>\n",
       "      <td>14.0</td>\n",
       "      <td>NaN</td>\n",
       "    </tr>\n",
       "    <tr>\n",
       "      <th>3</th>\n",
       "      <td>1000010</td>\n",
       "      <td>P00145342</td>\n",
       "      <td>F</td>\n",
       "      <td>36-45</td>\n",
       "      <td>1</td>\n",
       "      <td>B</td>\n",
       "      <td>4+</td>\n",
       "      <td>1</td>\n",
       "      <td>4</td>\n",
       "      <td>9.0</td>\n",
       "      <td>NaN</td>\n",
       "    </tr>\n",
       "    <tr>\n",
       "      <th>4</th>\n",
       "      <td>1000011</td>\n",
       "      <td>P00053842</td>\n",
       "      <td>F</td>\n",
       "      <td>26-35</td>\n",
       "      <td>1</td>\n",
       "      <td>C</td>\n",
       "      <td>1</td>\n",
       "      <td>0</td>\n",
       "      <td>4</td>\n",
       "      <td>5.0</td>\n",
       "      <td>12.0</td>\n",
       "    </tr>\n",
       "  </tbody>\n",
       "</table>\n",
       "</div>"
      ],
      "text/plain": [
       "   User_ID Product_ID Gender    Age  Occupation City_Category  \\\n",
       "0  1000004  P00128942      M  46-50           7             B   \n",
       "1  1000009  P00113442      M  26-35          17             C   \n",
       "2  1000010  P00288442      F  36-45           1             B   \n",
       "3  1000010  P00145342      F  36-45           1             B   \n",
       "4  1000011  P00053842      F  26-35           1             C   \n",
       "\n",
       "  Stay_In_Current_City_Years  Marital_Status  Product_Category_1  \\\n",
       "0                          2               1                   1   \n",
       "1                          0               0                   3   \n",
       "2                         4+               1                   5   \n",
       "3                         4+               1                   4   \n",
       "4                          1               0                   4   \n",
       "\n",
       "   Product_Category_2  Product_Category_3  \n",
       "0                11.0                 NaN  \n",
       "1                 5.0                 NaN  \n",
       "2                14.0                 NaN  \n",
       "3                 9.0                 NaN  \n",
       "4                 5.0                12.0  "
      ]
     },
     "execution_count": 38,
     "metadata": {},
     "output_type": "execute_result"
    }
   ],
   "source": [
    "df_test.head()"
   ]
  },
  {
   "cell_type": "code",
   "execution_count": 39,
   "id": "8900b238",
   "metadata": {
    "execution": {
     "iopub.execute_input": "2022-02-25T12:13:41.412403Z",
     "iopub.status.busy": "2022-02-25T12:13:41.411463Z",
     "iopub.status.idle": "2022-02-25T12:13:41.434958Z",
     "shell.execute_reply": "2022-02-25T12:13:41.435468Z",
     "shell.execute_reply.started": "2022-02-25T12:07:55.672070Z"
    },
    "papermill": {
     "duration": 0.105435,
     "end_time": "2022-02-25T12:13:41.435643",
     "exception": false,
     "start_time": "2022-02-25T12:13:41.330208",
     "status": "completed"
    },
    "tags": []
   },
   "outputs": [
    {
     "data": {
      "text/html": [
       "<div>\n",
       "<style scoped>\n",
       "    .dataframe tbody tr th:only-of-type {\n",
       "        vertical-align: middle;\n",
       "    }\n",
       "\n",
       "    .dataframe tbody tr th {\n",
       "        vertical-align: top;\n",
       "    }\n",
       "\n",
       "    .dataframe thead th {\n",
       "        text-align: right;\n",
       "    }\n",
       "</style>\n",
       "<table border=\"1\" class=\"dataframe\">\n",
       "  <thead>\n",
       "    <tr style=\"text-align: right;\">\n",
       "      <th></th>\n",
       "      <th>User_ID</th>\n",
       "      <th>Product_ID</th>\n",
       "      <th>Gender</th>\n",
       "      <th>Age</th>\n",
       "      <th>Occupation</th>\n",
       "      <th>City_Category</th>\n",
       "      <th>Stay_In_Current_City_Years</th>\n",
       "      <th>Marital_Status</th>\n",
       "      <th>Product_Category_1</th>\n",
       "      <th>Product_Category_2</th>\n",
       "    </tr>\n",
       "  </thead>\n",
       "  <tbody>\n",
       "    <tr>\n",
       "      <th>0</th>\n",
       "      <td>1000004</td>\n",
       "      <td>P00128942</td>\n",
       "      <td>M</td>\n",
       "      <td>46-50</td>\n",
       "      <td>7</td>\n",
       "      <td>B</td>\n",
       "      <td>2</td>\n",
       "      <td>1</td>\n",
       "      <td>1</td>\n",
       "      <td>11.0</td>\n",
       "    </tr>\n",
       "    <tr>\n",
       "      <th>1</th>\n",
       "      <td>1000009</td>\n",
       "      <td>P00113442</td>\n",
       "      <td>M</td>\n",
       "      <td>26-35</td>\n",
       "      <td>17</td>\n",
       "      <td>C</td>\n",
       "      <td>0</td>\n",
       "      <td>0</td>\n",
       "      <td>3</td>\n",
       "      <td>5.0</td>\n",
       "    </tr>\n",
       "    <tr>\n",
       "      <th>2</th>\n",
       "      <td>1000010</td>\n",
       "      <td>P00288442</td>\n",
       "      <td>F</td>\n",
       "      <td>36-45</td>\n",
       "      <td>1</td>\n",
       "      <td>B</td>\n",
       "      <td>4+</td>\n",
       "      <td>1</td>\n",
       "      <td>5</td>\n",
       "      <td>14.0</td>\n",
       "    </tr>\n",
       "    <tr>\n",
       "      <th>3</th>\n",
       "      <td>1000010</td>\n",
       "      <td>P00145342</td>\n",
       "      <td>F</td>\n",
       "      <td>36-45</td>\n",
       "      <td>1</td>\n",
       "      <td>B</td>\n",
       "      <td>4+</td>\n",
       "      <td>1</td>\n",
       "      <td>4</td>\n",
       "      <td>9.0</td>\n",
       "    </tr>\n",
       "    <tr>\n",
       "      <th>4</th>\n",
       "      <td>1000011</td>\n",
       "      <td>P00053842</td>\n",
       "      <td>F</td>\n",
       "      <td>26-35</td>\n",
       "      <td>1</td>\n",
       "      <td>C</td>\n",
       "      <td>1</td>\n",
       "      <td>0</td>\n",
       "      <td>4</td>\n",
       "      <td>5.0</td>\n",
       "    </tr>\n",
       "  </tbody>\n",
       "</table>\n",
       "</div>"
      ],
      "text/plain": [
       "   User_ID Product_ID Gender    Age  Occupation City_Category  \\\n",
       "0  1000004  P00128942      M  46-50           7             B   \n",
       "1  1000009  P00113442      M  26-35          17             C   \n",
       "2  1000010  P00288442      F  36-45           1             B   \n",
       "3  1000010  P00145342      F  36-45           1             B   \n",
       "4  1000011  P00053842      F  26-35           1             C   \n",
       "\n",
       "  Stay_In_Current_City_Years  Marital_Status  Product_Category_1  \\\n",
       "0                          2               1                   1   \n",
       "1                          0               0                   3   \n",
       "2                         4+               1                   5   \n",
       "3                         4+               1                   4   \n",
       "4                          1               0                   4   \n",
       "\n",
       "   Product_Category_2  \n",
       "0                11.0  \n",
       "1                 5.0  \n",
       "2                14.0  \n",
       "3                 9.0  \n",
       "4                 5.0  "
      ]
     },
     "execution_count": 39,
     "metadata": {},
     "output_type": "execute_result"
    }
   ],
   "source": [
    "#dropping Product_Category_3\n",
    "df_test.drop('Product_Category_3',axis=1, inplace=True)\n",
    "df_test.head()"
   ]
  },
  {
   "cell_type": "code",
   "execution_count": 40,
   "id": "a4f0e518",
   "metadata": {
    "execution": {
     "iopub.execute_input": "2022-02-25T12:13:41.597326Z",
     "iopub.status.busy": "2022-02-25T12:13:41.596678Z",
     "iopub.status.idle": "2022-02-25T12:13:41.827673Z",
     "shell.execute_reply": "2022-02-25T12:13:41.828194Z",
     "shell.execute_reply.started": "2022-02-25T12:07:55.708075Z"
    },
    "papermill": {
     "duration": 0.313987,
     "end_time": "2022-02-25T12:13:41.828369",
     "exception": false,
     "start_time": "2022-02-25T12:13:41.514382",
     "status": "completed"
    },
    "tags": []
   },
   "outputs": [
    {
     "data": {
      "text/plain": [
       "User_ID                       0\n",
       "Product_ID                    0\n",
       "Gender                        0\n",
       "Age                           0\n",
       "Occupation                    0\n",
       "City_Category                 0\n",
       "Stay_In_Current_City_Years    0\n",
       "Marital_Status                0\n",
       "Product_Category_1            0\n",
       "Product_Category_2            0\n",
       "dtype: int64"
      ]
     },
     "execution_count": 40,
     "metadata": {},
     "output_type": "execute_result"
    }
   ],
   "source": [
    "df_test.dropna(axis=0, inplace=True)\n",
    "df_test.isnull().sum()"
   ]
  },
  {
   "cell_type": "markdown",
   "id": "8ca565b1",
   "metadata": {
    "papermill": {
     "duration": 0.078909,
     "end_time": "2022-02-25T12:13:41.985548",
     "exception": false,
     "start_time": "2022-02-25T12:13:41.906639",
     "status": "completed"
    },
    "tags": []
   },
   "source": [
    "Now the dataset is Nulls free, lets perform EDA"
   ]
  },
  {
   "cell_type": "code",
   "execution_count": 41,
   "id": "760dfa5c",
   "metadata": {
    "execution": {
     "iopub.execute_input": "2022-02-25T12:13:42.149174Z",
     "iopub.status.busy": "2022-02-25T12:13:42.148463Z",
     "iopub.status.idle": "2022-02-25T12:13:42.247963Z",
     "shell.execute_reply": "2022-02-25T12:13:42.248498Z",
     "shell.execute_reply.started": "2022-02-25T12:07:55.950974Z"
    },
    "papermill": {
     "duration": 0.181401,
     "end_time": "2022-02-25T12:13:42.248687",
     "exception": false,
     "start_time": "2022-02-25T12:13:42.067286",
     "status": "completed"
    },
    "tags": []
   },
   "outputs": [
    {
     "name": "stdout",
     "output_type": "stream",
     "text": [
      "<class 'pandas.core.frame.DataFrame'>\n",
      "Int64Index: 161255 entries, 0 to 233598\n",
      "Data columns (total 10 columns):\n",
      " #   Column                      Non-Null Count   Dtype  \n",
      "---  ------                      --------------   -----  \n",
      " 0   User_ID                     161255 non-null  int64  \n",
      " 1   Product_ID                  161255 non-null  object \n",
      " 2   Gender                      161255 non-null  object \n",
      " 3   Age                         161255 non-null  object \n",
      " 4   Occupation                  161255 non-null  int64  \n",
      " 5   City_Category               161255 non-null  object \n",
      " 6   Stay_In_Current_City_Years  161255 non-null  object \n",
      " 7   Marital_Status              161255 non-null  int64  \n",
      " 8   Product_Category_1          161255 non-null  int64  \n",
      " 9   Product_Category_2          161255 non-null  float64\n",
      "dtypes: float64(1), int64(4), object(5)\n",
      "memory usage: 13.5+ MB\n"
     ]
    }
   ],
   "source": [
    "df_test.info()"
   ]
  },
  {
   "cell_type": "code",
   "execution_count": 42,
   "id": "614975d6",
   "metadata": {
    "execution": {
     "iopub.execute_input": "2022-02-25T12:13:42.435313Z",
     "iopub.status.busy": "2022-02-25T12:13:42.434555Z",
     "iopub.status.idle": "2022-02-25T12:13:42.439426Z",
     "shell.execute_reply": "2022-02-25T12:13:42.440000Z",
     "shell.execute_reply.started": "2022-02-25T12:07:56.057307Z"
    },
    "papermill": {
     "duration": 0.106037,
     "end_time": "2022-02-25T12:13:42.440175",
     "exception": false,
     "start_time": "2022-02-25T12:13:42.334138",
     "status": "completed"
    },
    "tags": []
   },
   "outputs": [
    {
     "data": {
      "text/plain": [
       "5877"
      ]
     },
     "execution_count": 42,
     "metadata": {},
     "output_type": "execute_result"
    }
   ],
   "source": [
    "df_test['User_ID'].nunique()"
   ]
  },
  {
   "cell_type": "markdown",
   "id": "9c0dfafb",
   "metadata": {
    "papermill": {
     "duration": 0.078877,
     "end_time": "2022-02-25T12:13:42.598476",
     "exception": false,
     "start_time": "2022-02-25T12:13:42.519599",
     "status": "completed"
    },
    "tags": []
   },
   "source": [
    "There are **5877** unique user id's "
   ]
  },
  {
   "cell_type": "code",
   "execution_count": 43,
   "id": "3633d17f",
   "metadata": {
    "execution": {
     "iopub.execute_input": "2022-02-25T12:13:42.759799Z",
     "iopub.status.busy": "2022-02-25T12:13:42.759180Z",
     "iopub.status.idle": "2022-02-25T12:13:42.777766Z",
     "shell.execute_reply": "2022-02-25T12:13:42.778313Z",
     "shell.execute_reply.started": "2022-02-25T12:07:56.068504Z"
    },
    "papermill": {
     "duration": 0.100994,
     "end_time": "2022-02-25T12:13:42.778487",
     "exception": false,
     "start_time": "2022-02-25T12:13:42.677493",
     "status": "completed"
    },
    "tags": []
   },
   "outputs": [
    {
     "data": {
      "text/plain": [
       "1772"
      ]
     },
     "execution_count": 43,
     "metadata": {},
     "output_type": "execute_result"
    }
   ],
   "source": [
    "df_test['Product_ID'].nunique()"
   ]
  },
  {
   "cell_type": "markdown",
   "id": "6fbcdcc5",
   "metadata": {
    "papermill": {
     "duration": 0.079492,
     "end_time": "2022-02-25T12:13:42.937122",
     "exception": false,
     "start_time": "2022-02-25T12:13:42.857630",
     "status": "completed"
    },
    "tags": []
   },
   "source": [
    "There are **1772** unique product id's in the test dataset"
   ]
  },
  {
   "cell_type": "code",
   "execution_count": 44,
   "id": "ab3cca74",
   "metadata": {
    "execution": {
     "iopub.execute_input": "2022-02-25T12:13:43.099172Z",
     "iopub.status.busy": "2022-02-25T12:13:43.098544Z",
     "iopub.status.idle": "2022-02-25T12:13:43.452893Z",
     "shell.execute_reply": "2022-02-25T12:13:43.452257Z",
     "shell.execute_reply.started": "2022-02-25T12:09:52.955692Z"
    },
    "papermill": {
     "duration": 0.43665,
     "end_time": "2022-02-25T12:13:43.453028",
     "exception": false,
     "start_time": "2022-02-25T12:13:43.016378",
     "status": "completed"
    },
    "tags": []
   },
   "outputs": [
    {
     "data": {
      "image/png": "[encoded data removed]",
      "text/plain": [
       "<Figure size 432x288 with 1 Axes>"
      ]
     },
     "metadata": {
      "needs_background": "light"
     },
     "output_type": "display_data"
    }
   ],
   "source": [
    "ax = sns.countplot(x='Gender', data=df_test)\n",
    "\n",
    "for p in ax.patches:\n",
    "    height = p.get_height()\n",
    "    ax.text(x=p.get_x()+(p.get_width()/2),\n",
    "            y=height+1000,\n",
    "            s=height,\n",
    "            ha='center'\n",
    "           )"
   ]
  },
  {
   "cell_type": "code",
   "execution_count": 45,
   "id": "fd16df28",
   "metadata": {
    "execution": {
     "iopub.execute_input": "2022-02-25T12:13:43.622414Z",
     "iopub.status.busy": "2022-02-25T12:13:43.621458Z",
     "iopub.status.idle": "2022-02-25T12:13:44.002877Z",
     "shell.execute_reply": "2022-02-25T12:13:44.003372Z",
     "shell.execute_reply.started": "2022-02-25T12:11:31.272871Z"
    },
    "papermill": {
     "duration": 0.47028,
     "end_time": "2022-02-25T12:13:44.003553",
     "exception": false,
     "start_time": "2022-02-25T12:13:43.533273",
     "status": "completed"
    },
    "tags": []
   },
   "outputs": [
    {
     "data": {
      "image/png": "[encoded data removed]",
      "text/plain": [
       "<Figure size 432x288 with 1 Axes>"
      ]
     },
     "metadata": {
      "needs_background": "light"
     },
     "output_type": "display_data"
    }
   ],
   "source": [
    "ax = sns.countplot(x='Age', data=df_test, order = df_test['Age'].value_counts().index)\n",
    "\n",
    "for p in ax.patches:\n",
    "    height = p.get_height()\n",
    "    ax.text(x=p.get_x()+(p.get_width()/2),\n",
    "            y=height+1000,\n",
    "            s=height,\n",
    "            ha='center'\n",
    "           )"
   ]
  },
  {
   "cell_type": "code",
   "execution_count": 46,
   "id": "9b13b94f",
   "metadata": {
    "execution": {
     "iopub.execute_input": "2022-02-25T12:13:44.184999Z",
     "iopub.status.busy": "2022-02-25T12:13:44.183940Z",
     "iopub.status.idle": "2022-02-25T12:13:44.624155Z",
     "shell.execute_reply": "2022-02-25T12:13:44.624659Z",
     "shell.execute_reply.started": "2022-02-25T12:12:02.517462Z"
    },
    "papermill": {
     "duration": 0.526001,
     "end_time": "2022-02-25T12:13:44.624827",
     "exception": false,
     "start_time": "2022-02-25T12:13:44.098826",
     "status": "completed"
    },
    "tags": []
   },
   "outputs": [
    {
     "data": {
      "image/png": "[encoded data removed]",
      "text/plain": [
       "<Figure size 432x288 with 1 Axes>"
      ]
     },
     "metadata": {
      "needs_background": "light"
     },
     "output_type": "display_data"
    }
   ],
   "source": [
    "ax = sns.countplot(x='Occupation', data=df_test, order = df_test['Occupation'].value_counts().index)\n",
    "\n",
    "for p in ax.patches:\n",
    "    height = p.get_height()\n",
    "    ax.text(x=p.get_x()+(p.get_width()/2),\n",
    "            y=height+1000,\n",
    "            s=height,\n",
    "            ha='center'\n",
    "           )"
   ]
  },
  {
   "cell_type": "code",
   "execution_count": null,
   "id": "51dcd276",
   "metadata": {
    "papermill": {
     "duration": 0.082075,
     "end_time": "2022-02-25T12:13:44.789012",
     "exception": false,
     "start_time": "2022-02-25T12:13:44.706937",
     "status": "completed"
    },
    "tags": []
   },
   "outputs": [],
   "source": []
  }
 ],
 "metadata": {
  "kernelspec": {
   "display_name": "Python 3",
   "language": "python",
   "name": "python3"
  },
  "language_info": {
   "codemirror_mode": {
    "name": "ipython",
    "version": 3
   },
   "file_extension": ".py",
   "mimetype": "text/x-python",
   "name": "python",
   "nbconvert_exporter": "python",
   "pygments_lexer": "ipython3",
   "version": "3.7.12"
  },
  "papermill": {
   "default_parameters": {},
   "duration": 34.299515,
   "end_time": "2022-02-25T12:13:45.681778",
   "environment_variables": {},
   "exception": null,
   "input_path": "__notebook__.ipynb",
   "output_path": "__notebook__.ipynb",
   "parameters": {},
   "start_time": "2022-02-25T12:13:11.382263",
   "version": "2.3.3"
  }
 },
 "nbformat": 4,
 "nbformat_minor": 5
}
