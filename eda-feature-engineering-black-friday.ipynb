{
 "cells": [
  {
   "cell_type": "code",
   "execution_count": 1,
   "id": "6eef86e2",
   "metadata": {
    "_cell_guid": "b1076dfc-b9ad-4769-8c92-a6c4dae69d19",
    "_uuid": "8f2839f25d086af736a60e9eeb907d3b93b6e0e5",
    "execution": {
     "iopub.execute_input": "2022-02-23T13:37:35.297080Z",
     "iopub.status.busy": "2022-02-23T13:37:35.296284Z",
     "iopub.status.idle": "2022-02-23T13:37:35.306999Z",
     "shell.execute_reply": "2022-02-23T13:37:35.306172Z",
     "shell.execute_reply.started": "2022-02-23T12:20:49.089031Z"
    },
    "papermill": {
     "duration": 0.049322,
     "end_time": "2022-02-23T13:37:35.307211",
     "exception": false,
     "start_time": "2022-02-23T13:37:35.257889",
     "status": "completed"
    },
    "tags": []
   },
   "outputs": [
    {
     "name": "stdout",
     "output_type": "stream",
     "text": [
      "/kaggle/input/black-friday/train.csv\n",
      "/kaggle/input/black-friday/test.csv\n"
     ]
    }
   ],
   "source": [
    "# This Python 3 environment comes with many helpful analytics libraries installed\n",
    "# It is defined by the kaggle/python Docker image: https://github.com/kaggle/docker-python\n",
    "# For example, here's several helpful packages to load\n",
    "\n",
    "import numpy as np # linear algebra\n",
    "import pandas as pd # data processing, CSV file I/O (e.g. pd.read_csv)\n",
    "\n",
    "# Input data files are available in the read-only \"../input/\" directory\n",
    "# For example, running this (by clicking run or pressing Shift+Enter) will list all files under the input directory\n",
    "\n",
    "import os\n",
    "for dirname, _, filenames in os.walk('/kaggle/input'):\n",
    "    for filename in filenames:\n",
    "        print(os.path.join(dirname, filename))\n",
    "\n",
    "# You can write up to 20GB to the current directory (/kaggle/working/) that gets preserved as output when you create a version using \"Save & Run All\" \n",
    "# You can also write temporary files to /kaggle/temp/, but they won't be saved outside of the current session"
   ]
  },
  {
   "cell_type": "code",
   "execution_count": 2,
   "id": "cbcc1757",
   "metadata": {
    "execution": {
     "iopub.execute_input": "2022-02-23T13:37:35.367707Z",
     "iopub.status.busy": "2022-02-23T13:37:35.366779Z",
     "iopub.status.idle": "2022-02-23T13:37:36.568986Z",
     "shell.execute_reply": "2022-02-23T13:37:36.568367Z",
     "shell.execute_reply.started": "2022-02-23T12:46:14.613366Z"
    },
    "papermill": {
     "duration": 1.235108,
     "end_time": "2022-02-23T13:37:36.569154",
     "exception": false,
     "start_time": "2022-02-23T13:37:35.334046",
     "status": "completed"
    },
    "tags": []
   },
   "outputs": [],
   "source": [
    "import pandas as pd\n",
    "import numpy as np\n",
    "import matplotlib.pyplot as plt\n",
    "import seaborn as sns\n",
    "\n",
    "pd.set_option('display.max_rows', 300)\n",
    "pd.set_option('display.max_columns', 300)\n",
    "\n",
    "%matplotlib inline\n"
   ]
  },
  {
   "cell_type": "code",
   "execution_count": 3,
   "id": "26d36df4",
   "metadata": {
    "execution": {
     "iopub.execute_input": "2022-02-23T13:37:36.624718Z",
     "iopub.status.busy": "2022-02-23T13:37:36.624024Z",
     "iopub.status.idle": "2022-02-23T13:37:37.608691Z",
     "shell.execute_reply": "2022-02-23T13:37:37.608068Z",
     "shell.execute_reply.started": "2022-02-23T12:20:50.159894Z"
    },
    "papermill": {
     "duration": 1.013411,
     "end_time": "2022-02-23T13:37:37.608837",
     "exception": false,
     "start_time": "2022-02-23T13:37:36.595426",
     "status": "completed"
    },
    "tags": []
   },
   "outputs": [
    {
     "data": {
      "text/html": [
       "<div>\n",
       "<style scoped>\n",
       "    .dataframe tbody tr th:only-of-type {\n",
       "        vertical-align: middle;\n",
       "    }\n",
       "\n",
       "    .dataframe tbody tr th {\n",
       "        vertical-align: top;\n",
       "    }\n",
       "\n",
       "    .dataframe thead th {\n",
       "        text-align: right;\n",
       "    }\n",
       "</style>\n",
       "<table border=\"1\" class=\"dataframe\">\n",
       "  <thead>\n",
       "    <tr style=\"text-align: right;\">\n",
       "      <th></th>\n",
       "      <th>User_ID</th>\n",
       "      <th>Product_ID</th>\n",
       "      <th>Gender</th>\n",
       "      <th>Age</th>\n",
       "      <th>Occupation</th>\n",
       "      <th>City_Category</th>\n",
       "      <th>Stay_In_Current_City_Years</th>\n",
       "      <th>Marital_Status</th>\n",
       "      <th>Product_Category_1</th>\n",
       "      <th>Product_Category_2</th>\n",
       "      <th>Product_Category_3</th>\n",
       "      <th>Purchase</th>\n",
       "    </tr>\n",
       "  </thead>\n",
       "  <tbody>\n",
       "    <tr>\n",
       "      <th>0</th>\n",
       "      <td>1000001</td>\n",
       "      <td>P00069042</td>\n",
       "      <td>F</td>\n",
       "      <td>0-17</td>\n",
       "      <td>10</td>\n",
       "      <td>A</td>\n",
       "      <td>2</td>\n",
       "      <td>0</td>\n",
       "      <td>3</td>\n",
       "      <td>NaN</td>\n",
       "      <td>NaN</td>\n",
       "      <td>8370</td>\n",
       "    </tr>\n",
       "    <tr>\n",
       "      <th>1</th>\n",
       "      <td>1000001</td>\n",
       "      <td>P00248942</td>\n",
       "      <td>F</td>\n",
       "      <td>0-17</td>\n",
       "      <td>10</td>\n",
       "      <td>A</td>\n",
       "      <td>2</td>\n",
       "      <td>0</td>\n",
       "      <td>1</td>\n",
       "      <td>6.0</td>\n",
       "      <td>14.0</td>\n",
       "      <td>15200</td>\n",
       "    </tr>\n",
       "    <tr>\n",
       "      <th>2</th>\n",
       "      <td>1000001</td>\n",
       "      <td>P00087842</td>\n",
       "      <td>F</td>\n",
       "      <td>0-17</td>\n",
       "      <td>10</td>\n",
       "      <td>A</td>\n",
       "      <td>2</td>\n",
       "      <td>0</td>\n",
       "      <td>12</td>\n",
       "      <td>NaN</td>\n",
       "      <td>NaN</td>\n",
       "      <td>1422</td>\n",
       "    </tr>\n",
       "    <tr>\n",
       "      <th>3</th>\n",
       "      <td>1000001</td>\n",
       "      <td>P00085442</td>\n",
       "      <td>F</td>\n",
       "      <td>0-17</td>\n",
       "      <td>10</td>\n",
       "      <td>A</td>\n",
       "      <td>2</td>\n",
       "      <td>0</td>\n",
       "      <td>12</td>\n",
       "      <td>14.0</td>\n",
       "      <td>NaN</td>\n",
       "      <td>1057</td>\n",
       "    </tr>\n",
       "    <tr>\n",
       "      <th>4</th>\n",
       "      <td>1000002</td>\n",
       "      <td>P00285442</td>\n",
       "      <td>M</td>\n",
       "      <td>55+</td>\n",
       "      <td>16</td>\n",
       "      <td>C</td>\n",
       "      <td>4+</td>\n",
       "      <td>0</td>\n",
       "      <td>8</td>\n",
       "      <td>NaN</td>\n",
       "      <td>NaN</td>\n",
       "      <td>7969</td>\n",
       "    </tr>\n",
       "  </tbody>\n",
       "</table>\n",
       "</div>"
      ],
      "text/plain": [
       "   User_ID Product_ID Gender   Age  Occupation City_Category  \\\n",
       "0  1000001  P00069042      F  0-17          10             A   \n",
       "1  1000001  P00248942      F  0-17          10             A   \n",
       "2  1000001  P00087842      F  0-17          10             A   \n",
       "3  1000001  P00085442      F  0-17          10             A   \n",
       "4  1000002  P00285442      M   55+          16             C   \n",
       "\n",
       "  Stay_In_Current_City_Years  Marital_Status  Product_Category_1  \\\n",
       "0                          2               0                   3   \n",
       "1                          2               0                   1   \n",
       "2                          2               0                  12   \n",
       "3                          2               0                  12   \n",
       "4                         4+               0                   8   \n",
       "\n",
       "   Product_Category_2  Product_Category_3  Purchase  \n",
       "0                 NaN                 NaN      8370  \n",
       "1                 6.0                14.0     15200  \n",
       "2                 NaN                 NaN      1422  \n",
       "3                14.0                 NaN      1057  \n",
       "4                 NaN                 NaN      7969  "
      ]
     },
     "execution_count": 3,
     "metadata": {},
     "output_type": "execute_result"
    }
   ],
   "source": [
    "df_train=pd.read_csv('/kaggle/input/black-friday/train.csv')\n",
    "df_train.head()"
   ]
  },
  {
   "cell_type": "code",
   "execution_count": 4,
   "id": "fdc80308",
   "metadata": {
    "execution": {
     "iopub.execute_input": "2022-02-23T13:37:37.668084Z",
     "iopub.status.busy": "2022-02-23T13:37:37.667389Z",
     "iopub.status.idle": "2022-02-23T13:37:38.023717Z",
     "shell.execute_reply": "2022-02-23T13:37:38.024299Z",
     "shell.execute_reply.started": "2022-02-23T12:20:51.067087Z"
    },
    "papermill": {
     "duration": 0.388349,
     "end_time": "2022-02-23T13:37:38.024514",
     "exception": false,
     "start_time": "2022-02-23T13:37:37.636165",
     "status": "completed"
    },
    "tags": []
   },
   "outputs": [
    {
     "data": {
      "text/html": [
       "<div>\n",
       "<style scoped>\n",
       "    .dataframe tbody tr th:only-of-type {\n",
       "        vertical-align: middle;\n",
       "    }\n",
       "\n",
       "    .dataframe tbody tr th {\n",
       "        vertical-align: top;\n",
       "    }\n",
       "\n",
       "    .dataframe thead th {\n",
       "        text-align: right;\n",
       "    }\n",
       "</style>\n",
       "<table border=\"1\" class=\"dataframe\">\n",
       "  <thead>\n",
       "    <tr style=\"text-align: right;\">\n",
       "      <th></th>\n",
       "      <th>User_ID</th>\n",
       "      <th>Product_ID</th>\n",
       "      <th>Gender</th>\n",
       "      <th>Age</th>\n",
       "      <th>Occupation</th>\n",
       "      <th>City_Category</th>\n",
       "      <th>Stay_In_Current_City_Years</th>\n",
       "      <th>Marital_Status</th>\n",
       "      <th>Product_Category_1</th>\n",
       "      <th>Product_Category_2</th>\n",
       "      <th>Product_Category_3</th>\n",
       "    </tr>\n",
       "  </thead>\n",
       "  <tbody>\n",
       "    <tr>\n",
       "      <th>0</th>\n",
       "      <td>1000004</td>\n",
       "      <td>P00128942</td>\n",
       "      <td>M</td>\n",
       "      <td>46-50</td>\n",
       "      <td>7</td>\n",
       "      <td>B</td>\n",
       "      <td>2</td>\n",
       "      <td>1</td>\n",
       "      <td>1</td>\n",
       "      <td>11.0</td>\n",
       "      <td>NaN</td>\n",
       "    </tr>\n",
       "    <tr>\n",
       "      <th>1</th>\n",
       "      <td>1000009</td>\n",
       "      <td>P00113442</td>\n",
       "      <td>M</td>\n",
       "      <td>26-35</td>\n",
       "      <td>17</td>\n",
       "      <td>C</td>\n",
       "      <td>0</td>\n",
       "      <td>0</td>\n",
       "      <td>3</td>\n",
       "      <td>5.0</td>\n",
       "      <td>NaN</td>\n",
       "    </tr>\n",
       "    <tr>\n",
       "      <th>2</th>\n",
       "      <td>1000010</td>\n",
       "      <td>P00288442</td>\n",
       "      <td>F</td>\n",
       "      <td>36-45</td>\n",
       "      <td>1</td>\n",
       "      <td>B</td>\n",
       "      <td>4+</td>\n",
       "      <td>1</td>\n",
       "      <td>5</td>\n",
       "      <td>14.0</td>\n",
       "      <td>NaN</td>\n",
       "    </tr>\n",
       "    <tr>\n",
       "      <th>3</th>\n",
       "      <td>1000010</td>\n",
       "      <td>P00145342</td>\n",
       "      <td>F</td>\n",
       "      <td>36-45</td>\n",
       "      <td>1</td>\n",
       "      <td>B</td>\n",
       "      <td>4+</td>\n",
       "      <td>1</td>\n",
       "      <td>4</td>\n",
       "      <td>9.0</td>\n",
       "      <td>NaN</td>\n",
       "    </tr>\n",
       "    <tr>\n",
       "      <th>4</th>\n",
       "      <td>1000011</td>\n",
       "      <td>P00053842</td>\n",
       "      <td>F</td>\n",
       "      <td>26-35</td>\n",
       "      <td>1</td>\n",
       "      <td>C</td>\n",
       "      <td>1</td>\n",
       "      <td>0</td>\n",
       "      <td>4</td>\n",
       "      <td>5.0</td>\n",
       "      <td>12.0</td>\n",
       "    </tr>\n",
       "  </tbody>\n",
       "</table>\n",
       "</div>"
      ],
      "text/plain": [
       "   User_ID Product_ID Gender    Age  Occupation City_Category  \\\n",
       "0  1000004  P00128942      M  46-50           7             B   \n",
       "1  1000009  P00113442      M  26-35          17             C   \n",
       "2  1000010  P00288442      F  36-45           1             B   \n",
       "3  1000010  P00145342      F  36-45           1             B   \n",
       "4  1000011  P00053842      F  26-35           1             C   \n",
       "\n",
       "  Stay_In_Current_City_Years  Marital_Status  Product_Category_1  \\\n",
       "0                          2               1                   1   \n",
       "1                          0               0                   3   \n",
       "2                         4+               1                   5   \n",
       "3                         4+               1                   4   \n",
       "4                          1               0                   4   \n",
       "\n",
       "   Product_Category_2  Product_Category_3  \n",
       "0                11.0                 NaN  \n",
       "1                 5.0                 NaN  \n",
       "2                14.0                 NaN  \n",
       "3                 9.0                 NaN  \n",
       "4                 5.0                12.0  "
      ]
     },
     "execution_count": 4,
     "metadata": {},
     "output_type": "execute_result"
    }
   ],
   "source": [
    "##  import the test data\n",
    "df_test=pd.read_csv('/kaggle/input/black-friday/test.csv')\n",
    "df_test.head()"
   ]
  },
  {
   "cell_type": "code",
   "execution_count": 5,
   "id": "25fd6881",
   "metadata": {
    "execution": {
     "iopub.execute_input": "2022-02-23T13:37:38.085364Z",
     "iopub.status.busy": "2022-02-23T13:37:38.084616Z",
     "iopub.status.idle": "2022-02-23T13:37:38.089314Z",
     "shell.execute_reply": "2022-02-23T13:37:38.089792Z",
     "shell.execute_reply.started": "2022-02-23T13:12:25.320149Z"
    },
    "papermill": {
     "duration": 0.037138,
     "end_time": "2022-02-23T13:37:38.089970",
     "exception": false,
     "start_time": "2022-02-23T13:37:38.052832",
     "status": "completed"
    },
    "tags": []
   },
   "outputs": [
    {
     "data": {
      "text/plain": [
       "(550068, 12)"
      ]
     },
     "execution_count": 5,
     "metadata": {},
     "output_type": "execute_result"
    }
   ],
   "source": [
    "df_train.shape"
   ]
  },
  {
   "cell_type": "code",
   "execution_count": 6,
   "id": "8a2e8b9f",
   "metadata": {
    "execution": {
     "iopub.execute_input": "2022-02-23T13:37:38.151909Z",
     "iopub.status.busy": "2022-02-23T13:37:38.151037Z",
     "iopub.status.idle": "2022-02-23T13:37:38.154029Z",
     "shell.execute_reply": "2022-02-23T13:37:38.154646Z",
     "shell.execute_reply.started": "2022-02-22T14:04:13.764931Z"
    },
    "papermill": {
     "duration": 0.035927,
     "end_time": "2022-02-23T13:37:38.154835",
     "exception": false,
     "start_time": "2022-02-23T13:37:38.118908",
     "status": "completed"
    },
    "tags": []
   },
   "outputs": [],
   "source": [
    "# #concat the dataset\n",
    "# df = df_train.append(df_test)\n",
    "# df.head()"
   ]
  },
  {
   "cell_type": "markdown",
   "id": "a828dbf1",
   "metadata": {
    "papermill": {
     "duration": 0.027961,
     "end_time": "2022-02-23T13:37:38.212704",
     "exception": false,
     "start_time": "2022-02-23T13:37:38.184743",
     "status": "completed"
    },
    "tags": []
   },
   "source": [
    "## Training Data EDA"
   ]
  },
  {
   "cell_type": "code",
   "execution_count": 7,
   "id": "a1588996",
   "metadata": {
    "execution": {
     "iopub.execute_input": "2022-02-23T13:37:38.279319Z",
     "iopub.status.busy": "2022-02-23T13:37:38.278622Z",
     "iopub.status.idle": "2022-02-23T13:37:38.597898Z",
     "shell.execute_reply": "2022-02-23T13:37:38.597188Z",
     "shell.execute_reply.started": "2022-02-23T12:26:35.856409Z"
    },
    "papermill": {
     "duration": 0.357828,
     "end_time": "2022-02-23T13:37:38.598049",
     "exception": false,
     "start_time": "2022-02-23T13:37:38.240221",
     "status": "completed"
    },
    "tags": []
   },
   "outputs": [
    {
     "name": "stdout",
     "output_type": "stream",
     "text": [
      "<class 'pandas.core.frame.DataFrame'>\n",
      "RangeIndex: 550068 entries, 0 to 550067\n",
      "Data columns (total 12 columns):\n",
      " #   Column                      Non-Null Count   Dtype  \n",
      "---  ------                      --------------   -----  \n",
      " 0   User_ID                     550068 non-null  int64  \n",
      " 1   Product_ID                  550068 non-null  object \n",
      " 2   Gender                      550068 non-null  object \n",
      " 3   Age                         550068 non-null  object \n",
      " 4   Occupation                  550068 non-null  int64  \n",
      " 5   City_Category               550068 non-null  object \n",
      " 6   Stay_In_Current_City_Years  550068 non-null  object \n",
      " 7   Marital_Status              550068 non-null  int64  \n",
      " 8   Product_Category_1          550068 non-null  int64  \n",
      " 9   Product_Category_2          376430 non-null  float64\n",
      " 10  Product_Category_3          166821 non-null  float64\n",
      " 11  Purchase                    550068 non-null  int64  \n",
      "dtypes: float64(2), int64(5), object(5)\n",
      "memory usage: 50.4+ MB\n"
     ]
    }
   ],
   "source": [
    "#checking the dataset\n",
    "df_train.info()"
   ]
  },
  {
   "cell_type": "code",
   "execution_count": 8,
   "id": "5cbaf7f3",
   "metadata": {
    "execution": {
     "iopub.execute_input": "2022-02-23T13:37:38.658093Z",
     "iopub.status.busy": "2022-02-23T13:37:38.657149Z",
     "iopub.status.idle": "2022-02-23T13:37:38.815136Z",
     "shell.execute_reply": "2022-02-23T13:37:38.815661Z",
     "shell.execute_reply.started": "2022-02-23T12:27:29.496888Z"
    },
    "papermill": {
     "duration": 0.189958,
     "end_time": "2022-02-23T13:37:38.815845",
     "exception": false,
     "start_time": "2022-02-23T13:37:38.625887",
     "status": "completed"
    },
    "tags": []
   },
   "outputs": [
    {
     "data": {
      "text/html": [
       "<div>\n",
       "<style scoped>\n",
       "    .dataframe tbody tr th:only-of-type {\n",
       "        vertical-align: middle;\n",
       "    }\n",
       "\n",
       "    .dataframe tbody tr th {\n",
       "        vertical-align: top;\n",
       "    }\n",
       "\n",
       "    .dataframe thead th {\n",
       "        text-align: right;\n",
       "    }\n",
       "</style>\n",
       "<table border=\"1\" class=\"dataframe\">\n",
       "  <thead>\n",
       "    <tr style=\"text-align: right;\">\n",
       "      <th></th>\n",
       "      <th>User_ID</th>\n",
       "      <th>Occupation</th>\n",
       "      <th>Marital_Status</th>\n",
       "      <th>Product_Category_1</th>\n",
       "      <th>Product_Category_2</th>\n",
       "      <th>Product_Category_3</th>\n",
       "      <th>Purchase</th>\n",
       "    </tr>\n",
       "  </thead>\n",
       "  <tbody>\n",
       "    <tr>\n",
       "      <th>count</th>\n",
       "      <td>5.500680e+05</td>\n",
       "      <td>550068.000000</td>\n",
       "      <td>550068.000000</td>\n",
       "      <td>550068.000000</td>\n",
       "      <td>376430.000000</td>\n",
       "      <td>166821.000000</td>\n",
       "      <td>550068.000000</td>\n",
       "    </tr>\n",
       "    <tr>\n",
       "      <th>mean</th>\n",
       "      <td>1.003029e+06</td>\n",
       "      <td>8.076707</td>\n",
       "      <td>0.409653</td>\n",
       "      <td>5.404270</td>\n",
       "      <td>9.842329</td>\n",
       "      <td>12.668243</td>\n",
       "      <td>9263.968713</td>\n",
       "    </tr>\n",
       "    <tr>\n",
       "      <th>std</th>\n",
       "      <td>1.727592e+03</td>\n",
       "      <td>6.522660</td>\n",
       "      <td>0.491770</td>\n",
       "      <td>3.936211</td>\n",
       "      <td>5.086590</td>\n",
       "      <td>4.125338</td>\n",
       "      <td>5023.065394</td>\n",
       "    </tr>\n",
       "    <tr>\n",
       "      <th>min</th>\n",
       "      <td>1.000001e+06</td>\n",
       "      <td>0.000000</td>\n",
       "      <td>0.000000</td>\n",
       "      <td>1.000000</td>\n",
       "      <td>2.000000</td>\n",
       "      <td>3.000000</td>\n",
       "      <td>12.000000</td>\n",
       "    </tr>\n",
       "    <tr>\n",
       "      <th>25%</th>\n",
       "      <td>1.001516e+06</td>\n",
       "      <td>2.000000</td>\n",
       "      <td>0.000000</td>\n",
       "      <td>1.000000</td>\n",
       "      <td>5.000000</td>\n",
       "      <td>9.000000</td>\n",
       "      <td>5823.000000</td>\n",
       "    </tr>\n",
       "    <tr>\n",
       "      <th>50%</th>\n",
       "      <td>1.003077e+06</td>\n",
       "      <td>7.000000</td>\n",
       "      <td>0.000000</td>\n",
       "      <td>5.000000</td>\n",
       "      <td>9.000000</td>\n",
       "      <td>14.000000</td>\n",
       "      <td>8047.000000</td>\n",
       "    </tr>\n",
       "    <tr>\n",
       "      <th>75%</th>\n",
       "      <td>1.004478e+06</td>\n",
       "      <td>14.000000</td>\n",
       "      <td>1.000000</td>\n",
       "      <td>8.000000</td>\n",
       "      <td>15.000000</td>\n",
       "      <td>16.000000</td>\n",
       "      <td>12054.000000</td>\n",
       "    </tr>\n",
       "    <tr>\n",
       "      <th>max</th>\n",
       "      <td>1.006040e+06</td>\n",
       "      <td>20.000000</td>\n",
       "      <td>1.000000</td>\n",
       "      <td>20.000000</td>\n",
       "      <td>18.000000</td>\n",
       "      <td>18.000000</td>\n",
       "      <td>23961.000000</td>\n",
       "    </tr>\n",
       "  </tbody>\n",
       "</table>\n",
       "</div>"
      ],
      "text/plain": [
       "            User_ID     Occupation  Marital_Status  Product_Category_1  \\\n",
       "count  5.500680e+05  550068.000000   550068.000000       550068.000000   \n",
       "mean   1.003029e+06       8.076707        0.409653            5.404270   \n",
       "std    1.727592e+03       6.522660        0.491770            3.936211   \n",
       "min    1.000001e+06       0.000000        0.000000            1.000000   \n",
       "25%    1.001516e+06       2.000000        0.000000            1.000000   \n",
       "50%    1.003077e+06       7.000000        0.000000            5.000000   \n",
       "75%    1.004478e+06      14.000000        1.000000            8.000000   \n",
       "max    1.006040e+06      20.000000        1.000000           20.000000   \n",
       "\n",
       "       Product_Category_2  Product_Category_3       Purchase  \n",
       "count       376430.000000       166821.000000  550068.000000  \n",
       "mean             9.842329           12.668243    9263.968713  \n",
       "std              5.086590            4.125338    5023.065394  \n",
       "min              2.000000            3.000000      12.000000  \n",
       "25%              5.000000            9.000000    5823.000000  \n",
       "50%              9.000000           14.000000    8047.000000  \n",
       "75%             15.000000           16.000000   12054.000000  \n",
       "max             18.000000           18.000000   23961.000000  "
      ]
     },
     "execution_count": 8,
     "metadata": {},
     "output_type": "execute_result"
    }
   ],
   "source": [
    "df_train.describe()"
   ]
  },
  {
   "cell_type": "code",
   "execution_count": 9,
   "id": "c2a10706",
   "metadata": {
    "execution": {
     "iopub.execute_input": "2022-02-23T13:37:38.879486Z",
     "iopub.status.busy": "2022-02-23T13:37:38.878505Z",
     "iopub.status.idle": "2022-02-23T13:37:39.197670Z",
     "shell.execute_reply": "2022-02-23T13:37:39.196766Z",
     "shell.execute_reply.started": "2022-02-23T12:43:45.418077Z"
    },
    "papermill": {
     "duration": 0.353359,
     "end_time": "2022-02-23T13:37:39.197835",
     "exception": false,
     "start_time": "2022-02-23T13:37:38.844476",
     "status": "completed"
    },
    "tags": []
   },
   "outputs": [
    {
     "data": {
      "text/plain": [
       "User_ID                            0\n",
       "Product_ID                         0\n",
       "Gender                             0\n",
       "Age                                0\n",
       "Occupation                         0\n",
       "City_Category                      0\n",
       "Stay_In_Current_City_Years         0\n",
       "Marital_Status                     0\n",
       "Product_Category_1                 0\n",
       "Product_Category_2            173638\n",
       "Product_Category_3            383247\n",
       "Purchase                           0\n",
       "dtype: int64"
      ]
     },
     "execution_count": 9,
     "metadata": {},
     "output_type": "execute_result"
    }
   ],
   "source": [
    "#checking null values in training dataset\n",
    "df_train.isnull().sum()"
   ]
  },
  {
   "cell_type": "markdown",
   "id": "ae961e28",
   "metadata": {
    "papermill": {
     "duration": 0.029629,
     "end_time": "2022-02-23T13:37:39.258974",
     "exception": false,
     "start_time": "2022-02-23T13:37:39.229345",
     "status": "completed"
    },
    "tags": []
   },
   "source": [
    "_We have missing values in the Product_Category_2 & Product_Category_3, need to a way to treat them_"
   ]
  },
  {
   "cell_type": "code",
   "execution_count": 10,
   "id": "33acad1f",
   "metadata": {
    "execution": {
     "iopub.execute_input": "2022-02-23T13:37:39.436422Z",
     "iopub.status.busy": "2022-02-23T13:37:39.435408Z",
     "iopub.status.idle": "2022-02-23T13:37:39.849015Z",
     "shell.execute_reply": "2022-02-23T13:37:39.848264Z",
     "shell.execute_reply.started": "2022-02-23T12:55:54.468979Z"
    },
    "papermill": {
     "duration": 0.550543,
     "end_time": "2022-02-23T13:37:39.849199",
     "exception": false,
     "start_time": "2022-02-23T13:37:39.298656",
     "status": "completed"
    },
    "tags": []
   },
   "outputs": [
    {
     "data": {
      "image/png": "[encoded data removed]",
      "text/plain": [
       "<Figure size 720x504 with 1 Axes>"
      ]
     },
     "metadata": {
      "needs_background": "light"
     },
     "output_type": "display_data"
    }
   ],
   "source": [
    "ax = df_train['Product_ID'].value_counts().head(20).plot(kind='bar', figsize=(10,7))\n",
    "\n",
    "for p in ax.patches:\n",
    "    height = p.get_height()\n",
    "    ax.text(x=p.get_x()+(p.get_width()/2),\n",
    "           y = height+50,\n",
    "           s=height,\n",
    "           ha='center',\n",
    "            va='center'\n",
    "          )"
   ]
  },
  {
   "cell_type": "markdown",
   "id": "b30a81d9",
   "metadata": {
    "papermill": {
     "duration": 0.031558,
     "end_time": "2022-02-23T13:37:39.912442",
     "exception": false,
     "start_time": "2022-02-23T13:37:39.880884",
     "status": "completed"
    },
    "tags": []
   },
   "source": [
    "The column has total of 550068 items, plotting the top 20"
   ]
  },
  {
   "cell_type": "code",
   "execution_count": 11,
   "id": "4fd1c7e3",
   "metadata": {
    "execution": {
     "iopub.execute_input": "2022-02-23T13:37:40.069222Z",
     "iopub.status.busy": "2022-02-23T13:37:40.037035Z",
     "iopub.status.idle": "2022-02-23T13:37:40.727478Z",
     "shell.execute_reply": "2022-02-23T13:37:40.728436Z",
     "shell.execute_reply.started": "2022-02-23T13:00:03.967138Z"
    },
    "papermill": {
     "duration": 0.785421,
     "end_time": "2022-02-23T13:37:40.728742",
     "exception": false,
     "start_time": "2022-02-23T13:37:39.943321",
     "status": "completed"
    },
    "tags": []
   },
   "outputs": [
    {
     "data": {
      "image/png": "[encoded data removed]",
      "text/plain": [
       "<Figure size 432x288 with 1 Axes>"
      ]
     },
     "metadata": {
      "needs_background": "light"
     },
     "output_type": "display_data"
    }
   ],
   "source": [
    "ax = sns.countplot(x='Gender', data=df_train)\n",
    "\n",
    "for p in ax.patches:\n",
    "    height = p.get_height()\n",
    "    ax.text(x=p.get_x()+(p.get_width()/2),\n",
    "            y = height+500,\n",
    "            s=height,\n",
    "            ha='center'\n",
    "           )\n",
    "\n",
    "plt.show()"
   ]
  },
  {
   "cell_type": "markdown",
   "id": "a3e44041",
   "metadata": {
    "papermill": {
     "duration": 0.034809,
     "end_time": "2022-02-23T13:37:40.802484",
     "exception": false,
     "start_time": "2022-02-23T13:37:40.767675",
     "status": "completed"
    },
    "tags": []
   },
   "source": [
    "The data has 2 values for gender column, maximum are males"
   ]
  },
  {
   "cell_type": "code",
   "execution_count": 12,
   "id": "228d9741",
   "metadata": {
    "execution": {
     "iopub.execute_input": "2022-02-23T13:37:40.961817Z",
     "iopub.status.busy": "2022-02-23T13:37:40.958288Z",
     "iopub.status.idle": "2022-02-23T13:37:40.966884Z",
     "shell.execute_reply": "2022-02-23T13:37:40.966225Z",
     "shell.execute_reply.started": "2022-02-23T13:10:05.557339Z"
    },
    "papermill": {
     "duration": 0.131855,
     "end_time": "2022-02-23T13:37:40.967041",
     "exception": false,
     "start_time": "2022-02-23T13:37:40.835186",
     "status": "completed"
    },
    "tags": []
   },
   "outputs": [
    {
     "data": {
      "text/plain": [
       "26-35    219587\n",
       "36-45    110013\n",
       "18-25     99660\n",
       "46-50     45701\n",
       "51-55     38501\n",
       "55+       21504\n",
       "0-17      15102\n",
       "Name: Age, dtype: int64"
      ]
     },
     "execution_count": 12,
     "metadata": {},
     "output_type": "execute_result"
    }
   ],
   "source": [
    "df_train['Age'].value_counts()"
   ]
  },
  {
   "cell_type": "code",
   "execution_count": 13,
   "id": "18e2748e",
   "metadata": {
    "execution": {
     "iopub.execute_input": "2022-02-23T13:37:41.039935Z",
     "iopub.status.busy": "2022-02-23T13:37:41.038892Z",
     "iopub.status.idle": "2022-02-23T13:37:41.687379Z",
     "shell.execute_reply": "2022-02-23T13:37:41.687937Z",
     "shell.execute_reply.started": "2022-02-23T13:10:47.021710Z"
    },
    "papermill": {
     "duration": 0.688692,
     "end_time": "2022-02-23T13:37:41.688107",
     "exception": false,
     "start_time": "2022-02-23T13:37:40.999415",
     "status": "completed"
    },
    "tags": []
   },
   "outputs": [
    {
     "data": {
      "image/png": "[encoded data removed]",
      "text/plain": [
       "<Figure size 432x288 with 1 Axes>"
      ]
     },
     "metadata": {
      "needs_background": "light"
     },
     "output_type": "display_data"
    }
   ],
   "source": [
    "ax = sns.countplot(x='Age', data=df_train, order=['26-35',\n",
    "'36-45',\n",
    "'18-25',\n",
    "'46-50',\n",
    "'51-55',\n",
    "'55+',\n",
    "'0-17'])# use order to define the order in whih we want to see the analysis.\n",
    "\n",
    "for p in ax.patches:\n",
    "    height = p.get_height()\n",
    "    ax.text(x=p.get_x()+(p.get_width()/2),\n",
    "            y = height+500,\n",
    "            s=height,\n",
    "            ha='center'\n",
    "           )\n",
    "\n",
    "plt.show()"
   ]
  },
  {
   "cell_type": "markdown",
   "id": "d47e4539",
   "metadata": {
    "papermill": {
     "duration": 0.032057,
     "end_time": "2022-02-23T13:37:41.752804",
     "exception": false,
     "start_time": "2022-02-23T13:37:41.720747",
     "status": "completed"
    },
    "tags": []
   },
   "source": [
    "The **Age** column is divided into ranges of ages & the maximum age group that makes the purchase are in the age group of **26-35**"
   ]
  },
  {
   "cell_type": "code",
   "execution_count": 14,
   "id": "74656eb8",
   "metadata": {
    "execution": {
     "iopub.execute_input": "2022-02-23T13:37:41.831870Z",
     "iopub.status.busy": "2022-02-23T13:37:41.831182Z",
     "iopub.status.idle": "2022-02-23T13:37:41.833952Z",
     "shell.execute_reply": "2022-02-23T13:37:41.834611Z",
     "shell.execute_reply.started": "2022-02-23T13:15:06.517921Z"
    },
    "papermill": {
     "duration": 0.048518,
     "end_time": "2022-02-23T13:37:41.834934",
     "exception": false,
     "start_time": "2022-02-23T13:37:41.786416",
     "status": "completed"
    },
    "tags": []
   },
   "outputs": [
    {
     "data": {
      "text/plain": [
       "4     72308\n",
       "0     69638\n",
       "7     59133\n",
       "1     47426\n",
       "17    40043\n",
       "20    33562\n",
       "12    31179\n",
       "14    27309\n",
       "2     26588\n",
       "16    25371\n",
       "6     20355\n",
       "3     17650\n",
       "10    12930\n",
       "5     12177\n",
       "15    12165\n",
       "11    11586\n",
       "19     8461\n",
       "13     7728\n",
       "18     6622\n",
       "9      6291\n",
       "8      1546\n",
       "Name: Occupation, dtype: int64"
      ]
     },
     "execution_count": 14,
     "metadata": {},
     "output_type": "execute_result"
    }
   ],
   "source": [
    "df_train['Occupation'].value_counts()"
   ]
  },
  {
   "cell_type": "markdown",
   "id": "f261c500",
   "metadata": {
    "papermill": {
     "duration": 0.033634,
     "end_time": "2022-02-23T13:37:41.902487",
     "exception": false,
     "start_time": "2022-02-23T13:37:41.868853",
     "status": "completed"
    },
    "tags": []
   },
   "source": [
    "The **Occupation** is encoded into numbers, plotting the count of occupations"
   ]
  },
  {
   "cell_type": "code",
   "execution_count": 15,
   "id": "008a67c3",
   "metadata": {
    "execution": {
     "iopub.execute_input": "2022-02-23T13:37:41.973728Z",
     "iopub.status.busy": "2022-02-23T13:37:41.973026Z",
     "iopub.status.idle": "2022-02-23T13:37:42.397784Z",
     "shell.execute_reply": "2022-02-23T13:37:42.397132Z",
     "shell.execute_reply.started": "2022-02-23T13:18:33.733105Z"
    },
    "papermill": {
     "duration": 0.462521,
     "end_time": "2022-02-23T13:37:42.397923",
     "exception": false,
     "start_time": "2022-02-23T13:37:41.935402",
     "status": "completed"
    },
    "tags": []
   },
   "outputs": [
    {
     "data": {
      "image/png": "[encoded data removed]",
      "text/plain": [
       "<Figure size 720x504 with 1 Axes>"
      ]
     },
     "metadata": {
      "needs_background": "light"
     },
     "output_type": "display_data"
    }
   ],
   "source": [
    "plt.figure(figsize=(10,7))\n",
    "ax = sns.countplot(x='Occupation', data=df_train, order=df_train['Occupation'].value_counts().index)\n",
    "for p in ax.patches:\n",
    "    height = p.get_height()\n",
    "    ax.text(x=p.get_x()+(p.get_width()/2),\n",
    "            y = height+500,\n",
    "            s=height,\n",
    "            ha='center'\n",
    "           )\n",
    "\n",
    "\n",
    "plt.show()"
   ]
  },
  {
   "cell_type": "code",
   "execution_count": 16,
   "id": "286ae2e8",
   "metadata": {
    "execution": {
     "iopub.execute_input": "2022-02-23T13:37:42.473968Z",
     "iopub.status.busy": "2022-02-23T13:37:42.473291Z",
     "iopub.status.idle": "2022-02-23T13:37:42.543566Z",
     "shell.execute_reply": "2022-02-23T13:37:42.543002Z",
     "shell.execute_reply.started": "2022-02-23T13:19:10.508493Z"
    },
    "papermill": {
     "duration": 0.110363,
     "end_time": "2022-02-23T13:37:42.543726",
     "exception": false,
     "start_time": "2022-02-23T13:37:42.433363",
     "status": "completed"
    },
    "tags": []
   },
   "outputs": [
    {
     "data": {
      "text/plain": [
       "B    231173\n",
       "C    171175\n",
       "A    147720\n",
       "Name: City_Category, dtype: int64"
      ]
     },
     "execution_count": 16,
     "metadata": {},
     "output_type": "execute_result"
    }
   ],
   "source": [
    "df_train['City_Category'].value_counts()"
   ]
  },
  {
   "cell_type": "markdown",
   "id": "6441ee03",
   "metadata": {
    "papermill": {
     "duration": 0.035792,
     "end_time": "2022-02-23T13:37:42.615312",
     "exception": false,
     "start_time": "2022-02-23T13:37:42.579520",
     "status": "completed"
    },
    "tags": []
   },
   "source": [
    "The **City_Category** column is also encoded, so plotting to see the dta distribution"
   ]
  },
  {
   "cell_type": "code",
   "execution_count": 17,
   "id": "734183be",
   "metadata": {
    "execution": {
     "iopub.execute_input": "2022-02-23T13:37:42.690598Z",
     "iopub.status.busy": "2022-02-23T13:37:42.689896Z",
     "iopub.status.idle": "2022-02-23T13:37:43.374905Z",
     "shell.execute_reply": "2022-02-23T13:37:43.375454Z",
     "shell.execute_reply.started": "2022-02-23T13:19:59.657916Z"
    },
    "papermill": {
     "duration": 0.724981,
     "end_time": "2022-02-23T13:37:43.375635",
     "exception": false,
     "start_time": "2022-02-23T13:37:42.650654",
     "status": "completed"
    },
    "tags": []
   },
   "outputs": [
    {
     "data": {
      "image/png": "[encoded data removed]",
      "text/plain": [
       "<Figure size 720x504 with 1 Axes>"
      ]
     },
     "metadata": {
      "needs_background": "light"
     },
     "output_type": "display_data"
    }
   ],
   "source": [
    "plt.figure(figsize=(10,7))\n",
    "ax = sns.countplot(x='City_Category', data=df_train, order=df_train['City_Category'].value_counts().index)\n",
    "for p in ax.patches:\n",
    "    height = p.get_height()\n",
    "    ax.text(x=p.get_x()+(p.get_width()/2),\n",
    "            y = height+500,\n",
    "            s=height,\n",
    "            ha='center'\n",
    "           )\n",
    "\n",
    "\n",
    "plt.show()"
   ]
  },
  {
   "cell_type": "code",
   "execution_count": 18,
   "id": "828a5a91",
   "metadata": {
    "execution": {
     "iopub.execute_input": "2022-02-23T13:37:43.451382Z",
     "iopub.status.busy": "2022-02-23T13:37:43.450325Z",
     "iopub.status.idle": "2022-02-23T13:37:43.526997Z",
     "shell.execute_reply": "2022-02-23T13:37:43.526442Z",
     "shell.execute_reply.started": "2022-02-23T13:20:27.637927Z"
    },
    "papermill": {
     "duration": 0.115933,
     "end_time": "2022-02-23T13:37:43.527213",
     "exception": false,
     "start_time": "2022-02-23T13:37:43.411280",
     "status": "completed"
    },
    "tags": []
   },
   "outputs": [
    {
     "data": {
      "text/plain": [
       "1     193821\n",
       "2     101838\n",
       "3      95285\n",
       "4+     84726\n",
       "0      74398\n",
       "Name: Stay_In_Current_City_Years, dtype: int64"
      ]
     },
     "execution_count": 18,
     "metadata": {},
     "output_type": "execute_result"
    }
   ],
   "source": [
    "df_train['Stay_In_Current_City_Years'].value_counts()"
   ]
  },
  {
   "cell_type": "markdown",
   "id": "f6a1dd63",
   "metadata": {
    "papermill": {
     "duration": 0.035861,
     "end_time": "2022-02-23T13:37:43.599606",
     "exception": false,
     "start_time": "2022-02-23T13:37:43.563745",
     "status": "completed"
    },
    "tags": []
   },
   "source": [
    "The data has stay in city upto 4 years, the data distribution is as follows"
   ]
  },
  {
   "cell_type": "code",
   "execution_count": 19,
   "id": "f07a8143",
   "metadata": {
    "execution": {
     "iopub.execute_input": "2022-02-23T13:37:43.749545Z",
     "iopub.status.busy": "2022-02-23T13:37:43.748833Z",
     "iopub.status.idle": "2022-02-23T13:37:44.387017Z",
     "shell.execute_reply": "2022-02-23T13:37:44.386370Z",
     "shell.execute_reply.started": "2022-02-23T13:24:01.361211Z"
    },
    "papermill": {
     "duration": 0.750208,
     "end_time": "2022-02-23T13:37:44.387171",
     "exception": false,
     "start_time": "2022-02-23T13:37:43.636963",
     "status": "completed"
    },
    "tags": []
   },
   "outputs": [
    {
     "data": {
      "image/png": "[encoded data removed]",
      "text/plain": [
       "<Figure size 720x504 with 1 Axes>"
      ]
     },
     "metadata": {
      "needs_background": "light"
     },
     "output_type": "display_data"
    }
   ],
   "source": [
    "plt.figure(figsize=(10,7))\n",
    "ax = sns.countplot(x='Stay_In_Current_City_Years', data=df_train, order=df_train['Stay_In_Current_City_Years'].value_counts().index)\n",
    "for p in ax.patches:\n",
    "    height = p.get_height()\n",
    "    ax.text(x=p.get_x()+(p.get_width()/2),\n",
    "            y=height+100,\n",
    "            s=height,\n",
    "            ha='center'\n",
    "           )\n",
    "plt.show()"
   ]
  },
  {
   "cell_type": "code",
   "execution_count": null,
   "id": "e4ce0b8c",
   "metadata": {
    "papermill": {
     "duration": 0.036578,
     "end_time": "2022-02-23T13:37:44.461622",
     "exception": false,
     "start_time": "2022-02-23T13:37:44.425044",
     "status": "completed"
    },
    "tags": []
   },
   "outputs": [],
   "source": []
  }
 ],
 "metadata": {
  "kernelspec": {
   "display_name": "Python 3",
   "language": "python",
   "name": "python3"
  },
  "language_info": {
   "codemirror_mode": {
    "name": "ipython",
    "version": 3
   },
   "file_extension": ".py",
   "mimetype": "text/x-python",
   "name": "python",
   "nbconvert_exporter": "python",
   "pygments_lexer": "ipython3",
   "version": "3.7.12"
  },
  "papermill": {
   "default_parameters": {},
   "duration": 21.474056,
   "end_time": "2022-02-23T13:37:45.209479",
   "environment_variables": {},
   "exception": null,
   "input_path": "__notebook__.ipynb",
   "output_path": "__notebook__.ipynb",
   "parameters": {},
   "start_time": "2022-02-23T13:37:23.735423",
   "version": "2.3.3"
  }
 },
 "nbformat": 4,
 "nbformat_minor": 5
}
