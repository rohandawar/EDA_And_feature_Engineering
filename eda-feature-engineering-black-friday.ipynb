{
 "cells": [
  {
   "cell_type": "code",
   "execution_count": 1,
   "id": "55d5056d",
   "metadata": {
    "_cell_guid": "b1076dfc-b9ad-4769-8c92-a6c4dae69d19",
    "_uuid": "8f2839f25d086af736a60e9eeb907d3b93b6e0e5",
    "execution": {
     "iopub.execute_input": "2022-02-24T12:46:34.808347Z",
     "iopub.status.busy": "2022-02-24T12:46:34.805848Z",
     "iopub.status.idle": "2022-02-24T12:46:34.819941Z",
     "shell.execute_reply": "2022-02-24T12:46:34.819187Z",
     "shell.execute_reply.started": "2022-02-24T12:21:41.809511Z"
    },
    "papermill": {
     "duration": 0.078607,
     "end_time": "2022-02-24T12:46:34.820141",
     "exception": false,
     "start_time": "2022-02-24T12:46:34.741534",
     "status": "completed"
    },
    "tags": []
   },
   "outputs": [
    {
     "name": "stdout",
     "output_type": "stream",
     "text": [
      "/kaggle/input/black-friday/train.csv\n",
      "/kaggle/input/black-friday/test.csv\n"
     ]
    }
   ],
   "source": [
    "# This Python 3 environment comes with many helpful analytics libraries installed\n",
    "# It is defined by the kaggle/python Docker image: https://github.com/kaggle/docker-python\n",
    "# For example, here's several helpful packages to load\n",
    "\n",
    "import numpy as np # linear algebra\n",
    "import pandas as pd # data processing, CSV file I/O (e.g. pd.read_csv)\n",
    "\n",
    "# Input data files are available in the read-only \"../input/\" directory\n",
    "# For example, running this (by clicking run or pressing Shift+Enter) will list all files under the input directory\n",
    "\n",
    "import os\n",
    "for dirname, _, filenames in os.walk('/kaggle/input'):\n",
    "    for filename in filenames:\n",
    "        print(os.path.join(dirname, filename))\n",
    "\n",
    "# You can write up to 20GB to the current directory (/kaggle/working/) that gets preserved as output when you create a version using \"Save & Run All\" \n",
    "# You can also write temporary files to /kaggle/temp/, but they won't be saved outside of the current session"
   ]
  },
  {
   "cell_type": "code",
   "execution_count": 2,
   "id": "be85204c",
   "metadata": {
    "execution": {
     "iopub.execute_input": "2022-02-24T12:46:34.938346Z",
     "iopub.status.busy": "2022-02-24T12:46:34.937636Z",
     "iopub.status.idle": "2022-02-24T12:46:36.117524Z",
     "shell.execute_reply": "2022-02-24T12:46:36.118032Z",
     "shell.execute_reply.started": "2022-02-24T12:21:41.821371Z"
    },
    "papermill": {
     "duration": 1.242584,
     "end_time": "2022-02-24T12:46:36.118218",
     "exception": false,
     "start_time": "2022-02-24T12:46:34.875634",
     "status": "completed"
    },
    "tags": []
   },
   "outputs": [],
   "source": [
    "import pandas as pd\n",
    "import numpy as np\n",
    "import matplotlib.pyplot as plt\n",
    "import seaborn as sns\n",
    "\n",
    "pd.set_option('display.max_rows', 300)\n",
    "pd.set_option('display.max_columns', 300)\n",
    "\n",
    "%matplotlib inline\n"
   ]
  },
  {
   "cell_type": "code",
   "execution_count": 3,
   "id": "fed73226",
   "metadata": {
    "execution": {
     "iopub.execute_input": "2022-02-24T12:46:36.227289Z",
     "iopub.status.busy": "2022-02-24T12:46:36.226657Z",
     "iopub.status.idle": "2022-02-24T12:46:37.178054Z",
     "shell.execute_reply": "2022-02-24T12:46:37.178538Z",
     "shell.execute_reply.started": "2022-02-24T12:21:41.832770Z"
    },
    "papermill": {
     "duration": 1.007357,
     "end_time": "2022-02-24T12:46:37.178717",
     "exception": false,
     "start_time": "2022-02-24T12:46:36.171360",
     "status": "completed"
    },
    "tags": []
   },
   "outputs": [
    {
     "data": {
      "text/html": [
       "<div>\n",
       "<style scoped>\n",
       "    .dataframe tbody tr th:only-of-type {\n",
       "        vertical-align: middle;\n",
       "    }\n",
       "\n",
       "    .dataframe tbody tr th {\n",
       "        vertical-align: top;\n",
       "    }\n",
       "\n",
       "    .dataframe thead th {\n",
       "        text-align: right;\n",
       "    }\n",
       "</style>\n",
       "<table border=\"1\" class=\"dataframe\">\n",
       "  <thead>\n",
       "    <tr style=\"text-align: right;\">\n",
       "      <th></th>\n",
       "      <th>User_ID</th>\n",
       "      <th>Product_ID</th>\n",
       "      <th>Gender</th>\n",
       "      <th>Age</th>\n",
       "      <th>Occupation</th>\n",
       "      <th>City_Category</th>\n",
       "      <th>Stay_In_Current_City_Years</th>\n",
       "      <th>Marital_Status</th>\n",
       "      <th>Product_Category_1</th>\n",
       "      <th>Product_Category_2</th>\n",
       "      <th>Product_Category_3</th>\n",
       "      <th>Purchase</th>\n",
       "    </tr>\n",
       "  </thead>\n",
       "  <tbody>\n",
       "    <tr>\n",
       "      <th>0</th>\n",
       "      <td>1000001</td>\n",
       "      <td>P00069042</td>\n",
       "      <td>F</td>\n",
       "      <td>0-17</td>\n",
       "      <td>10</td>\n",
       "      <td>A</td>\n",
       "      <td>2</td>\n",
       "      <td>0</td>\n",
       "      <td>3</td>\n",
       "      <td>NaN</td>\n",
       "      <td>NaN</td>\n",
       "      <td>8370</td>\n",
       "    </tr>\n",
       "    <tr>\n",
       "      <th>1</th>\n",
       "      <td>1000001</td>\n",
       "      <td>P00248942</td>\n",
       "      <td>F</td>\n",
       "      <td>0-17</td>\n",
       "      <td>10</td>\n",
       "      <td>A</td>\n",
       "      <td>2</td>\n",
       "      <td>0</td>\n",
       "      <td>1</td>\n",
       "      <td>6.0</td>\n",
       "      <td>14.0</td>\n",
       "      <td>15200</td>\n",
       "    </tr>\n",
       "    <tr>\n",
       "      <th>2</th>\n",
       "      <td>1000001</td>\n",
       "      <td>P00087842</td>\n",
       "      <td>F</td>\n",
       "      <td>0-17</td>\n",
       "      <td>10</td>\n",
       "      <td>A</td>\n",
       "      <td>2</td>\n",
       "      <td>0</td>\n",
       "      <td>12</td>\n",
       "      <td>NaN</td>\n",
       "      <td>NaN</td>\n",
       "      <td>1422</td>\n",
       "    </tr>\n",
       "    <tr>\n",
       "      <th>3</th>\n",
       "      <td>1000001</td>\n",
       "      <td>P00085442</td>\n",
       "      <td>F</td>\n",
       "      <td>0-17</td>\n",
       "      <td>10</td>\n",
       "      <td>A</td>\n",
       "      <td>2</td>\n",
       "      <td>0</td>\n",
       "      <td>12</td>\n",
       "      <td>14.0</td>\n",
       "      <td>NaN</td>\n",
       "      <td>1057</td>\n",
       "    </tr>\n",
       "    <tr>\n",
       "      <th>4</th>\n",
       "      <td>1000002</td>\n",
       "      <td>P00285442</td>\n",
       "      <td>M</td>\n",
       "      <td>55+</td>\n",
       "      <td>16</td>\n",
       "      <td>C</td>\n",
       "      <td>4+</td>\n",
       "      <td>0</td>\n",
       "      <td>8</td>\n",
       "      <td>NaN</td>\n",
       "      <td>NaN</td>\n",
       "      <td>7969</td>\n",
       "    </tr>\n",
       "  </tbody>\n",
       "</table>\n",
       "</div>"
      ],
      "text/plain": [
       "   User_ID Product_ID Gender   Age  Occupation City_Category  \\\n",
       "0  1000001  P00069042      F  0-17          10             A   \n",
       "1  1000001  P00248942      F  0-17          10             A   \n",
       "2  1000001  P00087842      F  0-17          10             A   \n",
       "3  1000001  P00085442      F  0-17          10             A   \n",
       "4  1000002  P00285442      M   55+          16             C   \n",
       "\n",
       "  Stay_In_Current_City_Years  Marital_Status  Product_Category_1  \\\n",
       "0                          2               0                   3   \n",
       "1                          2               0                   1   \n",
       "2                          2               0                  12   \n",
       "3                          2               0                  12   \n",
       "4                         4+               0                   8   \n",
       "\n",
       "   Product_Category_2  Product_Category_3  Purchase  \n",
       "0                 NaN                 NaN      8370  \n",
       "1                 6.0                14.0     15200  \n",
       "2                 NaN                 NaN      1422  \n",
       "3                14.0                 NaN      1057  \n",
       "4                 NaN                 NaN      7969  "
      ]
     },
     "execution_count": 3,
     "metadata": {},
     "output_type": "execute_result"
    }
   ],
   "source": [
    "df_train=pd.read_csv('/kaggle/input/black-friday/train.csv')\n",
    "df_train.head()"
   ]
  },
  {
   "cell_type": "code",
   "execution_count": 4,
   "id": "15b38f28",
   "metadata": {
    "execution": {
     "iopub.execute_input": "2022-02-24T12:46:37.291389Z",
     "iopub.status.busy": "2022-02-24T12:46:37.290714Z",
     "iopub.status.idle": "2022-02-24T12:46:37.630548Z",
     "shell.execute_reply": "2022-02-24T12:46:37.629872Z",
     "shell.execute_reply.started": "2022-02-24T12:21:42.348264Z"
    },
    "papermill": {
     "duration": 0.398378,
     "end_time": "2022-02-24T12:46:37.630691",
     "exception": false,
     "start_time": "2022-02-24T12:46:37.232313",
     "status": "completed"
    },
    "tags": []
   },
   "outputs": [
    {
     "data": {
      "text/html": [
       "<div>\n",
       "<style scoped>\n",
       "    .dataframe tbody tr th:only-of-type {\n",
       "        vertical-align: middle;\n",
       "    }\n",
       "\n",
       "    .dataframe tbody tr th {\n",
       "        vertical-align: top;\n",
       "    }\n",
       "\n",
       "    .dataframe thead th {\n",
       "        text-align: right;\n",
       "    }\n",
       "</style>\n",
       "<table border=\"1\" class=\"dataframe\">\n",
       "  <thead>\n",
       "    <tr style=\"text-align: right;\">\n",
       "      <th></th>\n",
       "      <th>User_ID</th>\n",
       "      <th>Product_ID</th>\n",
       "      <th>Gender</th>\n",
       "      <th>Age</th>\n",
       "      <th>Occupation</th>\n",
       "      <th>City_Category</th>\n",
       "      <th>Stay_In_Current_City_Years</th>\n",
       "      <th>Marital_Status</th>\n",
       "      <th>Product_Category_1</th>\n",
       "      <th>Product_Category_2</th>\n",
       "      <th>Product_Category_3</th>\n",
       "    </tr>\n",
       "  </thead>\n",
       "  <tbody>\n",
       "    <tr>\n",
       "      <th>0</th>\n",
       "      <td>1000004</td>\n",
       "      <td>P00128942</td>\n",
       "      <td>M</td>\n",
       "      <td>46-50</td>\n",
       "      <td>7</td>\n",
       "      <td>B</td>\n",
       "      <td>2</td>\n",
       "      <td>1</td>\n",
       "      <td>1</td>\n",
       "      <td>11.0</td>\n",
       "      <td>NaN</td>\n",
       "    </tr>\n",
       "    <tr>\n",
       "      <th>1</th>\n",
       "      <td>1000009</td>\n",
       "      <td>P00113442</td>\n",
       "      <td>M</td>\n",
       "      <td>26-35</td>\n",
       "      <td>17</td>\n",
       "      <td>C</td>\n",
       "      <td>0</td>\n",
       "      <td>0</td>\n",
       "      <td>3</td>\n",
       "      <td>5.0</td>\n",
       "      <td>NaN</td>\n",
       "    </tr>\n",
       "    <tr>\n",
       "      <th>2</th>\n",
       "      <td>1000010</td>\n",
       "      <td>P00288442</td>\n",
       "      <td>F</td>\n",
       "      <td>36-45</td>\n",
       "      <td>1</td>\n",
       "      <td>B</td>\n",
       "      <td>4+</td>\n",
       "      <td>1</td>\n",
       "      <td>5</td>\n",
       "      <td>14.0</td>\n",
       "      <td>NaN</td>\n",
       "    </tr>\n",
       "    <tr>\n",
       "      <th>3</th>\n",
       "      <td>1000010</td>\n",
       "      <td>P00145342</td>\n",
       "      <td>F</td>\n",
       "      <td>36-45</td>\n",
       "      <td>1</td>\n",
       "      <td>B</td>\n",
       "      <td>4+</td>\n",
       "      <td>1</td>\n",
       "      <td>4</td>\n",
       "      <td>9.0</td>\n",
       "      <td>NaN</td>\n",
       "    </tr>\n",
       "    <tr>\n",
       "      <th>4</th>\n",
       "      <td>1000011</td>\n",
       "      <td>P00053842</td>\n",
       "      <td>F</td>\n",
       "      <td>26-35</td>\n",
       "      <td>1</td>\n",
       "      <td>C</td>\n",
       "      <td>1</td>\n",
       "      <td>0</td>\n",
       "      <td>4</td>\n",
       "      <td>5.0</td>\n",
       "      <td>12.0</td>\n",
       "    </tr>\n",
       "  </tbody>\n",
       "</table>\n",
       "</div>"
      ],
      "text/plain": [
       "   User_ID Product_ID Gender    Age  Occupation City_Category  \\\n",
       "0  1000004  P00128942      M  46-50           7             B   \n",
       "1  1000009  P00113442      M  26-35          17             C   \n",
       "2  1000010  P00288442      F  36-45           1             B   \n",
       "3  1000010  P00145342      F  36-45           1             B   \n",
       "4  1000011  P00053842      F  26-35           1             C   \n",
       "\n",
       "  Stay_In_Current_City_Years  Marital_Status  Product_Category_1  \\\n",
       "0                          2               1                   1   \n",
       "1                          0               0                   3   \n",
       "2                         4+               1                   5   \n",
       "3                         4+               1                   4   \n",
       "4                          1               0                   4   \n",
       "\n",
       "   Product_Category_2  Product_Category_3  \n",
       "0                11.0                 NaN  \n",
       "1                 5.0                 NaN  \n",
       "2                14.0                 NaN  \n",
       "3                 9.0                 NaN  \n",
       "4                 5.0                12.0  "
      ]
     },
     "execution_count": 4,
     "metadata": {},
     "output_type": "execute_result"
    }
   ],
   "source": [
    "##  import the test data\n",
    "df_test=pd.read_csv('/kaggle/input/black-friday/test.csv')\n",
    "df_test.head()"
   ]
  },
  {
   "cell_type": "code",
   "execution_count": 5,
   "id": "146adb92",
   "metadata": {
    "execution": {
     "iopub.execute_input": "2022-02-24T12:46:37.747638Z",
     "iopub.status.busy": "2022-02-24T12:46:37.744854Z",
     "iopub.status.idle": "2022-02-24T12:46:37.751329Z",
     "shell.execute_reply": "2022-02-24T12:46:37.750733Z",
     "shell.execute_reply.started": "2022-02-24T12:21:42.545897Z"
    },
    "papermill": {
     "duration": 0.065981,
     "end_time": "2022-02-24T12:46:37.751486",
     "exception": false,
     "start_time": "2022-02-24T12:46:37.685505",
     "status": "completed"
    },
    "tags": []
   },
   "outputs": [
    {
     "data": {
      "text/plain": [
       "(550068, 12)"
      ]
     },
     "execution_count": 5,
     "metadata": {},
     "output_type": "execute_result"
    }
   ],
   "source": [
    "df_train.shape"
   ]
  },
  {
   "cell_type": "code",
   "execution_count": 6,
   "id": "f2018432",
   "metadata": {
    "execution": {
     "iopub.execute_input": "2022-02-24T12:46:37.865604Z",
     "iopub.status.busy": "2022-02-24T12:46:37.864907Z",
     "iopub.status.idle": "2022-02-24T12:46:37.866714Z",
     "shell.execute_reply": "2022-02-24T12:46:37.867298Z",
     "shell.execute_reply.started": "2022-02-24T12:21:42.553259Z"
    },
    "papermill": {
     "duration": 0.061094,
     "end_time": "2022-02-24T12:46:37.867470",
     "exception": false,
     "start_time": "2022-02-24T12:46:37.806376",
     "status": "completed"
    },
    "tags": []
   },
   "outputs": [],
   "source": [
    "# #concat the dataset\n",
    "# df = df_train.append(df_test)\n",
    "# df.head()"
   ]
  },
  {
   "cell_type": "markdown",
   "id": "049ba3e2",
   "metadata": {
    "papermill": {
     "duration": 0.054318,
     "end_time": "2022-02-24T12:46:37.976484",
     "exception": false,
     "start_time": "2022-02-24T12:46:37.922166",
     "status": "completed"
    },
    "tags": []
   },
   "source": [
    "## Training Data EDA"
   ]
  },
  {
   "cell_type": "code",
   "execution_count": 7,
   "id": "469a7cfa",
   "metadata": {
    "execution": {
     "iopub.execute_input": "2022-02-24T12:46:38.089270Z",
     "iopub.status.busy": "2022-02-24T12:46:38.088608Z",
     "iopub.status.idle": "2022-02-24T12:46:38.407400Z",
     "shell.execute_reply": "2022-02-24T12:46:38.406738Z",
     "shell.execute_reply.started": "2022-02-24T12:21:42.565807Z"
    },
    "papermill": {
     "duration": 0.376252,
     "end_time": "2022-02-24T12:46:38.407569",
     "exception": false,
     "start_time": "2022-02-24T12:46:38.031317",
     "status": "completed"
    },
    "tags": []
   },
   "outputs": [
    {
     "name": "stdout",
     "output_type": "stream",
     "text": [
      "<class 'pandas.core.frame.DataFrame'>\n",
      "RangeIndex: 550068 entries, 0 to 550067\n",
      "Data columns (total 12 columns):\n",
      " #   Column                      Non-Null Count   Dtype  \n",
      "---  ------                      --------------   -----  \n",
      " 0   User_ID                     550068 non-null  int64  \n",
      " 1   Product_ID                  550068 non-null  object \n",
      " 2   Gender                      550068 non-null  object \n",
      " 3   Age                         550068 non-null  object \n",
      " 4   Occupation                  550068 non-null  int64  \n",
      " 5   City_Category               550068 non-null  object \n",
      " 6   Stay_In_Current_City_Years  550068 non-null  object \n",
      " 7   Marital_Status              550068 non-null  int64  \n",
      " 8   Product_Category_1          550068 non-null  int64  \n",
      " 9   Product_Category_2          376430 non-null  float64\n",
      " 10  Product_Category_3          166821 non-null  float64\n",
      " 11  Purchase                    550068 non-null  int64  \n",
      "dtypes: float64(2), int64(5), object(5)\n",
      "memory usage: 50.4+ MB\n"
     ]
    }
   ],
   "source": [
    "#checking the dataset\n",
    "df_train.info()"
   ]
  },
  {
   "cell_type": "code",
   "execution_count": 8,
   "id": "53af7f6d",
   "metadata": {
    "execution": {
     "iopub.execute_input": "2022-02-24T12:46:38.537248Z",
     "iopub.status.busy": "2022-02-24T12:46:38.534209Z",
     "iopub.status.idle": "2022-02-24T12:46:38.678961Z",
     "shell.execute_reply": "2022-02-24T12:46:38.679485Z",
     "shell.execute_reply.started": "2022-02-24T12:21:42.706745Z"
    },
    "papermill": {
     "duration": 0.216237,
     "end_time": "2022-02-24T12:46:38.679659",
     "exception": false,
     "start_time": "2022-02-24T12:46:38.463422",
     "status": "completed"
    },
    "tags": []
   },
   "outputs": [
    {
     "data": {
      "text/html": [
       "<div>\n",
       "<style scoped>\n",
       "    .dataframe tbody tr th:only-of-type {\n",
       "        vertical-align: middle;\n",
       "    }\n",
       "\n",
       "    .dataframe tbody tr th {\n",
       "        vertical-align: top;\n",
       "    }\n",
       "\n",
       "    .dataframe thead th {\n",
       "        text-align: right;\n",
       "    }\n",
       "</style>\n",
       "<table border=\"1\" class=\"dataframe\">\n",
       "  <thead>\n",
       "    <tr style=\"text-align: right;\">\n",
       "      <th></th>\n",
       "      <th>User_ID</th>\n",
       "      <th>Occupation</th>\n",
       "      <th>Marital_Status</th>\n",
       "      <th>Product_Category_1</th>\n",
       "      <th>Product_Category_2</th>\n",
       "      <th>Product_Category_3</th>\n",
       "      <th>Purchase</th>\n",
       "    </tr>\n",
       "  </thead>\n",
       "  <tbody>\n",
       "    <tr>\n",
       "      <th>count</th>\n",
       "      <td>5.500680e+05</td>\n",
       "      <td>550068.000000</td>\n",
       "      <td>550068.000000</td>\n",
       "      <td>550068.000000</td>\n",
       "      <td>376430.000000</td>\n",
       "      <td>166821.000000</td>\n",
       "      <td>550068.000000</td>\n",
       "    </tr>\n",
       "    <tr>\n",
       "      <th>mean</th>\n",
       "      <td>1.003029e+06</td>\n",
       "      <td>8.076707</td>\n",
       "      <td>0.409653</td>\n",
       "      <td>5.404270</td>\n",
       "      <td>9.842329</td>\n",
       "      <td>12.668243</td>\n",
       "      <td>9263.968713</td>\n",
       "    </tr>\n",
       "    <tr>\n",
       "      <th>std</th>\n",
       "      <td>1.727592e+03</td>\n",
       "      <td>6.522660</td>\n",
       "      <td>0.491770</td>\n",
       "      <td>3.936211</td>\n",
       "      <td>5.086590</td>\n",
       "      <td>4.125338</td>\n",
       "      <td>5023.065394</td>\n",
       "    </tr>\n",
       "    <tr>\n",
       "      <th>min</th>\n",
       "      <td>1.000001e+06</td>\n",
       "      <td>0.000000</td>\n",
       "      <td>0.000000</td>\n",
       "      <td>1.000000</td>\n",
       "      <td>2.000000</td>\n",
       "      <td>3.000000</td>\n",
       "      <td>12.000000</td>\n",
       "    </tr>\n",
       "    <tr>\n",
       "      <th>25%</th>\n",
       "      <td>1.001516e+06</td>\n",
       "      <td>2.000000</td>\n",
       "      <td>0.000000</td>\n",
       "      <td>1.000000</td>\n",
       "      <td>5.000000</td>\n",
       "      <td>9.000000</td>\n",
       "      <td>5823.000000</td>\n",
       "    </tr>\n",
       "    <tr>\n",
       "      <th>50%</th>\n",
       "      <td>1.003077e+06</td>\n",
       "      <td>7.000000</td>\n",
       "      <td>0.000000</td>\n",
       "      <td>5.000000</td>\n",
       "      <td>9.000000</td>\n",
       "      <td>14.000000</td>\n",
       "      <td>8047.000000</td>\n",
       "    </tr>\n",
       "    <tr>\n",
       "      <th>75%</th>\n",
       "      <td>1.004478e+06</td>\n",
       "      <td>14.000000</td>\n",
       "      <td>1.000000</td>\n",
       "      <td>8.000000</td>\n",
       "      <td>15.000000</td>\n",
       "      <td>16.000000</td>\n",
       "      <td>12054.000000</td>\n",
       "    </tr>\n",
       "    <tr>\n",
       "      <th>max</th>\n",
       "      <td>1.006040e+06</td>\n",
       "      <td>20.000000</td>\n",
       "      <td>1.000000</td>\n",
       "      <td>20.000000</td>\n",
       "      <td>18.000000</td>\n",
       "      <td>18.000000</td>\n",
       "      <td>23961.000000</td>\n",
       "    </tr>\n",
       "  </tbody>\n",
       "</table>\n",
       "</div>"
      ],
      "text/plain": [
       "            User_ID     Occupation  Marital_Status  Product_Category_1  \\\n",
       "count  5.500680e+05  550068.000000   550068.000000       550068.000000   \n",
       "mean   1.003029e+06       8.076707        0.409653            5.404270   \n",
       "std    1.727592e+03       6.522660        0.491770            3.936211   \n",
       "min    1.000001e+06       0.000000        0.000000            1.000000   \n",
       "25%    1.001516e+06       2.000000        0.000000            1.000000   \n",
       "50%    1.003077e+06       7.000000        0.000000            5.000000   \n",
       "75%    1.004478e+06      14.000000        1.000000            8.000000   \n",
       "max    1.006040e+06      20.000000        1.000000           20.000000   \n",
       "\n",
       "       Product_Category_2  Product_Category_3       Purchase  \n",
       "count       376430.000000       166821.000000  550068.000000  \n",
       "mean             9.842329           12.668243    9263.968713  \n",
       "std              5.086590            4.125338    5023.065394  \n",
       "min              2.000000            3.000000      12.000000  \n",
       "25%              5.000000            9.000000    5823.000000  \n",
       "50%              9.000000           14.000000    8047.000000  \n",
       "75%             15.000000           16.000000   12054.000000  \n",
       "max             18.000000           18.000000   23961.000000  "
      ]
     },
     "execution_count": 8,
     "metadata": {},
     "output_type": "execute_result"
    }
   ],
   "source": [
    "df_train.describe()"
   ]
  },
  {
   "cell_type": "code",
   "execution_count": 9,
   "id": "af899301",
   "metadata": {
    "execution": {
     "iopub.execute_input": "2022-02-24T12:46:38.797143Z",
     "iopub.status.busy": "2022-02-24T12:46:38.795937Z",
     "iopub.status.idle": "2022-02-24T12:46:39.098438Z",
     "shell.execute_reply": "2022-02-24T12:46:39.099021Z",
     "shell.execute_reply.started": "2022-02-24T12:21:42.860583Z"
    },
    "papermill": {
     "duration": 0.36304,
     "end_time": "2022-02-24T12:46:39.099199",
     "exception": false,
     "start_time": "2022-02-24T12:46:38.736159",
     "status": "completed"
    },
    "tags": []
   },
   "outputs": [
    {
     "data": {
      "text/plain": [
       "User_ID                            0\n",
       "Product_ID                         0\n",
       "Gender                             0\n",
       "Age                                0\n",
       "Occupation                         0\n",
       "City_Category                      0\n",
       "Stay_In_Current_City_Years         0\n",
       "Marital_Status                     0\n",
       "Product_Category_1                 0\n",
       "Product_Category_2            173638\n",
       "Product_Category_3            383247\n",
       "Purchase                           0\n",
       "dtype: int64"
      ]
     },
     "execution_count": 9,
     "metadata": {},
     "output_type": "execute_result"
    }
   ],
   "source": [
    "#checking null values in training dataset\n",
    "df_train.isnull().sum()"
   ]
  },
  {
   "cell_type": "markdown",
   "id": "127d0c55",
   "metadata": {
    "papermill": {
     "duration": 0.056385,
     "end_time": "2022-02-24T12:46:39.212052",
     "exception": false,
     "start_time": "2022-02-24T12:46:39.155667",
     "status": "completed"
    },
    "tags": []
   },
   "source": [
    "_We have missing values in the Product_Category_2 & Product_Category_3, need to a way to treat them_"
   ]
  },
  {
   "cell_type": "code",
   "execution_count": 10,
   "id": "436182df",
   "metadata": {
    "execution": {
     "iopub.execute_input": "2022-02-24T12:46:39.328750Z",
     "iopub.status.busy": "2022-02-24T12:46:39.327746Z",
     "iopub.status.idle": "2022-02-24T12:46:39.630778Z",
     "shell.execute_reply": "2022-02-24T12:46:39.631322Z",
     "shell.execute_reply.started": "2022-02-24T12:21:43.010489Z"
    },
    "papermill": {
     "duration": 0.363417,
     "end_time": "2022-02-24T12:46:39.631498",
     "exception": false,
     "start_time": "2022-02-24T12:46:39.268081",
     "status": "completed"
    },
    "tags": []
   },
   "outputs": [
    {
     "data": {
      "text/plain": [
       "User_ID                        0.00\n",
       "Product_ID                     0.00\n",
       "Gender                         0.00\n",
       "Age                            0.00\n",
       "Occupation                     0.00\n",
       "City_Category                  0.00\n",
       "Stay_In_Current_City_Years     0.00\n",
       "Marital_Status                 0.00\n",
       "Product_Category_1             0.00\n",
       "Product_Category_2            31.57\n",
       "Product_Category_3            69.67\n",
       "Purchase                       0.00\n",
       "dtype: float64"
      ]
     },
     "execution_count": 10,
     "metadata": {},
     "output_type": "execute_result"
    }
   ],
   "source": [
    "#checking percentage of nulls\n",
    "round((df_train.isnull().sum()/len(df_train.index))*100,2)"
   ]
  },
  {
   "cell_type": "code",
   "execution_count": 11,
   "id": "ea334165",
   "metadata": {
    "execution": {
     "iopub.execute_input": "2022-02-24T12:46:39.750844Z",
     "iopub.status.busy": "2022-02-24T12:46:39.749812Z",
     "iopub.status.idle": "2022-02-24T12:46:40.209116Z",
     "shell.execute_reply": "2022-02-24T12:46:40.209653Z",
     "shell.execute_reply.started": "2022-02-24T12:21:43.139218Z"
    },
    "papermill": {
     "duration": 0.52067,
     "end_time": "2022-02-24T12:46:40.209830",
     "exception": false,
     "start_time": "2022-02-24T12:46:39.689160",
     "status": "completed"
    },
    "tags": []
   },
   "outputs": [
    {
     "data": {
      "image/png": "[encoded data removed]",
      "text/plain": [
       "<Figure size 720x504 with 1 Axes>"
      ]
     },
     "metadata": {
      "needs_background": "light"
     },
     "output_type": "display_data"
    }
   ],
   "source": [
    "ax = df_train['Product_ID'].value_counts().head(20).plot(kind='bar', figsize=(10,7))\n",
    "\n",
    "for p in ax.patches:\n",
    "    height = p.get_height()\n",
    "    ax.text(x=p.get_x()+(p.get_width()/2),\n",
    "           y = height+50,\n",
    "           s=height,\n",
    "           ha='center',\n",
    "            va='center'\n",
    "          )"
   ]
  },
  {
   "cell_type": "markdown",
   "id": "bda97cd8",
   "metadata": {
    "papermill": {
     "duration": 0.057703,
     "end_time": "2022-02-24T12:46:40.325743",
     "exception": false,
     "start_time": "2022-02-24T12:46:40.268040",
     "status": "completed"
    },
    "tags": []
   },
   "source": [
    "The column has total of 550068 items, plotting the top 20"
   ]
  },
  {
   "cell_type": "code",
   "execution_count": 12,
   "id": "9d70c23c",
   "metadata": {
    "execution": {
     "iopub.execute_input": "2022-02-24T12:46:40.507718Z",
     "iopub.status.busy": "2022-02-24T12:46:40.506733Z",
     "iopub.status.idle": "2022-02-24T12:46:41.223047Z",
     "shell.execute_reply": "2022-02-24T12:46:41.222478Z",
     "shell.execute_reply.started": "2022-02-24T12:21:43.532279Z"
    },
    "papermill": {
     "duration": 0.839191,
     "end_time": "2022-02-24T12:46:41.223207",
     "exception": false,
     "start_time": "2022-02-24T12:46:40.384016",
     "status": "completed"
    },
    "tags": []
   },
   "outputs": [
    {
     "data": {
      "image/png": "[encoded data removed]",
      "text/plain": [
       "<Figure size 432x288 with 1 Axes>"
      ]
     },
     "metadata": {
      "needs_background": "light"
     },
     "output_type": "display_data"
    }
   ],
   "source": [
    "ax = sns.countplot(x='Gender', data=df_train)\n",
    "\n",
    "for p in ax.patches:\n",
    "    height = p.get_height()\n",
    "    ax.text(x=p.get_x()+(p.get_width()/2),\n",
    "            y = height+500,\n",
    "            s=height,\n",
    "            ha='center'\n",
    "           )\n",
    "\n",
    "plt.show()"
   ]
  },
  {
   "cell_type": "markdown",
   "id": "284fd038",
   "metadata": {
    "papermill": {
     "duration": 0.058078,
     "end_time": "2022-02-24T12:46:41.339835",
     "exception": false,
     "start_time": "2022-02-24T12:46:41.281757",
     "status": "completed"
    },
    "tags": []
   },
   "source": [
    "The data has 2 values for gender column, maximum are males"
   ]
  },
  {
   "cell_type": "code",
   "execution_count": 13,
   "id": "a2e0178d",
   "metadata": {
    "execution": {
     "iopub.execute_input": "2022-02-24T12:46:41.462688Z",
     "iopub.status.busy": "2022-02-24T12:46:41.461680Z",
     "iopub.status.idle": "2022-02-24T12:46:41.551403Z",
     "shell.execute_reply": "2022-02-24T12:46:41.551886Z",
     "shell.execute_reply.started": "2022-02-24T12:21:43.993382Z"
    },
    "papermill": {
     "duration": 0.153636,
     "end_time": "2022-02-24T12:46:41.552093",
     "exception": false,
     "start_time": "2022-02-24T12:46:41.398457",
     "status": "completed"
    },
    "tags": []
   },
   "outputs": [
    {
     "data": {
      "text/plain": [
       "26-35    219587\n",
       "36-45    110013\n",
       "18-25     99660\n",
       "46-50     45701\n",
       "51-55     38501\n",
       "55+       21504\n",
       "0-17      15102\n",
       "Name: Age, dtype: int64"
      ]
     },
     "execution_count": 13,
     "metadata": {},
     "output_type": "execute_result"
    }
   ],
   "source": [
    "df_train['Age'].value_counts()"
   ]
  },
  {
   "cell_type": "code",
   "execution_count": 14,
   "id": "ed6cbe4d",
   "metadata": {
    "execution": {
     "iopub.execute_input": "2022-02-24T12:46:41.735345Z",
     "iopub.status.busy": "2022-02-24T12:46:41.734647Z",
     "iopub.status.idle": "2022-02-24T12:46:42.293780Z",
     "shell.execute_reply": "2022-02-24T12:46:42.294327Z",
     "shell.execute_reply.started": "2022-02-24T12:21:44.034443Z"
    },
    "papermill": {
     "duration": 0.683026,
     "end_time": "2022-02-24T12:46:42.294544",
     "exception": false,
     "start_time": "2022-02-24T12:46:41.611518",
     "status": "completed"
    },
    "tags": []
   },
   "outputs": [
    {
     "data": {
      "image/png": "[encoded data removed]",
      "text/plain": [
       "<Figure size 432x288 with 1 Axes>"
      ]
     },
     "metadata": {
      "needs_background": "light"
     },
     "output_type": "display_data"
    }
   ],
   "source": [
    "ax = sns.countplot(x='Age', data=df_train, order=['26-35',\n",
    "'36-45',\n",
    "'18-25',\n",
    "'46-50',\n",
    "'51-55',\n",
    "'55+',\n",
    "'0-17'])# use order to define the order in whih we want to see the analysis.\n",
    "\n",
    "for p in ax.patches:\n",
    "    height = p.get_height()\n",
    "    ax.text(x=p.get_x()+(p.get_width()/2),\n",
    "            y = height+500,\n",
    "            s=height,\n",
    "            ha='center'\n",
    "           )\n",
    "\n",
    "plt.show()"
   ]
  },
  {
   "cell_type": "markdown",
   "id": "2caae6b7",
   "metadata": {
    "papermill": {
     "duration": 0.064274,
     "end_time": "2022-02-24T12:46:42.419409",
     "exception": false,
     "start_time": "2022-02-24T12:46:42.355135",
     "status": "completed"
    },
    "tags": []
   },
   "source": [
    "The **Age** column is divided into ranges of ages & the maximum age group that makes the purchase are in the age group of **26-35**"
   ]
  },
  {
   "cell_type": "code",
   "execution_count": 15,
   "id": "1c31e465",
   "metadata": {
    "execution": {
     "iopub.execute_input": "2022-02-24T12:46:42.543508Z",
     "iopub.status.busy": "2022-02-24T12:46:42.542856Z",
     "iopub.status.idle": "2022-02-24T12:46:42.552800Z",
     "shell.execute_reply": "2022-02-24T12:46:42.553325Z",
     "shell.execute_reply.started": "2022-02-24T12:21:44.444055Z"
    },
    "papermill": {
     "duration": 0.072838,
     "end_time": "2022-02-24T12:46:42.553496",
     "exception": false,
     "start_time": "2022-02-24T12:46:42.480658",
     "status": "completed"
    },
    "tags": []
   },
   "outputs": [
    {
     "data": {
      "text/plain": [
       "4     72308\n",
       "0     69638\n",
       "7     59133\n",
       "1     47426\n",
       "17    40043\n",
       "20    33562\n",
       "12    31179\n",
       "14    27309\n",
       "2     26588\n",
       "16    25371\n",
       "6     20355\n",
       "3     17650\n",
       "10    12930\n",
       "5     12177\n",
       "15    12165\n",
       "11    11586\n",
       "19     8461\n",
       "13     7728\n",
       "18     6622\n",
       "9      6291\n",
       "8      1546\n",
       "Name: Occupation, dtype: int64"
      ]
     },
     "execution_count": 15,
     "metadata": {},
     "output_type": "execute_result"
    }
   ],
   "source": [
    "df_train['Occupation'].value_counts()"
   ]
  },
  {
   "cell_type": "markdown",
   "id": "4f71f85f",
   "metadata": {
    "papermill": {
     "duration": 0.060079,
     "end_time": "2022-02-24T12:46:42.673662",
     "exception": false,
     "start_time": "2022-02-24T12:46:42.613583",
     "status": "completed"
    },
    "tags": []
   },
   "source": [
    "The **Occupation** is encoded into numbers, plotting the count of occupations"
   ]
  },
  {
   "cell_type": "code",
   "execution_count": 16,
   "id": "7675fbb6",
   "metadata": {
    "execution": {
     "iopub.execute_input": "2022-02-24T12:46:42.798716Z",
     "iopub.status.busy": "2022-02-24T12:46:42.798022Z",
     "iopub.status.idle": "2022-02-24T12:46:43.213027Z",
     "shell.execute_reply": "2022-02-24T12:46:43.212339Z",
     "shell.execute_reply.started": "2022-02-24T12:21:44.456659Z"
    },
    "papermill": {
     "duration": 0.478955,
     "end_time": "2022-02-24T12:46:43.213181",
     "exception": false,
     "start_time": "2022-02-24T12:46:42.734226",
     "status": "completed"
    },
    "tags": []
   },
   "outputs": [
    {
     "data": {
      "image/png": "[encoded data removed]",
      "text/plain": [
       "<Figure size 720x504 with 1 Axes>"
      ]
     },
     "metadata": {
      "needs_background": "light"
     },
     "output_type": "display_data"
    }
   ],
   "source": [
    "plt.figure(figsize=(10,7))\n",
    "ax = sns.countplot(x='Occupation', data=df_train, order=df_train['Occupation'].value_counts().index)\n",
    "for p in ax.patches:\n",
    "    height = p.get_height()\n",
    "    ax.text(x=p.get_x()+(p.get_width()/2),\n",
    "            y = height+500,\n",
    "            s=height,\n",
    "            ha='center'\n",
    "           )\n",
    "\n",
    "\n",
    "plt.show()"
   ]
  },
  {
   "cell_type": "code",
   "execution_count": 17,
   "id": "5c99d760",
   "metadata": {
    "execution": {
     "iopub.execute_input": "2022-02-24T12:46:43.407159Z",
     "iopub.status.busy": "2022-02-24T12:46:43.406215Z",
     "iopub.status.idle": "2022-02-24T12:46:43.410482Z",
     "shell.execute_reply": "2022-02-24T12:46:43.409958Z",
     "shell.execute_reply.started": "2022-02-24T12:21:45.159160Z"
    },
    "papermill": {
     "duration": 0.135175,
     "end_time": "2022-02-24T12:46:43.410630",
     "exception": false,
     "start_time": "2022-02-24T12:46:43.275455",
     "status": "completed"
    },
    "tags": []
   },
   "outputs": [
    {
     "data": {
      "text/plain": [
       "B    231173\n",
       "C    171175\n",
       "A    147720\n",
       "Name: City_Category, dtype: int64"
      ]
     },
     "execution_count": 17,
     "metadata": {},
     "output_type": "execute_result"
    }
   ],
   "source": [
    "df_train['City_Category'].value_counts()"
   ]
  },
  {
   "cell_type": "markdown",
   "id": "37df19d1",
   "metadata": {
    "papermill": {
     "duration": 0.06248,
     "end_time": "2022-02-24T12:46:43.536736",
     "exception": false,
     "start_time": "2022-02-24T12:46:43.474256",
     "status": "completed"
    },
    "tags": []
   },
   "source": [
    "The **City_Category** column is also encoded, so plotting to see the dta distribution"
   ]
  },
  {
   "cell_type": "code",
   "execution_count": 18,
   "id": "1505e81e",
   "metadata": {
    "execution": {
     "iopub.execute_input": "2022-02-24T12:46:43.789740Z",
     "iopub.status.busy": "2022-02-24T12:46:43.731749Z",
     "iopub.status.idle": "2022-02-24T12:46:44.317958Z",
     "shell.execute_reply": "2022-02-24T12:46:44.318549Z",
     "shell.execute_reply.started": "2022-02-24T12:21:45.193957Z"
    },
    "papermill": {
     "duration": 0.719395,
     "end_time": "2022-02-24T12:46:44.318732",
     "exception": false,
     "start_time": "2022-02-24T12:46:43.599337",
     "status": "completed"
    },
    "tags": []
   },
   "outputs": [
    {
     "data": {
      "image/png": "[encoded data removed]",
      "text/plain": [
       "<Figure size 720x504 with 1 Axes>"
      ]
     },
     "metadata": {
      "needs_background": "light"
     },
     "output_type": "display_data"
    }
   ],
   "source": [
    "plt.figure(figsize=(10,7))\n",
    "ax = sns.countplot(x='City_Category', data=df_train, order=df_train['City_Category'].value_counts().index)\n",
    "for p in ax.patches:\n",
    "    height = p.get_height()\n",
    "    ax.text(x=p.get_x()+(p.get_width()/2),\n",
    "            y = height+500,\n",
    "            s=height,\n",
    "            ha='center'\n",
    "           )\n",
    "\n",
    "\n",
    "plt.show()"
   ]
  },
  {
   "cell_type": "code",
   "execution_count": 19,
   "id": "c3bdeca4",
   "metadata": {
    "execution": {
     "iopub.execute_input": "2022-02-24T12:46:44.549654Z",
     "iopub.status.busy": "2022-02-24T12:46:44.548610Z",
     "iopub.status.idle": "2022-02-24T12:46:44.552542Z",
     "shell.execute_reply": "2022-02-24T12:46:44.553291Z",
     "shell.execute_reply.started": "2022-02-24T12:21:45.599305Z"
    },
    "papermill": {
     "duration": 0.162699,
     "end_time": "2022-02-24T12:46:44.553520",
     "exception": false,
     "start_time": "2022-02-24T12:46:44.390821",
     "status": "completed"
    },
    "tags": []
   },
   "outputs": [
    {
     "data": {
      "text/plain": [
       "1     193821\n",
       "2     101838\n",
       "3      95285\n",
       "4+     84726\n",
       "0      74398\n",
       "Name: Stay_In_Current_City_Years, dtype: int64"
      ]
     },
     "execution_count": 19,
     "metadata": {},
     "output_type": "execute_result"
    }
   ],
   "source": [
    "df_train['Stay_In_Current_City_Years'].value_counts()"
   ]
  },
  {
   "cell_type": "markdown",
   "id": "531a0654",
   "metadata": {
    "papermill": {
     "duration": 0.072365,
     "end_time": "2022-02-24T12:46:44.697965",
     "exception": false,
     "start_time": "2022-02-24T12:46:44.625600",
     "status": "completed"
    },
    "tags": []
   },
   "source": [
    "The data has stay in city upto 4 years, the data distribution is as follows"
   ]
  },
  {
   "cell_type": "code",
   "execution_count": 20,
   "id": "c501ee17",
   "metadata": {
    "execution": {
     "iopub.execute_input": "2022-02-24T12:46:44.833946Z",
     "iopub.status.busy": "2022-02-24T12:46:44.833041Z",
     "iopub.status.idle": "2022-02-24T12:46:45.547721Z",
     "shell.execute_reply": "2022-02-24T12:46:45.546889Z",
     "shell.execute_reply.started": "2022-02-24T12:21:45.633660Z"
    },
    "papermill": {
     "duration": 0.785552,
     "end_time": "2022-02-24T12:46:45.547881",
     "exception": false,
     "start_time": "2022-02-24T12:46:44.762329",
     "status": "completed"
    },
    "tags": []
   },
   "outputs": [
    {
     "data": {
      "image/png": "[encoded data removed]",
      "text/plain": [
       "<Figure size 720x504 with 1 Axes>"
      ]
     },
     "metadata": {
      "needs_background": "light"
     },
     "output_type": "display_data"
    }
   ],
   "source": [
    "plt.figure(figsize=(10,7))\n",
    "ax = sns.countplot(x='Stay_In_Current_City_Years', data=df_train, order=df_train['Stay_In_Current_City_Years'].value_counts().index)\n",
    "for p in ax.patches:\n",
    "    height = p.get_height()\n",
    "    ax.text(x=p.get_x()+(p.get_width()/2),\n",
    "            y=height+100,\n",
    "            s=height,\n",
    "            ha='center'\n",
    "           )\n",
    "plt.show()"
   ]
  },
  {
   "cell_type": "code",
   "execution_count": 21,
   "id": "3d71b4de",
   "metadata": {
    "execution": {
     "iopub.execute_input": "2022-02-24T12:46:45.691578Z",
     "iopub.status.busy": "2022-02-24T12:46:45.690810Z",
     "iopub.status.idle": "2022-02-24T12:46:45.695372Z",
     "shell.execute_reply": "2022-02-24T12:46:45.695877Z",
     "shell.execute_reply.started": "2022-02-24T12:21:46.075336Z"
    },
    "papermill": {
     "duration": 0.07793,
     "end_time": "2022-02-24T12:46:45.696063",
     "exception": false,
     "start_time": "2022-02-24T12:46:45.618133",
     "status": "completed"
    },
    "tags": []
   },
   "outputs": [
    {
     "data": {
      "text/plain": [
       "0    324731\n",
       "1    225337\n",
       "Name: Marital_Status, dtype: int64"
      ]
     },
     "execution_count": 21,
     "metadata": {},
     "output_type": "execute_result"
    }
   ],
   "source": [
    "df_train['Marital_Status'].value_counts()"
   ]
  },
  {
   "cell_type": "markdown",
   "id": "9eb0bd3b",
   "metadata": {
    "papermill": {
     "duration": 0.064204,
     "end_time": "2022-02-24T12:46:45.825519",
     "exception": false,
     "start_time": "2022-02-24T12:46:45.761315",
     "status": "completed"
    },
    "tags": []
   },
   "source": [
    "Marital Status is encoded as **0** & **1**, plotting the same"
   ]
  },
  {
   "cell_type": "code",
   "execution_count": 22,
   "id": "3733b3ff",
   "metadata": {
    "execution": {
     "iopub.execute_input": "2022-02-24T12:46:45.958385Z",
     "iopub.status.busy": "2022-02-24T12:46:45.957695Z",
     "iopub.status.idle": "2022-02-24T12:46:46.162103Z",
     "shell.execute_reply": "2022-02-24T12:46:46.161451Z",
     "shell.execute_reply.started": "2022-02-24T12:21:46.088908Z"
    },
    "papermill": {
     "duration": 0.271942,
     "end_time": "2022-02-24T12:46:46.162243",
     "exception": false,
     "start_time": "2022-02-24T12:46:45.890301",
     "status": "completed"
    },
    "tags": []
   },
   "outputs": [
    {
     "data": {
      "image/png": "[encoded data removed]",
      "text/plain": [
       "<Figure size 432x288 with 1 Axes>"
      ]
     },
     "metadata": {
      "needs_background": "light"
     },
     "output_type": "display_data"
    }
   ],
   "source": [
    "ax = sns.countplot(x='Marital_Status', data=df_train)\n",
    "\n",
    "for p in ax.patches:\n",
    "    height = p.get_height()\n",
    "    ax.text(x=p.get_x()+ (p.get_width()/2),\n",
    "            y=height+1000,\n",
    "            s=height,\n",
    "            ha='center'\n",
    "           )\n",
    "plt.show()"
   ]
  },
  {
   "cell_type": "code",
   "execution_count": 23,
   "id": "a215611e",
   "metadata": {
    "execution": {
     "iopub.execute_input": "2022-02-24T12:46:46.298594Z",
     "iopub.status.busy": "2022-02-24T12:46:46.297910Z",
     "iopub.status.idle": "2022-02-24T12:46:46.307154Z",
     "shell.execute_reply": "2022-02-24T12:46:46.307741Z",
     "shell.execute_reply.started": "2022-02-24T12:21:46.292640Z"
    },
    "papermill": {
     "duration": 0.079999,
     "end_time": "2022-02-24T12:46:46.307910",
     "exception": false,
     "start_time": "2022-02-24T12:46:46.227911",
     "status": "completed"
    },
    "tags": []
   },
   "outputs": [
    {
     "data": {
      "text/plain": [
       "5     150933\n",
       "1     140378\n",
       "8     113925\n",
       "11     24287\n",
       "2      23864\n",
       "6      20466\n",
       "3      20213\n",
       "4      11753\n",
       "16      9828\n",
       "15      6290\n",
       "13      5549\n",
       "10      5125\n",
       "12      3947\n",
       "7       3721\n",
       "18      3125\n",
       "20      2550\n",
       "19      1603\n",
       "14      1523\n",
       "17       578\n",
       "9        410\n",
       "Name: Product_Category_1, dtype: int64"
      ]
     },
     "execution_count": 23,
     "metadata": {},
     "output_type": "execute_result"
    }
   ],
   "source": [
    "df_train['Product_Category_1'].value_counts()"
   ]
  },
  {
   "cell_type": "markdown",
   "id": "5b1634ea",
   "metadata": {
    "papermill": {
     "duration": 0.066478,
     "end_time": "2022-02-24T12:46:46.440306",
     "exception": false,
     "start_time": "2022-02-24T12:46:46.373828",
     "status": "completed"
    },
    "tags": []
   },
   "source": [
    "**Product_Category_1** is encoded, plotting the distribution"
   ]
  },
  {
   "cell_type": "code",
   "execution_count": 24,
   "id": "5b250c55",
   "metadata": {
    "execution": {
     "iopub.execute_input": "2022-02-24T12:46:46.577916Z",
     "iopub.status.busy": "2022-02-24T12:46:46.576934Z",
     "iopub.status.idle": "2022-02-24T12:46:46.995164Z",
     "shell.execute_reply": "2022-02-24T12:46:46.995687Z",
     "shell.execute_reply.started": "2022-02-24T12:21:46.307122Z"
    },
    "papermill": {
     "duration": 0.488123,
     "end_time": "2022-02-24T12:46:46.995865",
     "exception": false,
     "start_time": "2022-02-24T12:46:46.507742",
     "status": "completed"
    },
    "tags": []
   },
   "outputs": [
    {
     "data": {
      "image/png": "[encoded data removed]",
      "text/plain": [
       "<Figure size 720x504 with 1 Axes>"
      ]
     },
     "metadata": {
      "needs_background": "light"
     },
     "output_type": "display_data"
    }
   ],
   "source": [
    "plt.figure(figsize=(10,7))\n",
    "ax = sns.countplot(x='Product_Category_1', data=df_train, order=df_train['Product_Category_1'].value_counts().index)\n",
    "\n",
    "for p in ax.patches:\n",
    "    height = p.get_height()\n",
    "    ax.text(x=p.get_x()+(p.get_width()/2),\n",
    "            y=height+1000,\n",
    "            s=height,\n",
    "            ha='center',\n",
    "            va='baseline'\n",
    "           )\n",
    "plt.show()"
   ]
  },
  {
   "cell_type": "code",
   "execution_count": 25,
   "id": "809721c3",
   "metadata": {
    "execution": {
     "iopub.execute_input": "2022-02-24T12:46:47.133578Z",
     "iopub.status.busy": "2022-02-24T12:46:47.132898Z",
     "iopub.status.idle": "2022-02-24T12:46:47.149711Z",
     "shell.execute_reply": "2022-02-24T12:46:47.150176Z",
     "shell.execute_reply.started": "2022-02-24T12:21:46.646296Z"
    },
    "papermill": {
     "duration": 0.087264,
     "end_time": "2022-02-24T12:46:47.150349",
     "exception": false,
     "start_time": "2022-02-24T12:46:47.063085",
     "status": "completed"
    },
    "tags": []
   },
   "outputs": [
    {
     "data": {
      "text/plain": [
       "8.0     64088\n",
       "14.0    55108\n",
       "2.0     49217\n",
       "16.0    43255\n",
       "15.0    37855\n",
       "5.0     26235\n",
       "4.0     25677\n",
       "6.0     16466\n",
       "11.0    14134\n",
       "17.0    13320\n",
       "13.0    10531\n",
       "9.0      5693\n",
       "12.0     5528\n",
       "10.0     3043\n",
       "3.0      2884\n",
       "18.0     2770\n",
       "7.0       626\n",
       "Name: Product_Category_2, dtype: int64"
      ]
     },
     "execution_count": 25,
     "metadata": {},
     "output_type": "execute_result"
    }
   ],
   "source": [
    "df_train['Product_Category_2'].value_counts()"
   ]
  },
  {
   "cell_type": "code",
   "execution_count": 26,
   "id": "6221ce9d",
   "metadata": {
    "execution": {
     "iopub.execute_input": "2022-02-24T12:46:47.301435Z",
     "iopub.status.busy": "2022-02-24T12:46:47.300156Z",
     "iopub.status.idle": "2022-02-24T12:46:47.767189Z",
     "shell.execute_reply": "2022-02-24T12:46:47.767737Z",
     "shell.execute_reply.started": "2022-02-24T12:21:46.664671Z"
    },
    "papermill": {
     "duration": 0.550062,
     "end_time": "2022-02-24T12:46:47.767917",
     "exception": false,
     "start_time": "2022-02-24T12:46:47.217855",
     "status": "completed"
    },
    "tags": []
   },
   "outputs": [
    {
     "data": {
      "image/png": "[encoded data removed]",
      "text/plain": [
       "<Figure size 720x504 with 1 Axes>"
      ]
     },
     "metadata": {
      "needs_background": "light"
     },
     "output_type": "display_data"
    }
   ],
   "source": [
    "plt.figure(figsize=(10,7))\n",
    "ax = sns.countplot(x='Product_Category_2', data=df_train, order=df_train['Product_Category_2'].value_counts().index)\n",
    "\n",
    "for p in ax.patches:\n",
    "    height = p.get_height()\n",
    "    ax.text(x=p.get_x()+(p.get_width()/2),\n",
    "            y=height+1000,\n",
    "            s=height,\n",
    "            ha='center',\n",
    "            va='baseline'\n",
    "           )\n",
    "plt.show()"
   ]
  },
  {
   "cell_type": "code",
   "execution_count": 27,
   "id": "f16d8466",
   "metadata": {
    "execution": {
     "iopub.execute_input": "2022-02-24T12:46:47.910761Z",
     "iopub.status.busy": "2022-02-24T12:46:47.909776Z",
     "iopub.status.idle": "2022-02-24T12:46:47.922450Z",
     "shell.execute_reply": "2022-02-24T12:46:47.922950Z",
     "shell.execute_reply.started": "2022-02-24T12:21:46.957242Z"
    },
    "papermill": {
     "duration": 0.086205,
     "end_time": "2022-02-24T12:46:47.923143",
     "exception": false,
     "start_time": "2022-02-24T12:46:47.836938",
     "status": "completed"
    },
    "tags": []
   },
   "outputs": [
    {
     "data": {
      "text/plain": [
       "16.0    32636\n",
       "15.0    28013\n",
       "14.0    18428\n",
       "17.0    16702\n",
       "5.0     16658\n",
       "8.0     12562\n",
       "9.0     11579\n",
       "12.0     9246\n",
       "13.0     5459\n",
       "6.0      4890\n",
       "18.0     4629\n",
       "4.0      1875\n",
       "11.0     1805\n",
       "10.0     1726\n",
       "3.0       613\n",
       "Name: Product_Category_3, dtype: int64"
      ]
     },
     "execution_count": 27,
     "metadata": {},
     "output_type": "execute_result"
    }
   ],
   "source": [
    "df_train['Product_Category_3'].value_counts()"
   ]
  },
  {
   "cell_type": "code",
   "execution_count": 28,
   "id": "6baa871d",
   "metadata": {
    "execution": {
     "iopub.execute_input": "2022-02-24T12:46:48.070134Z",
     "iopub.status.busy": "2022-02-24T12:46:48.069162Z",
     "iopub.status.idle": "2022-02-24T12:46:48.385302Z",
     "shell.execute_reply": "2022-02-24T12:46:48.385788Z",
     "shell.execute_reply.started": "2022-02-24T12:21:46.975138Z"
    },
    "papermill": {
     "duration": 0.392671,
     "end_time": "2022-02-24T12:46:48.385955",
     "exception": false,
     "start_time": "2022-02-24T12:46:47.993284",
     "status": "completed"
    },
    "tags": []
   },
   "outputs": [
    {
     "data": {
      "image/png": "[encoded data removed]",
      "text/plain": [
       "<Figure size 720x504 with 1 Axes>"
      ]
     },
     "metadata": {
      "needs_background": "light"
     },
     "output_type": "display_data"
    }
   ],
   "source": [
    "plt.figure(figsize=(10,7))\n",
    "ax = sns.countplot(x='Product_Category_3', data=df_train, order=df_train['Product_Category_3'].value_counts().index)\n",
    "\n",
    "for p in ax.patches:\n",
    "    height = p.get_height()\n",
    "    ax.text(x=p.get_x()+(p.get_width()/2),\n",
    "            y=height+1000,\n",
    "            s=height,\n",
    "            ha='center',\n",
    "            va='baseline'\n",
    "           )\n",
    "plt.show()"
   ]
  },
  {
   "cell_type": "code",
   "execution_count": 29,
   "id": "f5689528",
   "metadata": {
    "execution": {
     "iopub.execute_input": "2022-02-24T12:46:48.531705Z",
     "iopub.status.busy": "2022-02-24T12:46:48.530715Z",
     "iopub.status.idle": "2022-02-24T12:46:51.563681Z",
     "shell.execute_reply": "2022-02-24T12:46:51.563140Z",
     "shell.execute_reply.started": "2022-02-24T12:21:47.240899Z"
    },
    "papermill": {
     "duration": 3.107441,
     "end_time": "2022-02-24T12:46:51.563828",
     "exception": false,
     "start_time": "2022-02-24T12:46:48.456387",
     "status": "completed"
    },
    "tags": []
   },
   "outputs": [
    {
     "data": {
      "image/png": "[encoded data removed]",
      "text/plain": [
       "<Figure size 360x360 with 1 Axes>"
      ]
     },
     "metadata": {
      "needs_background": "light"
     },
     "output_type": "display_data"
    }
   ],
   "source": [
    "sns.displot(df_train['Purchase'], kde=True, kind='hist')\n",
    "plt.show()"
   ]
  },
  {
   "cell_type": "markdown",
   "id": "6691bf1e",
   "metadata": {
    "papermill": {
     "duration": 0.072074,
     "end_time": "2022-02-24T12:46:51.708374",
     "exception": false,
     "start_time": "2022-02-24T12:46:51.636300",
     "status": "completed"
    },
    "tags": []
   },
   "source": [
    "Lets drop the Null values in product category"
   ]
  },
  {
   "cell_type": "code",
   "execution_count": 30,
   "id": "2cdb7c85",
   "metadata": {
    "execution": {
     "iopub.execute_input": "2022-02-24T12:46:51.857602Z",
     "iopub.status.busy": "2022-02-24T12:46:51.856960Z",
     "iopub.status.idle": "2022-02-24T12:46:51.860224Z",
     "shell.execute_reply": "2022-02-24T12:46:51.860719Z",
     "shell.execute_reply.started": "2022-02-24T12:21:50.033624Z"
    },
    "papermill": {
     "duration": 0.08028,
     "end_time": "2022-02-24T12:46:51.860886",
     "exception": false,
     "start_time": "2022-02-24T12:46:51.780606",
     "status": "completed"
    },
    "tags": []
   },
   "outputs": [
    {
     "name": "stdout",
     "output_type": "stream",
     "text": [
      "Shape of df_train before dropping nulls: (550068, 12)\n"
     ]
    }
   ],
   "source": [
    "print('Shape of df_train before dropping nulls:', df_train.shape)"
   ]
  },
  {
   "cell_type": "code",
   "execution_count": 31,
   "id": "b69b622d",
   "metadata": {
    "execution": {
     "iopub.execute_input": "2022-02-24T12:46:52.020916Z",
     "iopub.status.busy": "2022-02-24T12:46:52.020171Z",
     "iopub.status.idle": "2022-02-24T12:46:52.050147Z",
     "shell.execute_reply": "2022-02-24T12:46:52.049565Z",
     "shell.execute_reply.started": "2022-02-24T12:21:50.041134Z"
    },
    "papermill": {
     "duration": 0.115784,
     "end_time": "2022-02-24T12:46:52.050313",
     "exception": false,
     "start_time": "2022-02-24T12:46:51.934529",
     "status": "completed"
    },
    "tags": []
   },
   "outputs": [],
   "source": [
    "#df_train.dropna(inplace=True, axis=0)\n",
    "#dropping the Product_Category_3 columns has it has 67% nulls\n",
    "df_train.drop(['Product_Category_3'], axis=1, inplace=True)"
   ]
  },
  {
   "cell_type": "code",
   "execution_count": 32,
   "id": "f3f46b70",
   "metadata": {
    "execution": {
     "iopub.execute_input": "2022-02-24T12:46:52.200686Z",
     "iopub.status.busy": "2022-02-24T12:46:52.199975Z",
     "iopub.status.idle": "2022-02-24T12:46:52.544809Z",
     "shell.execute_reply": "2022-02-24T12:46:52.544140Z",
     "shell.execute_reply.started": "2022-02-24T12:21:50.084239Z"
    },
    "papermill": {
     "duration": 0.422235,
     "end_time": "2022-02-24T12:46:52.544957",
     "exception": false,
     "start_time": "2022-02-24T12:46:52.122722",
     "status": "completed"
    },
    "tags": []
   },
   "outputs": [],
   "source": [
    "#dropping null rows from Product_Category_2\n",
    "df_train.dropna(axis=0, inplace=True)"
   ]
  },
  {
   "cell_type": "code",
   "execution_count": 33,
   "id": "b7b4fcca",
   "metadata": {
    "execution": {
     "iopub.execute_input": "2022-02-24T12:46:52.693319Z",
     "iopub.status.busy": "2022-02-24T12:46:52.692615Z",
     "iopub.status.idle": "2022-02-24T12:46:52.697043Z",
     "shell.execute_reply": "2022-02-24T12:46:52.697691Z",
     "shell.execute_reply.started": "2022-02-24T12:21:50.242765Z"
    },
    "papermill": {
     "duration": 0.080272,
     "end_time": "2022-02-24T12:46:52.697863",
     "exception": false,
     "start_time": "2022-02-24T12:46:52.617591",
     "status": "completed"
    },
    "tags": []
   },
   "outputs": [
    {
     "name": "stdout",
     "output_type": "stream",
     "text": [
      "Shape of df_train after dropping nulls: (376430, 11)\n"
     ]
    }
   ],
   "source": [
    "print('Shape of df_train after dropping nulls:', df_train.shape)"
   ]
  },
  {
   "cell_type": "markdown",
   "id": "fe9ada3f",
   "metadata": {
    "papermill": {
     "duration": 0.07277,
     "end_time": "2022-02-24T12:46:52.843639",
     "exception": false,
     "start_time": "2022-02-24T12:46:52.770869",
     "status": "completed"
    },
    "tags": []
   },
   "source": [
    "So, after dropping we have around 68% data for model training"
   ]
  },
  {
   "cell_type": "code",
   "execution_count": 34,
   "id": "b7ebf160",
   "metadata": {
    "execution": {
     "iopub.execute_input": "2022-02-24T12:46:52.994686Z",
     "iopub.status.busy": "2022-02-24T12:46:52.994028Z",
     "iopub.status.idle": "2022-02-24T12:46:53.206699Z",
     "shell.execute_reply": "2022-02-24T12:46:53.207307Z",
     "shell.execute_reply.started": "2022-02-24T12:21:50.250731Z"
    },
    "papermill": {
     "duration": 0.289972,
     "end_time": "2022-02-24T12:46:53.207479",
     "exception": false,
     "start_time": "2022-02-24T12:46:52.917507",
     "status": "completed"
    },
    "tags": []
   },
   "outputs": [
    {
     "name": "stdout",
     "output_type": "stream",
     "text": [
      "<class 'pandas.core.frame.DataFrame'>\n",
      "Int64Index: 376430 entries, 1 to 545914\n",
      "Data columns (total 11 columns):\n",
      " #   Column                      Non-Null Count   Dtype  \n",
      "---  ------                      --------------   -----  \n",
      " 0   User_ID                     376430 non-null  int64  \n",
      " 1   Product_ID                  376430 non-null  object \n",
      " 2   Gender                      376430 non-null  object \n",
      " 3   Age                         376430 non-null  object \n",
      " 4   Occupation                  376430 non-null  int64  \n",
      " 5   City_Category               376430 non-null  object \n",
      " 6   Stay_In_Current_City_Years  376430 non-null  object \n",
      " 7   Marital_Status              376430 non-null  int64  \n",
      " 8   Product_Category_1          376430 non-null  int64  \n",
      " 9   Product_Category_2          376430 non-null  float64\n",
      " 10  Purchase                    376430 non-null  int64  \n",
      "dtypes: float64(1), int64(5), object(5)\n",
      "memory usage: 34.5+ MB\n"
     ]
    }
   ],
   "source": [
    "#checking the dataset\n",
    "df_train.info()"
   ]
  },
  {
   "cell_type": "code",
   "execution_count": 35,
   "id": "118f3599",
   "metadata": {
    "execution": {
     "iopub.execute_input": "2022-02-24T12:46:53.357962Z",
     "iopub.status.busy": "2022-02-24T12:46:53.357314Z",
     "iopub.status.idle": "2022-02-24T12:46:53.565128Z",
     "shell.execute_reply": "2022-02-24T12:46:53.565639Z",
     "shell.execute_reply.started": "2022-02-24T12:21:50.351531Z"
    },
    "papermill": {
     "duration": 0.285477,
     "end_time": "2022-02-24T12:46:53.565812",
     "exception": false,
     "start_time": "2022-02-24T12:46:53.280335",
     "status": "completed"
    },
    "tags": []
   },
   "outputs": [
    {
     "data": {
      "text/plain": [
       "User_ID                       0\n",
       "Product_ID                    0\n",
       "Gender                        0\n",
       "Age                           0\n",
       "Occupation                    0\n",
       "City_Category                 0\n",
       "Stay_In_Current_City_Years    0\n",
       "Marital_Status                0\n",
       "Product_Category_1            0\n",
       "Product_Category_2            0\n",
       "Purchase                      0\n",
       "dtype: int64"
      ]
     },
     "execution_count": 35,
     "metadata": {},
     "output_type": "execute_result"
    }
   ],
   "source": [
    "df_train.isnull().sum()"
   ]
  },
  {
   "cell_type": "markdown",
   "id": "976dd1aa",
   "metadata": {
    "papermill": {
     "duration": 0.073258,
     "end_time": "2022-02-24T12:46:53.712432",
     "exception": false,
     "start_time": "2022-02-24T12:46:53.639174",
     "status": "completed"
    },
    "tags": []
   },
   "source": [
    "## Test Data EDA"
   ]
  },
  {
   "cell_type": "code",
   "execution_count": 36,
   "id": "42edd68d",
   "metadata": {
    "execution": {
     "iopub.execute_input": "2022-02-24T12:46:53.862512Z",
     "iopub.status.busy": "2022-02-24T12:46:53.861772Z",
     "iopub.status.idle": "2022-02-24T12:46:53.866073Z",
     "shell.execute_reply": "2022-02-24T12:46:53.866733Z",
     "shell.execute_reply.started": "2022-02-24T12:21:50.442098Z"
    },
    "papermill": {
     "duration": 0.08123,
     "end_time": "2022-02-24T12:46:53.866911",
     "exception": false,
     "start_time": "2022-02-24T12:46:53.785681",
     "status": "completed"
    },
    "tags": []
   },
   "outputs": [
    {
     "data": {
      "text/plain": [
       "(233599, 11)"
      ]
     },
     "execution_count": 36,
     "metadata": {},
     "output_type": "execute_result"
    }
   ],
   "source": [
    "#checking the shape of test data\n",
    "df_test.shape"
   ]
  },
  {
   "cell_type": "code",
   "execution_count": 37,
   "id": "82e485d2",
   "metadata": {
    "execution": {
     "iopub.execute_input": "2022-02-24T12:46:54.017340Z",
     "iopub.status.busy": "2022-02-24T12:46:54.016698Z",
     "iopub.status.idle": "2022-02-24T12:46:54.149712Z",
     "shell.execute_reply": "2022-02-24T12:46:54.150254Z",
     "shell.execute_reply.started": "2022-02-24T12:21:50.452356Z"
    },
    "papermill": {
     "duration": 0.209967,
     "end_time": "2022-02-24T12:46:54.150444",
     "exception": false,
     "start_time": "2022-02-24T12:46:53.940477",
     "status": "completed"
    },
    "tags": []
   },
   "outputs": [
    {
     "data": {
      "text/plain": [
       "User_ID                            0\n",
       "Product_ID                         0\n",
       "Gender                             0\n",
       "Age                                0\n",
       "Occupation                         0\n",
       "City_Category                      0\n",
       "Stay_In_Current_City_Years         0\n",
       "Marital_Status                     0\n",
       "Product_Category_1                 0\n",
       "Product_Category_2             72344\n",
       "Product_Category_3            162562\n",
       "dtype: int64"
      ]
     },
     "execution_count": 37,
     "metadata": {},
     "output_type": "execute_result"
    }
   ],
   "source": [
    "#checking Nulls\n",
    "df_test.isnull().sum()"
   ]
  },
  {
   "cell_type": "markdown",
   "id": "bbd4c1ea",
   "metadata": {
    "papermill": {
     "duration": 0.073968,
     "end_time": "2022-02-24T12:46:54.298683",
     "exception": false,
     "start_time": "2022-02-24T12:46:54.224715",
     "status": "completed"
    },
    "tags": []
   },
   "source": [
    "**Product_Category_2** & **Product_Category_3** has missing values, applying the same logic as done above:\n",
    "\n",
    "- Drop Product_Category_3\n",
    "- Drop the null values from Product_Category_3"
   ]
  },
  {
   "cell_type": "code",
   "execution_count": 38,
   "id": "30398bf4",
   "metadata": {
    "execution": {
     "iopub.execute_input": "2022-02-24T12:46:54.450421Z",
     "iopub.status.busy": "2022-02-24T12:46:54.449755Z",
     "iopub.status.idle": "2022-02-24T12:46:54.464101Z",
     "shell.execute_reply": "2022-02-24T12:46:54.464643Z",
     "shell.execute_reply.started": "2022-02-24T12:21:50.515292Z"
    },
    "papermill": {
     "duration": 0.09171,
     "end_time": "2022-02-24T12:46:54.464818",
     "exception": false,
     "start_time": "2022-02-24T12:46:54.373108",
     "status": "completed"
    },
    "tags": []
   },
   "outputs": [
    {
     "data": {
      "text/html": [
       "<div>\n",
       "<style scoped>\n",
       "    .dataframe tbody tr th:only-of-type {\n",
       "        vertical-align: middle;\n",
       "    }\n",
       "\n",
       "    .dataframe tbody tr th {\n",
       "        vertical-align: top;\n",
       "    }\n",
       "\n",
       "    .dataframe thead th {\n",
       "        text-align: right;\n",
       "    }\n",
       "</style>\n",
       "<table border=\"1\" class=\"dataframe\">\n",
       "  <thead>\n",
       "    <tr style=\"text-align: right;\">\n",
       "      <th></th>\n",
       "      <th>User_ID</th>\n",
       "      <th>Product_ID</th>\n",
       "      <th>Gender</th>\n",
       "      <th>Age</th>\n",
       "      <th>Occupation</th>\n",
       "      <th>City_Category</th>\n",
       "      <th>Stay_In_Current_City_Years</th>\n",
       "      <th>Marital_Status</th>\n",
       "      <th>Product_Category_1</th>\n",
       "      <th>Product_Category_2</th>\n",
       "      <th>Product_Category_3</th>\n",
       "    </tr>\n",
       "  </thead>\n",
       "  <tbody>\n",
       "    <tr>\n",
       "      <th>0</th>\n",
       "      <td>1000004</td>\n",
       "      <td>P00128942</td>\n",
       "      <td>M</td>\n",
       "      <td>46-50</td>\n",
       "      <td>7</td>\n",
       "      <td>B</td>\n",
       "      <td>2</td>\n",
       "      <td>1</td>\n",
       "      <td>1</td>\n",
       "      <td>11.0</td>\n",
       "      <td>NaN</td>\n",
       "    </tr>\n",
       "    <tr>\n",
       "      <th>1</th>\n",
       "      <td>1000009</td>\n",
       "      <td>P00113442</td>\n",
       "      <td>M</td>\n",
       "      <td>26-35</td>\n",
       "      <td>17</td>\n",
       "      <td>C</td>\n",
       "      <td>0</td>\n",
       "      <td>0</td>\n",
       "      <td>3</td>\n",
       "      <td>5.0</td>\n",
       "      <td>NaN</td>\n",
       "    </tr>\n",
       "    <tr>\n",
       "      <th>2</th>\n",
       "      <td>1000010</td>\n",
       "      <td>P00288442</td>\n",
       "      <td>F</td>\n",
       "      <td>36-45</td>\n",
       "      <td>1</td>\n",
       "      <td>B</td>\n",
       "      <td>4+</td>\n",
       "      <td>1</td>\n",
       "      <td>5</td>\n",
       "      <td>14.0</td>\n",
       "      <td>NaN</td>\n",
       "    </tr>\n",
       "    <tr>\n",
       "      <th>3</th>\n",
       "      <td>1000010</td>\n",
       "      <td>P00145342</td>\n",
       "      <td>F</td>\n",
       "      <td>36-45</td>\n",
       "      <td>1</td>\n",
       "      <td>B</td>\n",
       "      <td>4+</td>\n",
       "      <td>1</td>\n",
       "      <td>4</td>\n",
       "      <td>9.0</td>\n",
       "      <td>NaN</td>\n",
       "    </tr>\n",
       "    <tr>\n",
       "      <th>4</th>\n",
       "      <td>1000011</td>\n",
       "      <td>P00053842</td>\n",
       "      <td>F</td>\n",
       "      <td>26-35</td>\n",
       "      <td>1</td>\n",
       "      <td>C</td>\n",
       "      <td>1</td>\n",
       "      <td>0</td>\n",
       "      <td>4</td>\n",
       "      <td>5.0</td>\n",
       "      <td>12.0</td>\n",
       "    </tr>\n",
       "  </tbody>\n",
       "</table>\n",
       "</div>"
      ],
      "text/plain": [
       "   User_ID Product_ID Gender    Age  Occupation City_Category  \\\n",
       "0  1000004  P00128942      M  46-50           7             B   \n",
       "1  1000009  P00113442      M  26-35          17             C   \n",
       "2  1000010  P00288442      F  36-45           1             B   \n",
       "3  1000010  P00145342      F  36-45           1             B   \n",
       "4  1000011  P00053842      F  26-35           1             C   \n",
       "\n",
       "  Stay_In_Current_City_Years  Marital_Status  Product_Category_1  \\\n",
       "0                          2               1                   1   \n",
       "1                          0               0                   3   \n",
       "2                         4+               1                   5   \n",
       "3                         4+               1                   4   \n",
       "4                          1               0                   4   \n",
       "\n",
       "   Product_Category_2  Product_Category_3  \n",
       "0                11.0                 NaN  \n",
       "1                 5.0                 NaN  \n",
       "2                14.0                 NaN  \n",
       "3                 9.0                 NaN  \n",
       "4                 5.0                12.0  "
      ]
     },
     "execution_count": 38,
     "metadata": {},
     "output_type": "execute_result"
    }
   ],
   "source": [
    "df_test.head()"
   ]
  },
  {
   "cell_type": "code",
   "execution_count": 39,
   "id": "0f0916ee",
   "metadata": {
    "execution": {
     "iopub.execute_input": "2022-02-24T12:46:54.619295Z",
     "iopub.status.busy": "2022-02-24T12:46:54.618652Z",
     "iopub.status.idle": "2022-02-24T12:46:54.642456Z",
     "shell.execute_reply": "2022-02-24T12:46:54.641812Z",
     "shell.execute_reply.started": "2022-02-24T12:21:50.533912Z"
    },
    "papermill": {
     "duration": 0.102127,
     "end_time": "2022-02-24T12:46:54.642599",
     "exception": false,
     "start_time": "2022-02-24T12:46:54.540472",
     "status": "completed"
    },
    "tags": []
   },
   "outputs": [
    {
     "data": {
      "text/html": [
       "<div>\n",
       "<style scoped>\n",
       "    .dataframe tbody tr th:only-of-type {\n",
       "        vertical-align: middle;\n",
       "    }\n",
       "\n",
       "    .dataframe tbody tr th {\n",
       "        vertical-align: top;\n",
       "    }\n",
       "\n",
       "    .dataframe thead th {\n",
       "        text-align: right;\n",
       "    }\n",
       "</style>\n",
       "<table border=\"1\" class=\"dataframe\">\n",
       "  <thead>\n",
       "    <tr style=\"text-align: right;\">\n",
       "      <th></th>\n",
       "      <th>User_ID</th>\n",
       "      <th>Product_ID</th>\n",
       "      <th>Gender</th>\n",
       "      <th>Age</th>\n",
       "      <th>Occupation</th>\n",
       "      <th>City_Category</th>\n",
       "      <th>Stay_In_Current_City_Years</th>\n",
       "      <th>Marital_Status</th>\n",
       "      <th>Product_Category_1</th>\n",
       "      <th>Product_Category_2</th>\n",
       "    </tr>\n",
       "  </thead>\n",
       "  <tbody>\n",
       "    <tr>\n",
       "      <th>0</th>\n",
       "      <td>1000004</td>\n",
       "      <td>P00128942</td>\n",
       "      <td>M</td>\n",
       "      <td>46-50</td>\n",
       "      <td>7</td>\n",
       "      <td>B</td>\n",
       "      <td>2</td>\n",
       "      <td>1</td>\n",
       "      <td>1</td>\n",
       "      <td>11.0</td>\n",
       "    </tr>\n",
       "    <tr>\n",
       "      <th>1</th>\n",
       "      <td>1000009</td>\n",
       "      <td>P00113442</td>\n",
       "      <td>M</td>\n",
       "      <td>26-35</td>\n",
       "      <td>17</td>\n",
       "      <td>C</td>\n",
       "      <td>0</td>\n",
       "      <td>0</td>\n",
       "      <td>3</td>\n",
       "      <td>5.0</td>\n",
       "    </tr>\n",
       "    <tr>\n",
       "      <th>2</th>\n",
       "      <td>1000010</td>\n",
       "      <td>P00288442</td>\n",
       "      <td>F</td>\n",
       "      <td>36-45</td>\n",
       "      <td>1</td>\n",
       "      <td>B</td>\n",
       "      <td>4+</td>\n",
       "      <td>1</td>\n",
       "      <td>5</td>\n",
       "      <td>14.0</td>\n",
       "    </tr>\n",
       "    <tr>\n",
       "      <th>3</th>\n",
       "      <td>1000010</td>\n",
       "      <td>P00145342</td>\n",
       "      <td>F</td>\n",
       "      <td>36-45</td>\n",
       "      <td>1</td>\n",
       "      <td>B</td>\n",
       "      <td>4+</td>\n",
       "      <td>1</td>\n",
       "      <td>4</td>\n",
       "      <td>9.0</td>\n",
       "    </tr>\n",
       "    <tr>\n",
       "      <th>4</th>\n",
       "      <td>1000011</td>\n",
       "      <td>P00053842</td>\n",
       "      <td>F</td>\n",
       "      <td>26-35</td>\n",
       "      <td>1</td>\n",
       "      <td>C</td>\n",
       "      <td>1</td>\n",
       "      <td>0</td>\n",
       "      <td>4</td>\n",
       "      <td>5.0</td>\n",
       "    </tr>\n",
       "  </tbody>\n",
       "</table>\n",
       "</div>"
      ],
      "text/plain": [
       "   User_ID Product_ID Gender    Age  Occupation City_Category  \\\n",
       "0  1000004  P00128942      M  46-50           7             B   \n",
       "1  1000009  P00113442      M  26-35          17             C   \n",
       "2  1000010  P00288442      F  36-45           1             B   \n",
       "3  1000010  P00145342      F  36-45           1             B   \n",
       "4  1000011  P00053842      F  26-35           1             C   \n",
       "\n",
       "  Stay_In_Current_City_Years  Marital_Status  Product_Category_1  \\\n",
       "0                          2               1                   1   \n",
       "1                          0               0                   3   \n",
       "2                         4+               1                   5   \n",
       "3                         4+               1                   4   \n",
       "4                          1               0                   4   \n",
       "\n",
       "   Product_Category_2  \n",
       "0                11.0  \n",
       "1                 5.0  \n",
       "2                14.0  \n",
       "3                 9.0  \n",
       "4                 5.0  "
      ]
     },
     "execution_count": 39,
     "metadata": {},
     "output_type": "execute_result"
    }
   ],
   "source": [
    "#dropping Product_Category_3\n",
    "df_test.drop('Product_Category_3',axis=1, inplace=True)\n",
    "df_test.head()"
   ]
  },
  {
   "cell_type": "code",
   "execution_count": 40,
   "id": "35031974",
   "metadata": {
    "execution": {
     "iopub.execute_input": "2022-02-24T12:46:54.796294Z",
     "iopub.status.busy": "2022-02-24T12:46:54.795654Z",
     "iopub.status.idle": "2022-02-24T12:46:55.026751Z",
     "shell.execute_reply": "2022-02-24T12:46:55.027373Z",
     "shell.execute_reply.started": "2022-02-24T12:22:51.685912Z"
    },
    "papermill": {
     "duration": 0.309727,
     "end_time": "2022-02-24T12:46:55.027553",
     "exception": false,
     "start_time": "2022-02-24T12:46:54.717826",
     "status": "completed"
    },
    "tags": []
   },
   "outputs": [
    {
     "data": {
      "text/plain": [
       "User_ID                       0\n",
       "Product_ID                    0\n",
       "Gender                        0\n",
       "Age                           0\n",
       "Occupation                    0\n",
       "City_Category                 0\n",
       "Stay_In_Current_City_Years    0\n",
       "Marital_Status                0\n",
       "Product_Category_1            0\n",
       "Product_Category_2            0\n",
       "dtype: int64"
      ]
     },
     "execution_count": 40,
     "metadata": {},
     "output_type": "execute_result"
    }
   ],
   "source": [
    "df_test.dropna(axis=0, inplace=True)\n",
    "df_test.isnull().sum()"
   ]
  },
  {
   "cell_type": "markdown",
   "id": "3ff3b830",
   "metadata": {
    "papermill": {
     "duration": 0.075274,
     "end_time": "2022-02-24T12:46:55.178581",
     "exception": false,
     "start_time": "2022-02-24T12:46:55.103307",
     "status": "completed"
    },
    "tags": []
   },
   "source": [
    "Now the dataset is Nulls free, lets perform EDA"
   ]
  },
  {
   "cell_type": "code",
   "execution_count": 41,
   "id": "e279b497",
   "metadata": {
    "execution": {
     "iopub.execute_input": "2022-02-24T12:46:55.333483Z",
     "iopub.status.busy": "2022-02-24T12:46:55.332818Z",
     "iopub.status.idle": "2022-02-24T12:46:55.432502Z",
     "shell.execute_reply": "2022-02-24T12:46:55.433090Z",
     "shell.execute_reply.started": "2022-02-24T12:23:31.859329Z"
    },
    "papermill": {
     "duration": 0.17897,
     "end_time": "2022-02-24T12:46:55.433277",
     "exception": false,
     "start_time": "2022-02-24T12:46:55.254307",
     "status": "completed"
    },
    "tags": []
   },
   "outputs": [
    {
     "name": "stdout",
     "output_type": "stream",
     "text": [
      "<class 'pandas.core.frame.DataFrame'>\n",
      "Int64Index: 161255 entries, 0 to 233598\n",
      "Data columns (total 10 columns):\n",
      " #   Column                      Non-Null Count   Dtype  \n",
      "---  ------                      --------------   -----  \n",
      " 0   User_ID                     161255 non-null  int64  \n",
      " 1   Product_ID                  161255 non-null  object \n",
      " 2   Gender                      161255 non-null  object \n",
      " 3   Age                         161255 non-null  object \n",
      " 4   Occupation                  161255 non-null  int64  \n",
      " 5   City_Category               161255 non-null  object \n",
      " 6   Stay_In_Current_City_Years  161255 non-null  object \n",
      " 7   Marital_Status              161255 non-null  int64  \n",
      " 8   Product_Category_1          161255 non-null  int64  \n",
      " 9   Product_Category_2          161255 non-null  float64\n",
      "dtypes: float64(1), int64(4), object(5)\n",
      "memory usage: 13.5+ MB\n"
     ]
    }
   ],
   "source": [
    "df_test.info()"
   ]
  },
  {
   "cell_type": "code",
   "execution_count": 42,
   "id": "8ce9714b",
   "metadata": {
    "execution": {
     "iopub.execute_input": "2022-02-24T12:46:55.591072Z",
     "iopub.status.busy": "2022-02-24T12:46:55.590426Z",
     "iopub.status.idle": "2022-02-24T12:46:55.596515Z",
     "shell.execute_reply": "2022-02-24T12:46:55.597030Z",
     "shell.execute_reply.started": "2022-02-24T12:26:39.642833Z"
    },
    "papermill": {
     "duration": 0.087086,
     "end_time": "2022-02-24T12:46:55.597206",
     "exception": false,
     "start_time": "2022-02-24T12:46:55.510120",
     "status": "completed"
    },
    "tags": []
   },
   "outputs": [
    {
     "data": {
      "text/plain": [
       "5877"
      ]
     },
     "execution_count": 42,
     "metadata": {},
     "output_type": "execute_result"
    }
   ],
   "source": [
    "df_test['User_ID'].nunique()"
   ]
  },
  {
   "cell_type": "markdown",
   "id": "8c6099ac",
   "metadata": {
    "papermill": {
     "duration": 0.076079,
     "end_time": "2022-02-24T12:46:55.749723",
     "exception": false,
     "start_time": "2022-02-24T12:46:55.673644",
     "status": "completed"
    },
    "tags": []
   },
   "source": [
    "There are **5877** unique user id's "
   ]
  },
  {
   "cell_type": "code",
   "execution_count": 43,
   "id": "7d3fea85",
   "metadata": {
    "execution": {
     "iopub.execute_input": "2022-02-24T12:46:55.917837Z",
     "iopub.status.busy": "2022-02-24T12:46:55.917190Z",
     "iopub.status.idle": "2022-02-24T12:46:55.924924Z",
     "shell.execute_reply": "2022-02-24T12:46:55.925469Z",
     "shell.execute_reply.started": "2022-02-24T12:27:34.859973Z"
    },
    "papermill": {
     "duration": 0.099691,
     "end_time": "2022-02-24T12:46:55.925645",
     "exception": false,
     "start_time": "2022-02-24T12:46:55.825954",
     "status": "completed"
    },
    "tags": []
   },
   "outputs": [
    {
     "data": {
      "text/plain": [
       "1772"
      ]
     },
     "execution_count": 43,
     "metadata": {},
     "output_type": "execute_result"
    }
   ],
   "source": [
    "df_test['Product_ID'].nunique()"
   ]
  },
  {
   "cell_type": "markdown",
   "id": "ba4f0334",
   "metadata": {
    "papermill": {
     "duration": 0.076558,
     "end_time": "2022-02-24T12:46:56.079115",
     "exception": false,
     "start_time": "2022-02-24T12:46:56.002557",
     "status": "completed"
    },
    "tags": []
   },
   "source": [
    "There are **1772** unique product id's in the test dataset"
   ]
  },
  {
   "cell_type": "code",
   "execution_count": null,
   "id": "884da131",
   "metadata": {
    "papermill": {
     "duration": 0.076723,
     "end_time": "2022-02-24T12:46:56.232487",
     "exception": false,
     "start_time": "2022-02-24T12:46:56.155764",
     "status": "completed"
    },
    "tags": []
   },
   "outputs": [],
   "source": []
  }
 ],
 "metadata": {
  "kernelspec": {
   "display_name": "Python 3",
   "language": "python",
   "name": "python3"
  },
  "language_info": {
   "codemirror_mode": {
    "name": "ipython",
    "version": 3
   },
   "file_extension": ".py",
   "mimetype": "text/x-python",
   "name": "python",
   "nbconvert_exporter": "python",
   "pygments_lexer": "ipython3",
   "version": "3.7.12"
  },
  "papermill": {
   "default_parameters": {},
   "duration": 32.346537,
   "end_time": "2022-02-24T12:46:57.019715",
   "environment_variables": {},
   "exception": null,
   "input_path": "__notebook__.ipynb",
   "output_path": "__notebook__.ipynb",
   "parameters": {},
   "start_time": "2022-02-24T12:46:24.673178",
   "version": "2.3.3"
  }
 },
 "nbformat": 4,
 "nbformat_minor": 5
}
